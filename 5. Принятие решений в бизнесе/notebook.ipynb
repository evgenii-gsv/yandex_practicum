{
 "cells": [
  {
   "cell_type": "markdown",
   "id": "63b51b8a",
   "metadata": {},
   "source": [
    "# Приоритизация гипотез и анализ A/B-теста"
   ]
  },
  {
   "cell_type": "markdown",
   "id": "9080db88",
   "metadata": {},
   "source": [
    "**Постановка задачи**\n",
    "\n",
    "Заказчик исследования - крупный интернет-магазин. Отделом аналитики был составлен список гипотез для увеличения выручки. Нам необходимо приоритизировать гипотезы, а затем провести анализ результатов A/B-теста.\n",
    "\n",
    "**Описание данных**\n",
    "\n",
    "hypothesis.csv\n",
    "- `Hypothesis` — краткое описание гипотезы;\n",
    "- `Reach` — охват пользователей по 10-балльной шкале;\n",
    "- `Impact` — влияние на пользователей по 10-балльной шкале;\n",
    "- `Confidence` — уверенность в гипотезе по 10-балльной шкале;\n",
    "- `Efforts` — затраты ресурсов на проверку гипотезы по 10-балльной шкале. Чем больше значение Efforts, тем дороже проверка гипотезы.\n",
    "\n",
    "orders.csv\n",
    "- `transactionId` — идентификатор заказа;\n",
    "- `visitorId` — идентификатор пользователя, совершившего заказ;\n",
    "- `date` — дата, когда был совершён заказ;\n",
    "- `revenue` — выручка заказа;\n",
    "- `group` — группа A/B-теста, в которую попал заказ.\n",
    "\n",
    "visitors.csv\n",
    "- `date` — дата;\n",
    "- `group` — группа A/B-теста;\n",
    "- `visitors` — количество пользователей в указанную дату в указанной группе A/B-теста"
   ]
  },
  {
   "cell_type": "markdown",
   "id": "11e60fc6",
   "metadata": {
    "toc": true
   },
   "source": [
    "<h1>Содержание<span class=\"tocSkip\"></span></h1>\n",
    "<div class=\"toc\"><ul class=\"toc-item\"><li><span><a href=\"#Импорт-библиотек\" data-toc-modified-id=\"Импорт-библиотек-0\"><span class=\"toc-item-num\">0&nbsp;&nbsp;</span>Импорт библиотек</a></span></li><li><span><a href=\"#Приоритизация-гипотез\" data-toc-modified-id=\"Приоритизация-гипотез-1\"><span class=\"toc-item-num\">1&nbsp;&nbsp;</span>Приоритизация гипотез</a></span><ul class=\"toc-item\"><li><span><a href=\"#Получение-данных\" data-toc-modified-id=\"Получение-данных-1.1\"><span class=\"toc-item-num\">1.1&nbsp;&nbsp;</span>Получение данных</a></span></li><li><span><a href=\"#Фреймворк-ICE\" data-toc-modified-id=\"Фреймворк-ICE-1.2\"><span class=\"toc-item-num\">1.2&nbsp;&nbsp;</span>Фреймворк ICE</a></span></li><li><span><a href=\"#Фреймворк-RICE\" data-toc-modified-id=\"Фреймворк-RICE-1.3\"><span class=\"toc-item-num\">1.3&nbsp;&nbsp;</span>Фреймворк RICE</a></span></li></ul></li><li><span><a href=\"#Анализ-A/B-теста\" data-toc-modified-id=\"Анализ-A/B-теста-2\"><span class=\"toc-item-num\">2&nbsp;&nbsp;</span>Анализ A/B-теста</a></span><ul class=\"toc-item\"><li><span><a href=\"#Получение-данных\" data-toc-modified-id=\"Получение-данных-2.1\"><span class=\"toc-item-num\">2.1&nbsp;&nbsp;</span>Получение данных</a></span></li><li><span><a href=\"#График-кумулятивной-выручки\" data-toc-modified-id=\"График-кумулятивной-выручки-2.2\"><span class=\"toc-item-num\">2.2&nbsp;&nbsp;</span>График кумулятивной выручки</a></span></li><li><span><a href=\"#График-кумулятивного-среднего-чека\" data-toc-modified-id=\"График-кумулятивного-среднего-чека-2.3\"><span class=\"toc-item-num\">2.3&nbsp;&nbsp;</span>График кумулятивного среднего чека</a></span></li><li><span><a href=\"#График-относительного-изменения-кумулятивного-среднего-чека-группы-B-к-группе-A\" data-toc-modified-id=\"График-относительного-изменения-кумулятивного-среднего-чека-группы-B-к-группе-A-2.4\"><span class=\"toc-item-num\">2.4&nbsp;&nbsp;</span>График относительного изменения кумулятивного среднего чека группы B к группе A</a></span></li><li><span><a href=\"#График-кумулятивного-среднего-количества-заказов\" data-toc-modified-id=\"График-кумулятивного-среднего-количества-заказов-2.5\"><span class=\"toc-item-num\">2.5&nbsp;&nbsp;</span>График кумулятивного среднего количества заказов</a></span></li><li><span><a href=\"#График-относительного-изменения-кумулятивного-среднего-количества-заказов\" data-toc-modified-id=\"График-относительного-изменения-кумулятивного-среднего-количества-заказов-2.6\"><span class=\"toc-item-num\">2.6&nbsp;&nbsp;</span>График относительного изменения кумулятивного среднего количества заказов</a></span></li><li><span><a href=\"#Точечный-график-количества-заказов-по-пользователям\" data-toc-modified-id=\"Точечный-график-количества-заказов-по-пользователям-2.7\"><span class=\"toc-item-num\">2.7&nbsp;&nbsp;</span>Точечный график количества заказов по пользователям</a></span></li><li><span><a href=\"#Точечный-график-стоимостей-заказов\" data-toc-modified-id=\"Точечный-график-стоимостей-заказов-2.8\"><span class=\"toc-item-num\">2.8&nbsp;&nbsp;</span>Точечный график стоимостей заказов</a></span></li><li><span><a href=\"#Статистическая-значимость-различий-по-&quot;сырым&quot;-данным\" data-toc-modified-id=\"Статистическая-значимость-различий-по-&quot;сырым&quot;-данным-2.9\"><span class=\"toc-item-num\">2.9&nbsp;&nbsp;</span>Статистическая значимость различий по \"сырым\" данным</a></span></li><li><span><a href=\"#Статистическая-значимость-различий-по-&quot;отфильтрованным&quot;-данным\" data-toc-modified-id=\"Статистическая-значимость-различий-по-&quot;отфильтрованным&quot;-данным-2.10\"><span class=\"toc-item-num\">2.10&nbsp;&nbsp;</span>Статистическая значимость различий по \"отфильтрованным\" данным</a></span></li></ul></li><li><span><a href=\"#Вывод\" data-toc-modified-id=\"Вывод-3\"><span class=\"toc-item-num\">3&nbsp;&nbsp;</span>Вывод</a></span></li></ul></div>"
   ]
  },
  {
   "cell_type": "markdown",
   "id": "6de1419f",
   "metadata": {},
   "source": [
    "## Импорт библиотек"
   ]
  },
  {
   "cell_type": "code",
   "execution_count": 1,
   "id": "16e0823c",
   "metadata": {},
   "outputs": [
    {
     "name": "stdout",
     "output_type": "stream",
     "text": [
      "Библиотеки импортированы\n"
     ]
    }
   ],
   "source": [
    "import pandas as pd\n",
    "import datetime as dt\n",
    "import numpy as np\n",
    "import matplotlib.pyplot as plt\n",
    "from pandas.plotting import register_matplotlib_converters\n",
    "import scipy.stats as stats\n",
    "print('Библиотеки импортированы')"
   ]
  },
  {
   "cell_type": "code",
   "execution_count": 2,
   "id": "5db3e2ec",
   "metadata": {},
   "outputs": [],
   "source": [
    "register_matplotlib_converters()"
   ]
  },
  {
   "cell_type": "markdown",
   "id": "23e4d962",
   "metadata": {},
   "source": [
    "## Приоритизация гипотез"
   ]
  },
  {
   "cell_type": "markdown",
   "id": "4a2bfc07",
   "metadata": {},
   "source": [
    "### Получение данных"
   ]
  },
  {
   "cell_type": "code",
   "execution_count": 3,
   "id": "b430c94e",
   "metadata": {},
   "outputs": [
    {
     "data": {
      "text/html": [
       "<div>\n",
       "<style scoped>\n",
       "    .dataframe tbody tr th:only-of-type {\n",
       "        vertical-align: middle;\n",
       "    }\n",
       "\n",
       "    .dataframe tbody tr th {\n",
       "        vertical-align: top;\n",
       "    }\n",
       "\n",
       "    .dataframe thead th {\n",
       "        text-align: right;\n",
       "    }\n",
       "</style>\n",
       "<table border=\"1\" class=\"dataframe\">\n",
       "  <thead>\n",
       "    <tr style=\"text-align: right;\">\n",
       "      <th></th>\n",
       "      <th>Hypothesis</th>\n",
       "      <th>Reach</th>\n",
       "      <th>Impact</th>\n",
       "      <th>Confidence</th>\n",
       "      <th>Efforts</th>\n",
       "    </tr>\n",
       "  </thead>\n",
       "  <tbody>\n",
       "    <tr>\n",
       "      <th>0</th>\n",
       "      <td>Добавить два новых канала привлечения трафика,...</td>\n",
       "      <td>3</td>\n",
       "      <td>10</td>\n",
       "      <td>8</td>\n",
       "      <td>6</td>\n",
       "    </tr>\n",
       "    <tr>\n",
       "      <th>1</th>\n",
       "      <td>Запустить собственную службу доставки, что сок...</td>\n",
       "      <td>2</td>\n",
       "      <td>5</td>\n",
       "      <td>4</td>\n",
       "      <td>10</td>\n",
       "    </tr>\n",
       "    <tr>\n",
       "      <th>2</th>\n",
       "      <td>Добавить блоки рекомендаций товаров на сайт ин...</td>\n",
       "      <td>8</td>\n",
       "      <td>3</td>\n",
       "      <td>7</td>\n",
       "      <td>3</td>\n",
       "    </tr>\n",
       "    <tr>\n",
       "      <th>3</th>\n",
       "      <td>Изменить структура категорий, что увеличит кон...</td>\n",
       "      <td>8</td>\n",
       "      <td>3</td>\n",
       "      <td>3</td>\n",
       "      <td>8</td>\n",
       "    </tr>\n",
       "    <tr>\n",
       "      <th>4</th>\n",
       "      <td>Изменить цвет фона главной страницы, чтобы уве...</td>\n",
       "      <td>3</td>\n",
       "      <td>1</td>\n",
       "      <td>1</td>\n",
       "      <td>1</td>\n",
       "    </tr>\n",
       "    <tr>\n",
       "      <th>5</th>\n",
       "      <td>Добавить страницу отзывов клиентов о магазине,...</td>\n",
       "      <td>3</td>\n",
       "      <td>2</td>\n",
       "      <td>2</td>\n",
       "      <td>3</td>\n",
       "    </tr>\n",
       "    <tr>\n",
       "      <th>6</th>\n",
       "      <td>Показать на главной странице баннеры с актуаль...</td>\n",
       "      <td>5</td>\n",
       "      <td>3</td>\n",
       "      <td>8</td>\n",
       "      <td>3</td>\n",
       "    </tr>\n",
       "    <tr>\n",
       "      <th>7</th>\n",
       "      <td>Добавить форму подписки на все основные страни...</td>\n",
       "      <td>10</td>\n",
       "      <td>7</td>\n",
       "      <td>8</td>\n",
       "      <td>5</td>\n",
       "    </tr>\n",
       "    <tr>\n",
       "      <th>8</th>\n",
       "      <td>Запустить акцию, дающую скидку на товар в день...</td>\n",
       "      <td>1</td>\n",
       "      <td>9</td>\n",
       "      <td>9</td>\n",
       "      <td>5</td>\n",
       "    </tr>\n",
       "  </tbody>\n",
       "</table>\n",
       "</div>"
      ],
      "text/plain": [
       "                                          Hypothesis  Reach  Impact  \\\n",
       "0  Добавить два новых канала привлечения трафика,...      3      10   \n",
       "1  Запустить собственную службу доставки, что сок...      2       5   \n",
       "2  Добавить блоки рекомендаций товаров на сайт ин...      8       3   \n",
       "3  Изменить структура категорий, что увеличит кон...      8       3   \n",
       "4  Изменить цвет фона главной страницы, чтобы уве...      3       1   \n",
       "5  Добавить страницу отзывов клиентов о магазине,...      3       2   \n",
       "6  Показать на главной странице баннеры с актуаль...      5       3   \n",
       "7  Добавить форму подписки на все основные страни...     10       7   \n",
       "8  Запустить акцию, дающую скидку на товар в день...      1       9   \n",
       "\n",
       "   Confidence  Efforts  \n",
       "0           8        6  \n",
       "1           4       10  \n",
       "2           7        3  \n",
       "3           3        8  \n",
       "4           1        1  \n",
       "5           2        3  \n",
       "6           8        3  \n",
       "7           8        5  \n",
       "8           9        5  "
      ]
     },
     "execution_count": 3,
     "metadata": {},
     "output_type": "execute_result"
    }
   ],
   "source": [
    "hypothesis = pd.read_csv('https://code.s3.yandex.net/datasets/hypothesis.csv')\n",
    "hypothesis"
   ]
  },
  {
   "cell_type": "code",
   "execution_count": 4,
   "id": "a06cf497",
   "metadata": {},
   "outputs": [
    {
     "name": "stdout",
     "output_type": "stream",
     "text": [
      "<class 'pandas.core.frame.DataFrame'>\n",
      "RangeIndex: 9 entries, 0 to 8\n",
      "Data columns (total 5 columns):\n",
      " #   Column      Non-Null Count  Dtype \n",
      "---  ------      --------------  ----- \n",
      " 0   Hypothesis  9 non-null      object\n",
      " 1   Reach       9 non-null      int64 \n",
      " 2   Impact      9 non-null      int64 \n",
      " 3   Confidence  9 non-null      int64 \n",
      " 4   Efforts     9 non-null      int64 \n",
      "dtypes: int64(4), object(1)\n",
      "memory usage: 488.0+ bytes\n"
     ]
    }
   ],
   "source": [
    "hypothesis.info()"
   ]
  },
  {
   "cell_type": "markdown",
   "id": "e4c497a3",
   "metadata": {},
   "source": [
    "### Фреймворк ICE"
   ]
  },
  {
   "cell_type": "code",
   "execution_count": 5,
   "id": "52bb291c",
   "metadata": {},
   "outputs": [
    {
     "data": {
      "text/html": [
       "<style  type=\"text/css\" >\n",
       "</style><table id=\"T_f22ae_\" ><thead>    <tr>        <th class=\"blank level0\" ></th>        <th class=\"col_heading level0 col0\" >Hypothesis</th>        <th class=\"col_heading level0 col1\" >ICE</th>    </tr></thead><tbody>\n",
       "                <tr>\n",
       "                        <th id=\"T_f22ae_level0_row0\" class=\"row_heading level0 row0\" >8</th>\n",
       "                        <td id=\"T_f22ae_row0_col0\" class=\"data row0 col0\" >Запустить акцию, дающую скидку на товар в день рождения</td>\n",
       "                        <td id=\"T_f22ae_row0_col1\" class=\"data row0 col1\" >16.200</td>\n",
       "            </tr>\n",
       "            <tr>\n",
       "                        <th id=\"T_f22ae_level0_row1\" class=\"row_heading level0 row1\" >0</th>\n",
       "                        <td id=\"T_f22ae_row1_col0\" class=\"data row1 col0\" >Добавить два новых канала привлечения трафика, что позволит привлекать на 30% больше пользователей</td>\n",
       "                        <td id=\"T_f22ae_row1_col1\" class=\"data row1 col1\" >13.333</td>\n",
       "            </tr>\n",
       "            <tr>\n",
       "                        <th id=\"T_f22ae_level0_row2\" class=\"row_heading level0 row2\" >7</th>\n",
       "                        <td id=\"T_f22ae_row2_col0\" class=\"data row2 col0\" >Добавить форму подписки на все основные страницы, чтобы собрать базу клиентов для email-рассылок</td>\n",
       "                        <td id=\"T_f22ae_row2_col1\" class=\"data row2 col1\" >11.200</td>\n",
       "            </tr>\n",
       "            <tr>\n",
       "                        <th id=\"T_f22ae_level0_row3\" class=\"row_heading level0 row3\" >6</th>\n",
       "                        <td id=\"T_f22ae_row3_col0\" class=\"data row3 col0\" >Показать на главной странице баннеры с актуальными акциями и распродажами, чтобы увеличить конверсию</td>\n",
       "                        <td id=\"T_f22ae_row3_col1\" class=\"data row3 col1\" >8.000</td>\n",
       "            </tr>\n",
       "            <tr>\n",
       "                        <th id=\"T_f22ae_level0_row4\" class=\"row_heading level0 row4\" >2</th>\n",
       "                        <td id=\"T_f22ae_row4_col0\" class=\"data row4 col0\" >Добавить блоки рекомендаций товаров на сайт интернет магазина, чтобы повысить конверсию и средний чек заказа</td>\n",
       "                        <td id=\"T_f22ae_row4_col1\" class=\"data row4 col1\" >7.000</td>\n",
       "            </tr>\n",
       "            <tr>\n",
       "                        <th id=\"T_f22ae_level0_row5\" class=\"row_heading level0 row5\" >1</th>\n",
       "                        <td id=\"T_f22ae_row5_col0\" class=\"data row5 col0\" >Запустить собственную службу доставки, что сократит срок доставки заказов</td>\n",
       "                        <td id=\"T_f22ae_row5_col1\" class=\"data row5 col1\" >2.000</td>\n",
       "            </tr>\n",
       "            <tr>\n",
       "                        <th id=\"T_f22ae_level0_row6\" class=\"row_heading level0 row6\" >5</th>\n",
       "                        <td id=\"T_f22ae_row6_col0\" class=\"data row6 col0\" >Добавить страницу отзывов клиентов о магазине, что позволит увеличить количество заказов</td>\n",
       "                        <td id=\"T_f22ae_row6_col1\" class=\"data row6 col1\" >1.333</td>\n",
       "            </tr>\n",
       "            <tr>\n",
       "                        <th id=\"T_f22ae_level0_row7\" class=\"row_heading level0 row7\" >3</th>\n",
       "                        <td id=\"T_f22ae_row7_col0\" class=\"data row7 col0\" >Изменить структура категорий, что увеличит конверсию, т.к. пользователи быстрее найдут нужный товар</td>\n",
       "                        <td id=\"T_f22ae_row7_col1\" class=\"data row7 col1\" >1.125</td>\n",
       "            </tr>\n",
       "            <tr>\n",
       "                        <th id=\"T_f22ae_level0_row8\" class=\"row_heading level0 row8\" >4</th>\n",
       "                        <td id=\"T_f22ae_row8_col0\" class=\"data row8 col0\" >Изменить цвет фона главной страницы, чтобы увеличить вовлеченность пользователей</td>\n",
       "                        <td id=\"T_f22ae_row8_col1\" class=\"data row8 col1\" >1.000</td>\n",
       "            </tr>\n",
       "    </tbody></table>"
      ],
      "text/plain": [
       "<pandas.io.formats.style.Styler at 0x1776176a640>"
      ]
     },
     "execution_count": 5,
     "metadata": {},
     "output_type": "execute_result"
    }
   ],
   "source": [
    "hypothesis['ICE'] = (\n",
    "    hypothesis['Impact'] *\n",
    "    hypothesis['Confidence']\n",
    ") / hypothesis['Efforts']\n",
    "hypothesis[['Hypothesis', 'ICE']].sort_values('ICE', ascending=False).style.format({'ICE':'{:.3f}'})"
   ]
  },
  {
   "cell_type": "markdown",
   "id": "058de148",
   "metadata": {},
   "source": [
    "При использовании фреймворка ICE наиболее перспективной является гипотеза с индексом 8: `Запустить акцию, дающую скидку на товар в день рождения`"
   ]
  },
  {
   "cell_type": "markdown",
   "id": "a326e6f9",
   "metadata": {},
   "source": [
    "### Фреймворк RICE"
   ]
  },
  {
   "cell_type": "code",
   "execution_count": 6,
   "id": "cbbe947d",
   "metadata": {},
   "outputs": [
    {
     "data": {
      "text/html": [
       "<style  type=\"text/css\" >\n",
       "</style><table id=\"T_db5e2_\" ><thead>    <tr>        <th class=\"blank level0\" ></th>        <th class=\"col_heading level0 col0\" >Hypothesis</th>        <th class=\"col_heading level0 col1\" >RICE</th>    </tr></thead><tbody>\n",
       "                <tr>\n",
       "                        <th id=\"T_db5e2_level0_row0\" class=\"row_heading level0 row0\" >7</th>\n",
       "                        <td id=\"T_db5e2_row0_col0\" class=\"data row0 col0\" >Добавить форму подписки на все основные страницы, чтобы собрать базу клиентов для email-рассылок</td>\n",
       "                        <td id=\"T_db5e2_row0_col1\" class=\"data row0 col1\" >112</td>\n",
       "            </tr>\n",
       "            <tr>\n",
       "                        <th id=\"T_db5e2_level0_row1\" class=\"row_heading level0 row1\" >2</th>\n",
       "                        <td id=\"T_db5e2_row1_col0\" class=\"data row1 col0\" >Добавить блоки рекомендаций товаров на сайт интернет магазина, чтобы повысить конверсию и средний чек заказа</td>\n",
       "                        <td id=\"T_db5e2_row1_col1\" class=\"data row1 col1\" >56</td>\n",
       "            </tr>\n",
       "            <tr>\n",
       "                        <th id=\"T_db5e2_level0_row2\" class=\"row_heading level0 row2\" >0</th>\n",
       "                        <td id=\"T_db5e2_row2_col0\" class=\"data row2 col0\" >Добавить два новых канала привлечения трафика, что позволит привлекать на 30% больше пользователей</td>\n",
       "                        <td id=\"T_db5e2_row2_col1\" class=\"data row2 col1\" >40</td>\n",
       "            </tr>\n",
       "            <tr>\n",
       "                        <th id=\"T_db5e2_level0_row3\" class=\"row_heading level0 row3\" >6</th>\n",
       "                        <td id=\"T_db5e2_row3_col0\" class=\"data row3 col0\" >Показать на главной странице баннеры с актуальными акциями и распродажами, чтобы увеличить конверсию</td>\n",
       "                        <td id=\"T_db5e2_row3_col1\" class=\"data row3 col1\" >40</td>\n",
       "            </tr>\n",
       "            <tr>\n",
       "                        <th id=\"T_db5e2_level0_row4\" class=\"row_heading level0 row4\" >8</th>\n",
       "                        <td id=\"T_db5e2_row4_col0\" class=\"data row4 col0\" >Запустить акцию, дающую скидку на товар в день рождения</td>\n",
       "                        <td id=\"T_db5e2_row4_col1\" class=\"data row4 col1\" >16</td>\n",
       "            </tr>\n",
       "            <tr>\n",
       "                        <th id=\"T_db5e2_level0_row5\" class=\"row_heading level0 row5\" >3</th>\n",
       "                        <td id=\"T_db5e2_row5_col0\" class=\"data row5 col0\" >Изменить структура категорий, что увеличит конверсию, т.к. пользователи быстрее найдут нужный товар</td>\n",
       "                        <td id=\"T_db5e2_row5_col1\" class=\"data row5 col1\" >9</td>\n",
       "            </tr>\n",
       "            <tr>\n",
       "                        <th id=\"T_db5e2_level0_row6\" class=\"row_heading level0 row6\" >1</th>\n",
       "                        <td id=\"T_db5e2_row6_col0\" class=\"data row6 col0\" >Запустить собственную службу доставки, что сократит срок доставки заказов</td>\n",
       "                        <td id=\"T_db5e2_row6_col1\" class=\"data row6 col1\" >4</td>\n",
       "            </tr>\n",
       "            <tr>\n",
       "                        <th id=\"T_db5e2_level0_row7\" class=\"row_heading level0 row7\" >5</th>\n",
       "                        <td id=\"T_db5e2_row7_col0\" class=\"data row7 col0\" >Добавить страницу отзывов клиентов о магазине, что позволит увеличить количество заказов</td>\n",
       "                        <td id=\"T_db5e2_row7_col1\" class=\"data row7 col1\" >4</td>\n",
       "            </tr>\n",
       "            <tr>\n",
       "                        <th id=\"T_db5e2_level0_row8\" class=\"row_heading level0 row8\" >4</th>\n",
       "                        <td id=\"T_db5e2_row8_col0\" class=\"data row8 col0\" >Изменить цвет фона главной страницы, чтобы увеличить вовлеченность пользователей</td>\n",
       "                        <td id=\"T_db5e2_row8_col1\" class=\"data row8 col1\" >3</td>\n",
       "            </tr>\n",
       "    </tbody></table>"
      ],
      "text/plain": [
       "<pandas.io.formats.style.Styler at 0x177728ef4c0>"
      ]
     },
     "execution_count": 6,
     "metadata": {},
     "output_type": "execute_result"
    }
   ],
   "source": [
    "hypothesis['RICE'] = (\n",
    "    hypothesis['Reach'] *\n",
    "    hypothesis['Impact'] *\n",
    "    hypothesis['Confidence']\n",
    ") / hypothesis['Efforts']\n",
    "hypothesis[['Hypothesis', 'RICE']].sort_values('RICE', ascending=False).style.format({'RICE':'{:.0f}'})"
   ]
  },
  {
   "cell_type": "markdown",
   "id": "8d19468e",
   "metadata": {},
   "source": [
    "Результаты изменились при использовании фреймворка RICE, так как гипотеза, связанная с днём рождения клиентов, затронет очень низкое количество клиентов. При использовании RICE на первое место вышла гипотеза `Добавить форму подписки на все основные страницы, чтобы собрать базу клиентов для email-рассылок`. \n",
    "\n",
    "Первой мы проверим именно эту гипотезу, для этого запустим A/B-тест и проанализируем его результаты."
   ]
  },
  {
   "cell_type": "markdown",
   "id": "5bb8cdbe",
   "metadata": {},
   "source": [
    "## Анализ A/B-теста"
   ]
  },
  {
   "cell_type": "markdown",
   "id": "b663b635",
   "metadata": {},
   "source": [
    "### Получение данных"
   ]
  },
  {
   "cell_type": "code",
   "execution_count": 7,
   "id": "e60d22b9",
   "metadata": {},
   "outputs": [
    {
     "data": {
      "text/html": [
       "<div>\n",
       "<style scoped>\n",
       "    .dataframe tbody tr th:only-of-type {\n",
       "        vertical-align: middle;\n",
       "    }\n",
       "\n",
       "    .dataframe tbody tr th {\n",
       "        vertical-align: top;\n",
       "    }\n",
       "\n",
       "    .dataframe thead th {\n",
       "        text-align: right;\n",
       "    }\n",
       "</style>\n",
       "<table border=\"1\" class=\"dataframe\">\n",
       "  <thead>\n",
       "    <tr style=\"text-align: right;\">\n",
       "      <th></th>\n",
       "      <th>transactionId</th>\n",
       "      <th>visitorId</th>\n",
       "      <th>date</th>\n",
       "      <th>revenue</th>\n",
       "      <th>group</th>\n",
       "    </tr>\n",
       "  </thead>\n",
       "  <tbody>\n",
       "    <tr>\n",
       "      <th>0</th>\n",
       "      <td>3667963787</td>\n",
       "      <td>3312258926</td>\n",
       "      <td>2019-08-15</td>\n",
       "      <td>1650</td>\n",
       "      <td>B</td>\n",
       "    </tr>\n",
       "    <tr>\n",
       "      <th>1</th>\n",
       "      <td>2804400009</td>\n",
       "      <td>3642806036</td>\n",
       "      <td>2019-08-15</td>\n",
       "      <td>730</td>\n",
       "      <td>B</td>\n",
       "    </tr>\n",
       "    <tr>\n",
       "      <th>2</th>\n",
       "      <td>2961555356</td>\n",
       "      <td>4069496402</td>\n",
       "      <td>2019-08-15</td>\n",
       "      <td>400</td>\n",
       "      <td>A</td>\n",
       "    </tr>\n",
       "    <tr>\n",
       "      <th>3</th>\n",
       "      <td>3797467345</td>\n",
       "      <td>1196621759</td>\n",
       "      <td>2019-08-15</td>\n",
       "      <td>9759</td>\n",
       "      <td>B</td>\n",
       "    </tr>\n",
       "    <tr>\n",
       "      <th>4</th>\n",
       "      <td>2282983706</td>\n",
       "      <td>2322279887</td>\n",
       "      <td>2019-08-15</td>\n",
       "      <td>2308</td>\n",
       "      <td>B</td>\n",
       "    </tr>\n",
       "  </tbody>\n",
       "</table>\n",
       "</div>"
      ],
      "text/plain": [
       "   transactionId   visitorId        date  revenue group\n",
       "0     3667963787  3312258926  2019-08-15     1650     B\n",
       "1     2804400009  3642806036  2019-08-15      730     B\n",
       "2     2961555356  4069496402  2019-08-15      400     A\n",
       "3     3797467345  1196621759  2019-08-15     9759     B\n",
       "4     2282983706  2322279887  2019-08-15     2308     B"
      ]
     },
     "execution_count": 7,
     "metadata": {},
     "output_type": "execute_result"
    }
   ],
   "source": [
    "orders = pd.read_csv('https://code.s3.yandex.net/datasets/orders.csv')\n",
    "orders.head()"
   ]
  },
  {
   "cell_type": "code",
   "execution_count": 8,
   "id": "b317b554",
   "metadata": {},
   "outputs": [
    {
     "name": "stdout",
     "output_type": "stream",
     "text": [
      "<class 'pandas.core.frame.DataFrame'>\n",
      "RangeIndex: 1197 entries, 0 to 1196\n",
      "Data columns (total 5 columns):\n",
      " #   Column         Non-Null Count  Dtype \n",
      "---  ------         --------------  ----- \n",
      " 0   transactionId  1197 non-null   int64 \n",
      " 1   visitorId      1197 non-null   int64 \n",
      " 2   date           1197 non-null   object\n",
      " 3   revenue        1197 non-null   int64 \n",
      " 4   group          1197 non-null   object\n",
      "dtypes: int64(3), object(2)\n",
      "memory usage: 46.9+ KB\n"
     ]
    }
   ],
   "source": [
    "orders.info()"
   ]
  },
  {
   "cell_type": "code",
   "execution_count": 9,
   "id": "bd24f15f",
   "metadata": {},
   "outputs": [
    {
     "data": {
      "text/plain": [
       "Timestamp('2019-08-01 00:00:00')"
      ]
     },
     "metadata": {},
     "output_type": "display_data"
    },
    {
     "data": {
      "text/plain": [
       "Timestamp('2019-08-31 00:00:00')"
      ]
     },
     "metadata": {},
     "output_type": "display_data"
    }
   ],
   "source": [
    "# переведём дату в тип datetime\n",
    "orders['date'] = orders['date'].map(\n",
    "    lambda x: dt.datetime.strptime(x, '%Y-%m-%d')\n",
    ")\n",
    "display(orders['date'].min(), orders['date'].max())"
   ]
  },
  {
   "cell_type": "code",
   "execution_count": 10,
   "id": "0ee18238",
   "metadata": {},
   "outputs": [
    {
     "data": {
      "text/plain": [
       "0"
      ]
     },
     "execution_count": 10,
     "metadata": {},
     "output_type": "execute_result"
    }
   ],
   "source": [
    "# проверим, есть ли в данных дубликаты\n",
    "orders.duplicated().sum()"
   ]
  },
  {
   "cell_type": "markdown",
   "id": "9bbdf5b8",
   "metadata": {},
   "source": [
    "Проверим по таблице заказов, есть ли пользователи, которые попали в обе группы A/B-теста."
   ]
  },
  {
   "cell_type": "code",
   "execution_count": 11,
   "id": "bc79e773",
   "metadata": {},
   "outputs": [
    {
     "data": {
      "text/plain": [
       "58"
      ]
     },
     "execution_count": 11,
     "metadata": {},
     "output_type": "execute_result"
    }
   ],
   "source": [
    "double_group_users = orders.groupby('visitorId', as_index=False).agg({'group': 'nunique'})\n",
    "double_group_users[double_group_users['group'] == 2]['visitorId'].count()"
   ]
  },
  {
   "cell_type": "code",
   "execution_count": 12,
   "id": "729265b1",
   "metadata": {},
   "outputs": [
    {
     "data": {
      "text/plain": [
       "181"
      ]
     },
     "execution_count": 12,
     "metadata": {},
     "output_type": "execute_result"
    }
   ],
   "source": [
    "# проверим, сколько заказов сделали пользователи, попавшие в обе группы\n",
    "orders[orders['visitorId'].isin(double_group_users[double_group_users['group'] == 2]['visitorId'])].shape[0]"
   ]
  },
  {
   "cell_type": "markdown",
   "id": "70e647ac",
   "metadata": {},
   "source": [
    "У нас есть 58 пользователей, которые вошли и в группу A, и в группу B. Наличие таких пользователей говорит о том, что при подготовке и проведении A/B-теста были допущены ошибки. Всего такие пользователи совершили 181 заказ. Это может исказить результаты исследовния."
   ]
  },
  {
   "cell_type": "code",
   "execution_count": 13,
   "id": "89f86fd3",
   "metadata": {},
   "outputs": [
    {
     "data": {
      "text/html": [
       "<div>\n",
       "<style scoped>\n",
       "    .dataframe tbody tr th:only-of-type {\n",
       "        vertical-align: middle;\n",
       "    }\n",
       "\n",
       "    .dataframe tbody tr th {\n",
       "        vertical-align: top;\n",
       "    }\n",
       "\n",
       "    .dataframe thead th {\n",
       "        text-align: right;\n",
       "    }\n",
       "</style>\n",
       "<table border=\"1\" class=\"dataframe\">\n",
       "  <thead>\n",
       "    <tr style=\"text-align: right;\">\n",
       "      <th></th>\n",
       "      <th>date</th>\n",
       "      <th>group</th>\n",
       "      <th>visitors</th>\n",
       "    </tr>\n",
       "  </thead>\n",
       "  <tbody>\n",
       "    <tr>\n",
       "      <th>0</th>\n",
       "      <td>2019-08-01</td>\n",
       "      <td>A</td>\n",
       "      <td>719</td>\n",
       "    </tr>\n",
       "    <tr>\n",
       "      <th>1</th>\n",
       "      <td>2019-08-02</td>\n",
       "      <td>A</td>\n",
       "      <td>619</td>\n",
       "    </tr>\n",
       "    <tr>\n",
       "      <th>2</th>\n",
       "      <td>2019-08-03</td>\n",
       "      <td>A</td>\n",
       "      <td>507</td>\n",
       "    </tr>\n",
       "    <tr>\n",
       "      <th>3</th>\n",
       "      <td>2019-08-04</td>\n",
       "      <td>A</td>\n",
       "      <td>717</td>\n",
       "    </tr>\n",
       "    <tr>\n",
       "      <th>4</th>\n",
       "      <td>2019-08-05</td>\n",
       "      <td>A</td>\n",
       "      <td>756</td>\n",
       "    </tr>\n",
       "  </tbody>\n",
       "</table>\n",
       "</div>"
      ],
      "text/plain": [
       "         date group  visitors\n",
       "0  2019-08-01     A       719\n",
       "1  2019-08-02     A       619\n",
       "2  2019-08-03     A       507\n",
       "3  2019-08-04     A       717\n",
       "4  2019-08-05     A       756"
      ]
     },
     "execution_count": 13,
     "metadata": {},
     "output_type": "execute_result"
    }
   ],
   "source": [
    "visitors = pd.read_csv('https://code.s3.yandex.net/datasets/visitors.csv')\n",
    "visitors.head()"
   ]
  },
  {
   "cell_type": "code",
   "execution_count": 14,
   "id": "f5eeabdf",
   "metadata": {
    "scrolled": false
   },
   "outputs": [
    {
     "name": "stdout",
     "output_type": "stream",
     "text": [
      "<class 'pandas.core.frame.DataFrame'>\n",
      "RangeIndex: 62 entries, 0 to 61\n",
      "Data columns (total 3 columns):\n",
      " #   Column    Non-Null Count  Dtype \n",
      "---  ------    --------------  ----- \n",
      " 0   date      62 non-null     object\n",
      " 1   group     62 non-null     object\n",
      " 2   visitors  62 non-null     int64 \n",
      "dtypes: int64(1), object(2)\n",
      "memory usage: 1.6+ KB\n"
     ]
    }
   ],
   "source": [
    "visitors.info()"
   ]
  },
  {
   "cell_type": "code",
   "execution_count": 15,
   "id": "1711573b",
   "metadata": {},
   "outputs": [
    {
     "data": {
      "text/plain": [
       "Timestamp('2019-08-01 00:00:00')"
      ]
     },
     "metadata": {},
     "output_type": "display_data"
    },
    {
     "data": {
      "text/plain": [
       "Timestamp('2019-08-31 00:00:00')"
      ]
     },
     "metadata": {},
     "output_type": "display_data"
    }
   ],
   "source": [
    "# переведём дату в тип datetime\n",
    "visitors['date'] = visitors['date'].map(\n",
    "    lambda x: dt.datetime.strptime(x, '%Y-%m-%d')\n",
    ")\n",
    "display(visitors['date'].min(), visitors['date'].max())"
   ]
  },
  {
   "cell_type": "code",
   "execution_count": 16,
   "id": "545fd6b8",
   "metadata": {},
   "outputs": [
    {
     "data": {
      "text/plain": [
       "0"
      ]
     },
     "execution_count": 16,
     "metadata": {},
     "output_type": "execute_result"
    }
   ],
   "source": [
    "# проверим, есть ли в данных дубликаты\n",
    "visitors.duplicated().sum()"
   ]
  },
  {
   "cell_type": "markdown",
   "id": "903c96a5",
   "metadata": {},
   "source": [
    "### График кумулятивной выручки"
   ]
  },
  {
   "cell_type": "code",
   "execution_count": 17,
   "id": "bf5813f9",
   "metadata": {},
   "outputs": [],
   "source": [
    "# создадим массив уникальных пар значений дат и групп\n",
    "datesGroups = orders[['date', 'group']].drop_duplicates()"
   ]
  },
  {
   "cell_type": "code",
   "execution_count": 18,
   "id": "ca9fa49f",
   "metadata": {
    "scrolled": true
   },
   "outputs": [
    {
     "data": {
      "text/html": [
       "<div>\n",
       "<style scoped>\n",
       "    .dataframe tbody tr th:only-of-type {\n",
       "        vertical-align: middle;\n",
       "    }\n",
       "\n",
       "    .dataframe tbody tr th {\n",
       "        vertical-align: top;\n",
       "    }\n",
       "\n",
       "    .dataframe thead th {\n",
       "        text-align: right;\n",
       "    }\n",
       "</style>\n",
       "<table border=\"1\" class=\"dataframe\">\n",
       "  <thead>\n",
       "    <tr style=\"text-align: right;\">\n",
       "      <th></th>\n",
       "      <th>date</th>\n",
       "      <th>group</th>\n",
       "      <th>orders</th>\n",
       "      <th>buyers</th>\n",
       "      <th>revenue</th>\n",
       "      <th>visitors</th>\n",
       "    </tr>\n",
       "  </thead>\n",
       "  <tbody>\n",
       "    <tr>\n",
       "      <th>0</th>\n",
       "      <td>2019-08-01</td>\n",
       "      <td>A</td>\n",
       "      <td>24</td>\n",
       "      <td>20</td>\n",
       "      <td>148579</td>\n",
       "      <td>719</td>\n",
       "    </tr>\n",
       "    <tr>\n",
       "      <th>1</th>\n",
       "      <td>2019-08-01</td>\n",
       "      <td>B</td>\n",
       "      <td>21</td>\n",
       "      <td>20</td>\n",
       "      <td>101217</td>\n",
       "      <td>713</td>\n",
       "    </tr>\n",
       "    <tr>\n",
       "      <th>2</th>\n",
       "      <td>2019-08-02</td>\n",
       "      <td>A</td>\n",
       "      <td>44</td>\n",
       "      <td>38</td>\n",
       "      <td>242401</td>\n",
       "      <td>1338</td>\n",
       "    </tr>\n",
       "    <tr>\n",
       "      <th>3</th>\n",
       "      <td>2019-08-02</td>\n",
       "      <td>B</td>\n",
       "      <td>45</td>\n",
       "      <td>43</td>\n",
       "      <td>266748</td>\n",
       "      <td>1294</td>\n",
       "    </tr>\n",
       "    <tr>\n",
       "      <th>4</th>\n",
       "      <td>2019-08-03</td>\n",
       "      <td>A</td>\n",
       "      <td>68</td>\n",
       "      <td>62</td>\n",
       "      <td>354874</td>\n",
       "      <td>1845</td>\n",
       "    </tr>\n",
       "  </tbody>\n",
       "</table>\n",
       "</div>"
      ],
      "text/plain": [
       "        date group  orders  buyers  revenue  visitors\n",
       "0 2019-08-01     A      24      20   148579       719\n",
       "1 2019-08-01     B      21      20   101217       713\n",
       "2 2019-08-02     A      44      38   242401      1338\n",
       "3 2019-08-02     B      45      43   266748      1294\n",
       "4 2019-08-03     A      68      62   354874      1845"
      ]
     },
     "execution_count": 18,
     "metadata": {},
     "output_type": "execute_result"
    }
   ],
   "source": [
    "# cоберём агрегированные кумулятивные по дням данные о заказах\n",
    "ordersAggregated = datesGroups.apply(\n",
    "    lambda x: orders[\n",
    "        np.logical_and(\n",
    "            orders['date'] <= x['date'], orders['group'] == x['group']\n",
    "        )\n",
    "    ].agg(\n",
    "        {\n",
    "            'date': 'max',\n",
    "            'group': 'max',\n",
    "            'transactionId': 'nunique',\n",
    "            'visitorId': 'nunique',\n",
    "            'revenue': 'sum',\n",
    "        }\n",
    "    ),\n",
    "    axis=1,\n",
    ").sort_values(['date', 'group'])\n",
    "\n",
    "# cоберём агрегированные кумулятивные по дням данные о визитах\n",
    "visitorsAggregated = datesGroups.apply(\n",
    "    lambda x: visitors[\n",
    "        np.logical_and(\n",
    "            visitors['date'] <= x['date'], visitors['group'] == x['group']\n",
    "        )\n",
    "    ].agg(\n",
    "        {\n",
    "            'date': 'max',\n",
    "            'group': 'max',\n",
    "            'visitors': 'sum',\n",
    "        }\n",
    "    ),\n",
    "    axis=1,\n",
    ").sort_values(['date', 'group'])\n",
    "\n",
    "# объединим кумулятивные данные в единую таблицу\n",
    "cumulativeData = ordersAggregated.merge(\n",
    "    visitorsAggregated, left_on=['date', 'group'], right_on=['date', 'group']\n",
    ")\n",
    "cumulativeData.columns = [\n",
    "    'date',\n",
    "    'group',\n",
    "    'orders',\n",
    "    'buyers',\n",
    "    'revenue',\n",
    "    'visitors',\n",
    "]\n",
    "cumulativeData.head()"
   ]
  },
  {
   "cell_type": "code",
   "execution_count": 19,
   "id": "3d826ace",
   "metadata": {},
   "outputs": [
    {
     "data": {
      "text/plain": [
       "True"
      ]
     },
     "metadata": {},
     "output_type": "display_data"
    },
    {
     "data": {
      "text/plain": [
       "True"
      ]
     },
     "metadata": {},
     "output_type": "display_data"
    }
   ],
   "source": [
    "# убедимся, что датафрейм создан верно, проверим совпадение минимальной и максимальной даты с исходными данными\n",
    "display(cumulativeData['date'].min() == orders['date'].min(), cumulativeData['date'].max() == orders['date'].max())"
   ]
  },
  {
   "cell_type": "code",
   "execution_count": 20,
   "id": "a1b37ad6",
   "metadata": {},
   "outputs": [
    {
     "data": {
      "image/png": "[encoded data removed]",
      "text/plain": [
       "<Figure size 864x432 with 1 Axes>"
      ]
     },
     "metadata": {
      "needs_background": "light"
     },
     "output_type": "display_data"
    }
   ],
   "source": [
    "# датафрейм с кумулятивной выручкой и кумулятивным количеством заказов по дням для группы A\n",
    "cumulativeRevenueA = cumulativeData[cumulativeData['group'] == 'A'][['date', 'revenue', 'orders']]\n",
    "# датафрейм с кумулятивной выручкой и кумулятивным количеством заказов по дням для группы B\n",
    "cumulativeRevenueB = cumulativeData[cumulativeData['group'] == 'B'][['date', 'revenue', 'orders']]\n",
    "\n",
    "# строим графики\n",
    "plt.figure(figsize=(12, 6))\n",
    "plt.plot(cumulativeRevenueA['date'], cumulativeRevenueA['revenue'], label='A')\n",
    "plt.plot(cumulativeRevenueB['date'], cumulativeRevenueB['revenue'], label='B')\n",
    "plt.title('Кумулятивная выручка по дням в группах A и B')\n",
    "plt.ylabel('Выручка')\n",
    "plt.xlabel('Дата')\n",
    "plt.legend() \n",
    "plt.show()"
   ]
  },
  {
   "cell_type": "markdown",
   "id": "9564a8ff",
   "metadata": {},
   "source": [
    "По графику мы видим, что выручка равномерно увеличивается в течение всего теста, это хороший знак, однако у группы B есть место, в котором выручка сильно выросла. Это может быть связано со всплеском числа заказов, либо о появлении дорогих заказов в выборке. В дальнейшем проанализируем дополнительно такие выбросы. "
   ]
  },
  {
   "cell_type": "markdown",
   "id": "81af4869",
   "metadata": {},
   "source": [
    "### График кумулятивного среднего чека"
   ]
  },
  {
   "cell_type": "code",
   "execution_count": 21,
   "id": "2c4760fe",
   "metadata": {},
   "outputs": [
    {
     "data": {
      "image/png": "[encoded data removed]",
      "text/plain": [
       "<Figure size 864x432 with 1 Axes>"
      ]
     },
     "metadata": {
      "needs_background": "light"
     },
     "output_type": "display_data"
    }
   ],
   "source": [
    "plt.figure(figsize=(12, 6))\n",
    "plt.plot(cumulativeRevenueA['date'], cumulativeRevenueA['revenue']/cumulativeRevenueA['orders'], label='A')\n",
    "plt.plot(cumulativeRevenueB['date'], cumulativeRevenueB['revenue']/cumulativeRevenueB['orders'], label='B')\n",
    "plt.title('Кумулятивный средний чек по дням в группах A и B')\n",
    "plt.ylabel('Средний чек')\n",
    "plt.xlabel('Дата')\n",
    "plt.legend()\n",
    "plt.show()"
   ]
  },
  {
   "cell_type": "markdown",
   "id": "a9933567",
   "metadata": {},
   "source": [
    "Начиная с середины теста средний чек установился для группы A. Для группы B в середине теста произошло сильное увеличение среднего чека, возможно, в выборку попали крупные заказы. В этом случае группе требуется больше данных, чтобы прийти к реальному среднему чеку и остановится на его уровне. "
   ]
  },
  {
   "cell_type": "markdown",
   "id": "76aa1da2",
   "metadata": {},
   "source": [
    "### График относительного изменения кумулятивного среднего чека группы B к группе A"
   ]
  },
  {
   "cell_type": "code",
   "execution_count": 42,
   "id": "ce7f5157",
   "metadata": {},
   "outputs": [
    {
     "data": {
      "image/png": "[encoded data removed]",
      "text/plain": [
       "<Figure size 864x432 with 1 Axes>"
      ]
     },
     "metadata": {
      "needs_background": "light"
     },
     "output_type": "display_data"
    }
   ],
   "source": [
    "# соберём данные в едином датафрейме\n",
    "mergedCumulativeRevenue = cumulativeRevenueA.merge(\n",
    "    cumulativeRevenueB,\n",
    "    left_on='date',\n",
    "    right_on='date',\n",
    "    how='left',\n",
    "    suffixes=['A', 'B'],\n",
    ")\n",
    "# сроим график отношения средних чеков\n",
    "plt.figure(figsize=(12, 6))\n",
    "plt.plot(\n",
    "    mergedCumulativeRevenue['date'],\n",
    "    (mergedCumulativeRevenue['revenueB']/mergedCumulativeRevenue['ordersB'])/\n",
    "    (mergedCumulativeRevenue['revenueA']/mergedCumulativeRevenue['ordersA'])-1    \n",
    ")\n",
    "plt.title('Относительное изменение среднего чека по дням группы B к группе A')\n",
    "plt.xlabel('Дата')\n",
    "plt.ylabel('Средний чек группы B относительно группы A')\n",
    "plt.axhline(y=0, color='black', linestyle='--')\n",
    "plt.show()"
   ]
  },
  {
   "cell_type": "markdown",
   "id": "606dd606",
   "metadata": {},
   "source": [
    "В некоторых точках различие кумулятивного среднего чека между группами сильно скачет, это свидетельствует о наличии крупных заказов и выбросах."
   ]
  },
  {
   "cell_type": "markdown",
   "id": "95961677",
   "metadata": {},
   "source": [
    "### График кумулятивного среднего количества заказов"
   ]
  },
  {
   "cell_type": "code",
   "execution_count": 23,
   "id": "12b13484",
   "metadata": {},
   "outputs": [
    {
     "data": {
      "image/png": "[encoded data removed]",
      "text/plain": [
       "<Figure size 864x432 with 1 Axes>"
      ]
     },
     "metadata": {
      "needs_background": "light"
     },
     "output_type": "display_data"
    }
   ],
   "source": [
    "# добавим кумулятивное среднее количество заказов\n",
    "cumulativeData['averageOrders'] = cumulativeData['orders'] / cumulativeData['visitors']\n",
    "# разделим данные по группам\n",
    "cumulativeDataA = cumulativeData[cumulativeData['group'] == 'A']\n",
    "cumulativeDataB = cumulativeData[cumulativeData['group'] == 'B']\n",
    "\n",
    "# строим график среднего количества заказов\n",
    "plt.figure(figsize=(12, 6))\n",
    "plt.plot(cumulativeDataA['date'], cumulativeDataA['averageOrders'], label='A')\n",
    "plt.plot(cumulativeDataB['date'], cumulativeDataB['averageOrders'], label='B')\n",
    "plt.title('Кумулятивное среднее количество заказов по дням в группах A и B')\n",
    "plt.ylabel('Среднее количество заказов')\n",
    "plt.xlabel('Дата')\n",
    "plt.legend()\n",
    "plt.axis([dt.datetime(2019, 8, 1), dt.datetime(2019, 8, 31), 0, 0.038])\n",
    "plt.show()"
   ]
  },
  {
   "cell_type": "markdown",
   "id": "9ada758c",
   "metadata": {},
   "source": [
    "Ещё в первой половине эксперимента среднее количество заказов обеих групп выровнялось. На пятый день теста среднее количество заказов группы B стало выше, чем среднее количество заказов группы A."
   ]
  },
  {
   "cell_type": "markdown",
   "id": "39f2f7ae",
   "metadata": {},
   "source": [
    "### График относительного изменения кумулятивного среднего количества заказов"
   ]
  },
  {
   "cell_type": "code",
   "execution_count": 44,
   "id": "d24eabf0",
   "metadata": {},
   "outputs": [
    {
     "data": {
      "image/png": "[encoded data removed]",
      "text/plain": [
       "<Figure size 864x432 with 1 Axes>"
      ]
     },
     "metadata": {
      "needs_background": "light"
     },
     "output_type": "display_data"
    }
   ],
   "source": [
    "mergedCumulativeAverageOrders = cumulativeDataA[['date', 'averageOrders']].merge(\n",
    "    cumulativeDataB[['date', 'averageOrders']],\n",
    "    left_on='date',\n",
    "    right_on='date',\n",
    "    how='left',\n",
    "    suffixes=['A', 'B'],\n",
    ")\n",
    "plt.figure(figsize=(12, 6))\n",
    "plt.plot(\n",
    "    mergedCumulativeAverageOrders['date'], \n",
    "    mergedCumulativeAverageOrders['averageOrdersB'] /\n",
    "    mergedCumulativeAverageOrders['averageOrdersA'] - 1\n",
    ")\n",
    "plt.title('Относительное изменение среднего количества заказов группы B к группе A')\n",
    "plt.xlabel('Дата')\n",
    "plt.ylabel('Среднее кол-во заказов группы B относительно группы A')\n",
    "plt.axhline(y=0, color='black', linestyle='--')\n",
    "plt.axhline(y=0.15, color='grey', linestyle='--')\n",
    "plt.show()"
   ]
  },
  {
   "cell_type": "markdown",
   "id": "657f96ca",
   "metadata": {},
   "source": [
    "Среднее количество заказов группы B изначально было ниже среднего количества заказов группы A, затем вырвалось вперёд, опять остало, после чего было стабильно выше среднего количества заказов группы A. Возможно, ситуация изменится после обработки аномалий. "
   ]
  },
  {
   "cell_type": "markdown",
   "id": "141f9eb9",
   "metadata": {},
   "source": [
    "### Точечный график количества заказов по пользователям"
   ]
  },
  {
   "cell_type": "code",
   "execution_count": 25,
   "id": "e94fcc3c",
   "metadata": {},
   "outputs": [
    {
     "data": {
      "text/html": [
       "<div>\n",
       "<style scoped>\n",
       "    .dataframe tbody tr th:only-of-type {\n",
       "        vertical-align: middle;\n",
       "    }\n",
       "\n",
       "    .dataframe tbody tr th {\n",
       "        vertical-align: top;\n",
       "    }\n",
       "\n",
       "    .dataframe thead th {\n",
       "        text-align: right;\n",
       "    }\n",
       "</style>\n",
       "<table border=\"1\" class=\"dataframe\">\n",
       "  <thead>\n",
       "    <tr style=\"text-align: right;\">\n",
       "      <th></th>\n",
       "      <th>userId</th>\n",
       "      <th>orders</th>\n",
       "    </tr>\n",
       "  </thead>\n",
       "  <tbody>\n",
       "    <tr>\n",
       "      <th>1023</th>\n",
       "      <td>4256040402</td>\n",
       "      <td>11</td>\n",
       "    </tr>\n",
       "    <tr>\n",
       "      <th>591</th>\n",
       "      <td>2458001652</td>\n",
       "      <td>11</td>\n",
       "    </tr>\n",
       "    <tr>\n",
       "      <th>569</th>\n",
       "      <td>2378935119</td>\n",
       "      <td>9</td>\n",
       "    </tr>\n",
       "    <tr>\n",
       "      <th>487</th>\n",
       "      <td>2038680547</td>\n",
       "      <td>8</td>\n",
       "    </tr>\n",
       "    <tr>\n",
       "      <th>44</th>\n",
       "      <td>199603092</td>\n",
       "      <td>5</td>\n",
       "    </tr>\n",
       "    <tr>\n",
       "      <th>744</th>\n",
       "      <td>3062433592</td>\n",
       "      <td>5</td>\n",
       "    </tr>\n",
       "    <tr>\n",
       "      <th>55</th>\n",
       "      <td>237748145</td>\n",
       "      <td>5</td>\n",
       "    </tr>\n",
       "    <tr>\n",
       "      <th>917</th>\n",
       "      <td>3803269165</td>\n",
       "      <td>5</td>\n",
       "    </tr>\n",
       "    <tr>\n",
       "      <th>299</th>\n",
       "      <td>1230306981</td>\n",
       "      <td>5</td>\n",
       "    </tr>\n",
       "    <tr>\n",
       "      <th>897</th>\n",
       "      <td>3717692402</td>\n",
       "      <td>5</td>\n",
       "    </tr>\n",
       "  </tbody>\n",
       "</table>\n",
       "</div>"
      ],
      "text/plain": [
       "          userId  orders\n",
       "1023  4256040402      11\n",
       "591   2458001652      11\n",
       "569   2378935119       9\n",
       "487   2038680547       8\n",
       "44     199603092       5\n",
       "744   3062433592       5\n",
       "55     237748145       5\n",
       "917   3803269165       5\n",
       "299   1230306981       5\n",
       "897   3717692402       5"
      ]
     },
     "execution_count": 25,
     "metadata": {},
     "output_type": "execute_result"
    }
   ],
   "source": [
    "# посчитаем количество уникальных заказов на пользователя\n",
    "ordersByUsers = (\n",
    "    orders.groupby('visitorId', as_index=False)\n",
    "    .agg({'transactionId': 'nunique'})\n",
    ")\n",
    "ordersByUsers.columns = ['userId', 'orders']\n",
    "ordersByUsers.sort_values('orders', ascending=False).head(10)"
   ]
  },
  {
   "cell_type": "code",
   "execution_count": 26,
   "id": "5b121249",
   "metadata": {},
   "outputs": [
    {
     "data": {
      "image/png": "[encoded data removed]",
      "text/plain": [
       "<Figure size 864x432 with 1 Axes>"
      ]
     },
     "metadata": {
      "needs_background": "light"
     },
     "output_type": "display_data"
    }
   ],
   "source": [
    "# построим точечную диаграмму количества заказов\n",
    "x_values = pd.Series(range(0, len(ordersByUsers)))\n",
    "plt.figure(figsize=(12, 6))\n",
    "plt.scatter(x_values, ordersByUsers['orders'])\n",
    "plt.title('Диаграмма рассеяния количества заказов по пользователям')\n",
    "plt.ylabel('Количество заказов')\n",
    "plt.xlabel('Пользователи')\n",
    "plt.show()"
   ]
  },
  {
   "cell_type": "markdown",
   "id": "1697339d",
   "metadata": {},
   "source": [
    "По графику мы видим, что большинство пользователей совершило один заказ, однако довольно много пользователей совершили от 2 до 5 заказов. Чтобы понять, что из этого считать аномалиями, посчитаем 95-ый и 99-ый перцентили."
   ]
  },
  {
   "cell_type": "code",
   "execution_count": 27,
   "id": "d2159680",
   "metadata": {},
   "outputs": [
    {
     "data": {
      "text/plain": [
       "array([2., 4.])"
      ]
     },
     "execution_count": 27,
     "metadata": {},
     "output_type": "execute_result"
    }
   ],
   "source": [
    "np.percentile(ordersByUsers['orders'], [95, 99])"
   ]
  },
  {
   "cell_type": "markdown",
   "id": "17a3ef78",
   "metadata": {},
   "source": [
    "Не более 5% пользователей сделали больше 2 заказов, и не более 1% сделали больше 4 заказов. Выберем 95-ый перцентиль в качестве верхней границы количества заказов."
   ]
  },
  {
   "cell_type": "markdown",
   "id": "95d844a9",
   "metadata": {},
   "source": [
    "### Точечный график стоимостей заказов"
   ]
  },
  {
   "cell_type": "code",
   "execution_count": 37,
   "id": "81499d02",
   "metadata": {
    "scrolled": false
   },
   "outputs": [
    {
     "data": {
      "image/png": "[encoded data removed]",
      "text/plain": [
       "<Figure size 864x432 with 1 Axes>"
      ]
     },
     "metadata": {
      "needs_background": "light"
     },
     "output_type": "display_data"
    }
   ],
   "source": [
    "# построим точечную диаграмму стоимостей заказов\n",
    "x_values = pd.Series(range(0, len(orders['revenue'])))\n",
    "plt.figure(figsize=(12, 6))\n",
    "plt.scatter(x_values, orders['revenue'])\n",
    "plt.title('Диаграмма рассеяния стоимостей заказов по пользователям')\n",
    "plt.ylabel('Стоимость заказа')\n",
    "plt.xlabel('Пользователи')\n",
    "plt.show()"
   ]
  },
  {
   "cell_type": "markdown",
   "id": "2360ba6d",
   "metadata": {},
   "source": [
    "На графике мы видим явные выбросы. Ограничим график по оси Y, установив верхнюю границу в 100 тыс, чтобы рассмотреть основную часть заказов."
   ]
  },
  {
   "cell_type": "code",
   "execution_count": 38,
   "id": "277b6797",
   "metadata": {
    "scrolled": false
   },
   "outputs": [
    {
     "data": {
      "image/png": "[encoded data removed]",
      "text/plain": [
       "<Figure size 864x432 with 1 Axes>"
      ]
     },
     "metadata": {
      "needs_background": "light"
     },
     "output_type": "display_data"
    }
   ],
   "source": [
    "x_values = pd.Series(range(0, len(orders['revenue'])))\n",
    "plt.figure(figsize=(12, 6))\n",
    "plt.scatter(x_values, orders['revenue'])\n",
    "plt.ylim((0, 100000))\n",
    "plt.title('Диаграмма рассеяния стоимостей заказов по пользователям')\n",
    "plt.ylabel('Стоимость заказа')\n",
    "plt.xlabel('Пользователи')\n",
    "plt.show()"
   ]
  },
  {
   "cell_type": "markdown",
   "id": "3a601da6",
   "metadata": {},
   "source": [
    "Таким же образом посчитаем перцентили."
   ]
  },
  {
   "cell_type": "code",
   "execution_count": 30,
   "id": "cc17cd59",
   "metadata": {},
   "outputs": [
    {
     "data": {
      "text/plain": [
       "array([28000. , 58233.2])"
      ]
     },
     "execution_count": 30,
     "metadata": {},
     "output_type": "execute_result"
    }
   ],
   "source": [
    "np.percentile(orders['revenue'], [95, 99])"
   ]
  },
  {
   "cell_type": "markdown",
   "id": "d73646a7",
   "metadata": {},
   "source": [
    "Не более 5% заказов имеют стоимость выше 28 тысяч рублей, и не более 1% имеют стоимость выше 58 тысяч рублей. Возьмём 95-ый перцентиль за вернюю границу стоимости заказов, остальные заказы будет правильно отсеясть как аномальные."
   ]
  },
  {
   "cell_type": "markdown",
   "id": "bebd3079",
   "metadata": {},
   "source": [
    "### Статистическая значимость различий по \"сырым\" данным"
   ]
  },
  {
   "cell_type": "markdown",
   "id": "5d76f8d0",
   "metadata": {},
   "source": [
    "Сформулируем гипотезы. \n",
    "- Нулевая: различий в среднем количестве заказов между группами по \"сырым\" данным нет.\n",
    "- Альтернативная: различия в среднем количестве заказов между группами по \"сырым\" данным есть.\n",
    "\n",
    "\n",
    "- Нулевая: различий в среднем чеке заказов между группами по \"сырым\" данным нет.\n",
    "- Альтернативная: различия в среднем чеке между группами по \"сырым\" данным есть.\n",
    "\n",
    "Для проверки гипотез мы будем использовать **U-критерий Манна-Уитни**, это непараметрический тест, который хорошо подходит для независимых выборок небольшого размера. В качестве критического уровня статистической значимости выберем значение **0,05**."
   ]
  },
  {
   "cell_type": "markdown",
   "id": "cbe45aa1",
   "metadata": {},
   "source": [
    "Посчитаем статистическую значимость различия в среднем количестве заказов между группами.\n"
   ]
  },
  {
   "cell_type": "code",
   "execution_count": 31,
   "id": "02c4eb18",
   "metadata": {},
   "outputs": [
    {
     "name": "stdout",
     "output_type": "stream",
     "text": [
      "p-value = 0.017\n",
      "Отвергаем нулевую гипотезу\n",
      "Относительное различие = 0.138\n"
     ]
    }
   ],
   "source": [
    "# для пользователей, совершивших хотя бы 1 заказ, укажем количество заказов\n",
    "ordersByUsersA = (\n",
    "    orders[orders['group'] == 'A']\n",
    "    .groupby('visitorId', as_index=False)\n",
    "    .agg({'transactionId': pd.Series.nunique})\n",
    ")\n",
    "ordersByUsersA.columns = ['userId', 'orders']\n",
    "\n",
    "ordersByUsersB = (\n",
    "    orders[orders['group'] == 'B']\n",
    "    .groupby('visitorId', as_index=False)\n",
    "    .agg({'transactionId': pd.Series.nunique})\n",
    ")\n",
    "ordersByUsersB.columns = ['userId', 'orders']\n",
    "\n",
    "sampleA = pd.concat(\n",
    "    [ordersByUsersA['orders'], pd.Series(0, index=np.arange(visitors[visitors['group']=='A']['visitors'].sum() - len(ordersByUsersA['orders'])),\n",
    "    name='orders')],\n",
    "    axis=0\n",
    ")\n",
    "sampleB = pd.concat(\n",
    "    [ordersByUsersB['orders'], pd.Series(0, index=np.arange(visitors[visitors['group']=='B']['visitors'].sum() - len(ordersByUsersB['orders'])),\n",
    "    name='orders')],\n",
    "    axis=0\n",
    ")\n",
    "\n",
    "# проверим выборки критерием Манна-Уитни\n",
    "alpha = .05\n",
    "p_value = stats.mannwhitneyu(sampleA, sampleB)[1]\n",
    "print('p-value = {0:.3f}'.format(p_value))\n",
    "\n",
    "if p_value > alpha:\n",
    "    print('Нулевую гипотезу не отвергаем')\n",
    "else:\n",
    "    print('Отвергаем нулевую гипотезу')\n",
    "    \n",
    "print('Относительное различие = {0:.3f}'.format(sampleB.mean() / sampleA.mean() - 1))"
   ]
  },
  {
   "cell_type": "markdown",
   "id": "b896f04c",
   "metadata": {},
   "source": [
    "P-Value значительно меньше 0.05, поэтому нулевую теорию мы отвергаем. По данным анализа \"сырых\" данных мы можем сделать вывод о том, что в среднем количестве заказов между группами есть статистически значимые различия. Относительный прирост группы B к среднему количеству заказов группы A равен 13,8%."
   ]
  },
  {
   "cell_type": "markdown",
   "id": "3806dddc",
   "metadata": {},
   "source": [
    "Посчитаем статистическую значимость различия в среднем чеке заказов между группами."
   ]
  },
  {
   "cell_type": "code",
   "execution_count": 32,
   "id": "ee69d100",
   "metadata": {},
   "outputs": [
    {
     "name": "stdout",
     "output_type": "stream",
     "text": [
      "p-value = 0.729\n",
      "Нулевую гипотезу не отвергаем\n",
      "Относительное различие = 0.259\n"
     ]
    }
   ],
   "source": [
    "p_value = stats.mannwhitneyu(orders[orders['group']=='A']['revenue'], orders[orders['group']=='B']['revenue'])[1]\n",
    "print('p-value = {0:.3f}'.format(p_value))\n",
    "\n",
    "if p_value > alpha:\n",
    "    print('Нулевую гипотезу не отвергаем')\n",
    "else:\n",
    "    print('Отвергаем нулевую гипотезу')\n",
    "    \n",
    "print('Относительное различие = {0:.3f}'.format(\n",
    "    orders[orders['group']=='B']['revenue'].mean() / orders[orders['group']=='A']['revenue'].mean()-1))"
   ]
  },
  {
   "cell_type": "markdown",
   "id": "94555993",
   "metadata": {},
   "source": [
    "P-Value значительно выше 0,05, значит, нет причин отвергать нулевую гипотезу и считать, что по \"сырым\" данным в среднем чеке между группами есть различия. Таким образом относительные различия в среднем чеке получены случайным образом."
   ]
  },
  {
   "cell_type": "markdown",
   "id": "eee101dd",
   "metadata": {},
   "source": [
    "### Статистическая значимость различий по \"отфильтрованным\" данным"
   ]
  },
  {
   "cell_type": "markdown",
   "id": "aaf50cff",
   "metadata": {},
   "source": [
    "Сформулируем гипотезы. \n",
    "- Нулевая: различий в среднем количестве заказов между группами по \"отфильтрованным\" данным нет.\n",
    "- Альтернативная: различия в среднем количестве заказов между группами по \"отфильтрованным\" данным есть.\n",
    "\n",
    "\n",
    "- Нулевая: различий в среднем чеке заказов между группами по \"отфильтрованным\" данным нет.\n",
    "- Альтернативная: различия в среднем чеке между группами по \"отфильтрованным\" данным есть.\n",
    "\n",
    "Для проверки гипотез снова используем **U-критерий Манна-Уитни**, критический уровень статистической значимости - **0,05**."
   ]
  },
  {
   "cell_type": "markdown",
   "id": "d5786bfb",
   "metadata": {},
   "source": [
    "Для \"фильтрации\" данных найдём всех пользователей, которые совершили более 2 заказов, а также пользователей, которые совершили заказы дороже 28000 р."
   ]
  },
  {
   "cell_type": "code",
   "execution_count": 33,
   "id": "f4771e9f",
   "metadata": {},
   "outputs": [
    {
     "data": {
      "text/plain": [
       "1099    148427295\n",
       "18      199603092\n",
       "928     204675465\n",
       "23      237748145\n",
       "37      249864742\n",
       "dtype: int64"
      ]
     },
     "metadata": {},
     "output_type": "display_data"
    },
    {
     "name": "stdout",
     "output_type": "stream",
     "text": [
      "Количество аномальных пользователей: 74\n"
     ]
    }
   ],
   "source": [
    "usersWithManyOrders = pd.concat(\n",
    "    [\n",
    "        ordersByUsersA[ordersByUsersA['orders'] > np.percentile(ordersByUsers['orders'], 95)]['userId'],\n",
    "        ordersByUsersB[ordersByUsersB['orders'] > np.percentile(ordersByUsers['orders'], 95)]['userId'],\n",
    "    ],\n",
    "    axis=0,\n",
    ")\n",
    "usersWithExpensiveOrders = orders[orders['revenue'] > np.percentile(orders['revenue'], 95)]['visitorId']\n",
    "abnormalUsers = (\n",
    "    pd.concat([usersWithManyOrders, usersWithExpensiveOrders], axis=0)\n",
    "    .drop_duplicates()\n",
    "    .sort_values()\n",
    ")\n",
    "display(abnormalUsers.head())\n",
    "print('Количество аномальных пользователей:', abnormalUsers.shape[0])"
   ]
  },
  {
   "cell_type": "code",
   "execution_count": 34,
   "id": "fdfcbafa",
   "metadata": {},
   "outputs": [
    {
     "name": "stdout",
     "output_type": "stream",
     "text": [
      "p-value = 0.013\n",
      "Отвергаем нулевую гипотезу\n",
      "Относительное различие = 0.173\n"
     ]
    }
   ],
   "source": [
    "sampleAFiltered = pd.concat(\n",
    "    [ordersByUsersA[np.logical_not(ordersByUsersA['userId'].isin(abnormalUsers))]['orders'], \n",
    "     pd.Series(0, index=np.arange(visitors[visitors['group']=='A']['visitors'].sum() - len(ordersByUsersA['orders'])),\n",
    "    name='orders')],\n",
    "    axis=0\n",
    ")\n",
    "sampleBFiltered = pd.concat(\n",
    "    [ordersByUsersB[np.logical_not(ordersByUsersB['userId'].isin(abnormalUsers))]['orders'], \n",
    "     pd.Series(0, index=np.arange(visitors[visitors['group']=='B']['visitors'].sum() - len(ordersByUsersB['orders'])),\n",
    "    name='orders')],\n",
    "    axis=0\n",
    ")\n",
    "\n",
    "# проверим выборки критерием Манна-Уитни\n",
    "alpha = .05\n",
    "p_value = stats.mannwhitneyu(sampleAFiltered, sampleBFiltered)[1]\n",
    "print('p-value = {0:.3f}'.format(p_value))\n",
    "\n",
    "if p_value > alpha:\n",
    "    print('Нулевую гипотезу не отвергаем')\n",
    "else:\n",
    "    print('Отвергаем нулевую гипотезу')\n",
    "    \n",
    "print('Относительное различие = {0:.3f}'.format(sampleBFiltered.mean() / sampleAFiltered.mean() - 1))"
   ]
  },
  {
   "cell_type": "markdown",
   "id": "e40ce5b8",
   "metadata": {},
   "source": [
    "Результаты по среднему количеству заказов с учётом \"отфильтрованных\" данных практически не поменялись. Рассмотрим также средний чек."
   ]
  },
  {
   "cell_type": "code",
   "execution_count": 35,
   "id": "fa558460",
   "metadata": {},
   "outputs": [
    {
     "name": "stdout",
     "output_type": "stream",
     "text": [
      "p-value = 0.738\n",
      "Нулевую гипотезу не отвергаем\n",
      "Относительное различие = -0.020\n"
     ]
    }
   ],
   "source": [
    "p_value = stats.mannwhitneyu(\n",
    "    orders[np.logical_and(\n",
    "        orders['group']=='A',\n",
    "        np.logical_not(orders['visitorId'].isin(abnormalUsers)),\n",
    "    )]['revenue'], \n",
    "    orders[np.logical_and(\n",
    "        orders['group']=='B',\n",
    "        np.logical_not(orders['visitorId'].isin(abnormalUsers)),\n",
    "    )]['revenue'],\n",
    ")[1]\n",
    "print('p-value = {0:.3f}'.format(p_value))\n",
    "if p_value > alpha:\n",
    "    print('Нулевую гипотезу не отвергаем')\n",
    "else:\n",
    "    print('Отвергаем нулевую гипотезу')\n",
    "print('Относительное различие = {0:.3f}'.format(\n",
    "    orders[np.logical_and(\n",
    "        orders['group']=='B',\n",
    "        np.logical_not(orders['visitorId'].isin(abnormalUsers)),\n",
    "    )]['revenue'].mean() / \n",
    "    orders[np.logical_and(\n",
    "        orders['group']=='A',\n",
    "        np.logical_not(orders['visitorId'].isin(abnormalUsers)),\n",
    "    )]['revenue'].mean()-1))"
   ]
  },
  {
   "cell_type": "markdown",
   "id": "b356ac91",
   "metadata": {},
   "source": [
    "P-value увеличился в очищенных данных, это значит, что мы всё ещё не можем отвергнуть нулевую гипотезу, из чего мы делаем вывод, что статистически важных различий в среджнем чеке между группами нет. В \"отфильтрованных\" данных средний чек группы B стал слегка ниже группы A, на 2%."
   ]
  },
  {
   "cell_type": "markdown",
   "id": "b1429ea6",
   "metadata": {},
   "source": [
    "## Вывод"
   ]
  },
  {
   "cell_type": "markdown",
   "id": "14d95fde",
   "metadata": {},
   "source": [
    "Перед запуском A/B-теста нам нужно было выбрать наиболее перспективную гипотезу. Мы получили список из 8 гипотез, к которому применили фреймворки для приоритизации гипотез ICE и RICE. \n",
    "\n",
    "Так как фреймворк ICE не учитывает охват, что важно для наших гипотез, мы остановились на гипотезе, занявшей первое место по фреймворку RICE: \"**Добавить форму подписки на все основные страницы, чтобы собрать базу клиентов для email-рассылок**\".\n",
    "\n",
    "При анализе результатов A/B-теста мы сделали следующие выводы:\n",
    "- кумулятивная выручка и кумулятивный средний чек с середины эксперимента стали выше у группы B;\n",
    "- с пятого дня теста кумулятивное среднее количество заказов было выше у группы B;\n",
    "- в группе B оказались пользователи, которые сделали крупные заказы, подняв тем самым средний чек своей группы, рекомендуется дополнительно изучить, почему это произошло.\n",
    "\n",
    "При изучении данных мы обнаружили 74 аномальных пользователя, которые совершили более двух заказов за время теста, либо совершили заказы дороже 28000 рублей. \n",
    "\n",
    "При проведении статистического анализа результатов мы сделали следующие выводы:\n",
    "- eсть статистически значимые различия в среднем количестве заказов пользователей между группой A и группой B как по \"сырым\", так и по \"отфильтрованным\" данным, группа B опережает группу А;\n",
    "- нет статистически значимых различий в среднем чеке между группой A и группой B как по \"сырым\", так и по \"отфильтрованным\" данным.\n",
    "\n",
    "Принимая во внимание вышеперечисленное, **тест рекомендуем остановить и зафиксировать победу группы B.**"
   ]
  }
 ],
 "metadata": {
  "ExecuteTimeLog": [
   {
    "duration": 1357,
    "start_time": "2023-05-13T03:09:13.219Z"
   },
   {
    "duration": 11,
    "start_time": "2023-05-13T03:09:14.578Z"
   },
   {
    "duration": 160,
    "start_time": "2023-05-13T03:09:14.599Z"
   },
   {
    "duration": 16,
    "start_time": "2023-05-13T03:09:14.762Z"
   },
   {
    "duration": 128,
    "start_time": "2023-05-13T03:09:14.781Z"
   },
   {
    "duration": 12,
    "start_time": "2023-05-13T03:09:14.916Z"
   },
   {
    "duration": 145,
    "start_time": "2023-05-13T03:09:14.929Z"
   },
   {
    "duration": 16,
    "start_time": "2023-05-13T03:09:15.076Z"
   },
   {
    "duration": 55,
    "start_time": "2023-05-13T03:09:15.094Z"
   },
   {
    "duration": 77,
    "start_time": "2023-05-13T03:09:15.152Z"
   },
   {
    "duration": 13,
    "start_time": "2023-05-13T03:09:15.231Z"
   },
   {
    "duration": 12,
    "start_time": "2023-05-13T03:09:15.246Z"
   },
   {
    "duration": 14,
    "start_time": "2023-05-13T03:09:15.261Z"
   },
   {
    "duration": 572,
    "start_time": "2023-05-13T03:09:15.280Z"
   },
   {
    "duration": 440,
    "start_time": "2023-05-13T03:09:15.855Z"
   },
   {
    "duration": 277,
    "start_time": "2023-05-13T03:09:16.296Z"
   },
   {
    "duration": 372,
    "start_time": "2023-05-13T03:09:16.575Z"
   },
   {
    "duration": 282,
    "start_time": "2023-05-13T03:09:16.949Z"
   },
   {
    "duration": 361,
    "start_time": "2023-05-13T03:09:17.233Z"
   },
   {
    "duration": 17,
    "start_time": "2023-05-13T03:09:17.598Z"
   },
   {
    "duration": 247,
    "start_time": "2023-05-13T03:09:17.623Z"
   },
   {
    "duration": 7,
    "start_time": "2023-05-13T03:09:17.872Z"
   },
   {
    "duration": 231,
    "start_time": "2023-05-13T03:09:17.882Z"
   },
   {
    "duration": 9,
    "start_time": "2023-05-13T03:09:18.117Z"
   },
   {
    "duration": 421,
    "start_time": "2023-05-13T03:09:18.128Z"
   },
   {
    "duration": 373,
    "start_time": "2023-05-13T03:09:18.552Z"
   },
   {
    "duration": 17,
    "start_time": "2023-05-13T03:09:18.927Z"
   },
   {
    "duration": 15,
    "start_time": "2023-05-13T03:09:18.946Z"
   },
   {
    "duration": 71,
    "start_time": "2023-05-13T03:09:18.963Z"
   },
   {
    "duration": 20,
    "start_time": "2023-05-13T03:09:19.037Z"
   },
   {
    "duration": 1426,
    "start_time": "2023-05-19T13:36:09.917Z"
   },
   {
    "duration": 11,
    "start_time": "2023-05-19T13:36:11.348Z"
   },
   {
    "duration": 102,
    "start_time": "2023-05-19T13:36:11.361Z"
   },
   {
    "duration": 13,
    "start_time": "2023-05-19T13:36:11.465Z"
   },
   {
    "duration": 64,
    "start_time": "2023-05-19T13:36:11.479Z"
   },
   {
    "duration": 10,
    "start_time": "2023-05-19T13:36:11.545Z"
   },
   {
    "duration": 295,
    "start_time": "2023-05-19T13:36:11.557Z"
   },
   {
    "duration": 11,
    "start_time": "2023-05-19T13:36:11.853Z"
   },
   {
    "duration": 26,
    "start_time": "2023-05-19T13:36:11.866Z"
   },
   {
    "duration": 27,
    "start_time": "2023-05-19T13:36:11.894Z"
   },
   {
    "duration": 29,
    "start_time": "2023-05-19T13:36:11.923Z"
   },
   {
    "duration": 9,
    "start_time": "2023-05-19T13:36:11.954Z"
   },
   {
    "duration": 63,
    "start_time": "2023-05-19T13:36:11.965Z"
   },
   {
    "duration": 15,
    "start_time": "2023-05-19T13:36:12.030Z"
   },
   {
    "duration": 11,
    "start_time": "2023-05-19T13:36:12.047Z"
   },
   {
    "duration": 11,
    "start_time": "2023-05-19T13:36:12.060Z"
   },
   {
    "duration": 21,
    "start_time": "2023-05-19T13:36:12.073Z"
   },
   {
    "duration": 299,
    "start_time": "2023-05-19T13:36:12.096Z"
   },
   {
    "duration": 6,
    "start_time": "2023-05-19T13:36:12.397Z"
   },
   {
    "duration": 347,
    "start_time": "2023-05-19T13:36:12.404Z"
   },
   {
    "duration": 251,
    "start_time": "2023-05-19T13:36:12.754Z"
   },
   {
    "duration": 397,
    "start_time": "2023-05-19T13:36:13.007Z"
   },
   {
    "duration": 281,
    "start_time": "2023-05-19T13:36:13.407Z"
   },
   {
    "duration": 375,
    "start_time": "2023-05-19T13:36:13.689Z"
   },
   {
    "duration": 11,
    "start_time": "2023-05-19T13:36:14.066Z"
   },
   {
    "duration": 168,
    "start_time": "2023-05-19T13:36:14.078Z"
   },
   {
    "duration": 6,
    "start_time": "2023-05-19T13:36:14.248Z"
   },
   {
    "duration": 186,
    "start_time": "2023-05-19T13:36:14.257Z"
   },
   {
    "duration": 239,
    "start_time": "2023-05-19T13:36:14.445Z"
   },
   {
    "duration": 5,
    "start_time": "2023-05-19T13:36:14.686Z"
   },
   {
    "duration": 256,
    "start_time": "2023-05-19T13:36:14.693Z"
   },
   {
    "duration": 13,
    "start_time": "2023-05-19T13:36:14.952Z"
   },
   {
    "duration": 33,
    "start_time": "2023-05-19T13:36:14.966Z"
   },
   {
    "duration": 58,
    "start_time": "2023-05-19T13:36:15.000Z"
   },
   {
    "duration": 24,
    "start_time": "2023-05-19T13:36:15.060Z"
   }
  ],
  "kernelspec": {
   "display_name": "Python 3 (ipykernel)",
   "language": "python",
   "name": "python3"
  },
  "language_info": {
   "codemirror_mode": {
    "name": "ipython",
    "version": 3
   },
   "file_extension": ".py",
   "mimetype": "text/x-python",
   "name": "python",
   "nbconvert_exporter": "python",
   "pygments_lexer": "ipython3",
   "version": "3.9.13"
  },
  "toc": {
   "base_numbering": "0",
   "nav_menu": {},
   "number_sections": true,
   "sideBar": true,
   "skip_h1_title": true,
   "title_cell": "Содержание",
   "title_sidebar": "Contents",
   "toc_cell": true,
   "toc_position": {
    "height": "calc(100% - 180px)",
    "left": "10px",
    "top": "150px",
    "width": "406.225px"
   },
   "toc_section_display": true,
   "toc_window_display": true
  }
 },
 "nbformat": 4,
 "nbformat_minor": 5
}
