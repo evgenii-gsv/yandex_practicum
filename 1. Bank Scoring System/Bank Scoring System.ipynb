{
 "cells": [
  {
   "cell_type": "markdown",
   "id": "c4893fbb",
   "metadata": {
    "deletable": false,
    "editable": false,
    "id": "c81daeeb"
   },
   "source": [
    "# Исследование надежности заемщиков\n"
   ]
  },
  {
   "cell_type": "markdown",
   "id": "4b098635",
   "metadata": {
    "deletable": false,
    "editable": false,
    "id": "827c20bf"
   },
   "source": [
    "Во второй части проекта вы выполните шаги 3 и 4. Их вручную проверит ревьюер.\n",
    "Чтобы вам не пришлось писать код заново для шагов 1 и 2, мы добавили авторские решения в ячейки с кодом. \n",
    "\n"
   ]
  },
  {
   "cell_type": "markdown",
   "id": "512b41d9",
   "metadata": {
    "deletable": false,
    "editable": false,
    "id": "744d7639"
   },
   "source": [
    "## Откройте таблицу и изучите общую информацию о данных"
   ]
  },
  {
   "cell_type": "markdown",
   "id": "4b052166",
   "metadata": {
    "deletable": false,
    "editable": false,
    "id": "e7a14c31"
   },
   "source": [
    "**Задание 1. Импортируйте библиотеку pandas. Считайте данные из csv-файла в датафрейм и сохраните в переменную `data`. Путь к файлу:**\n",
    "\n",
    "`/datasets/data.csv`"
   ]
  },
  {
   "cell_type": "code",
   "execution_count": 1,
   "id": "44969185",
   "metadata": {
    "deletable": false,
    "id": "7bcf75c9"
   },
   "outputs": [],
   "source": [
    "import pandas as pd\n",
    "\n",
    "try:\n",
    "    data = pd.read_csv('/datasets/data.csv')\n",
    "except:\n",
    "    data = pd.read_csv('https://code.s3.yandex.net/datasets/data.csv')"
   ]
  },
  {
   "cell_type": "markdown",
   "id": "40a7dd1c",
   "metadata": {
    "deletable": false,
    "editable": false,
    "id": "b8038fe3"
   },
   "source": [
    "**Задание 2. Выведите первые 20 строчек датафрейма `data` на экран.**"
   ]
  },
  {
   "cell_type": "code",
   "execution_count": 2,
   "id": "743e00af",
   "metadata": {
    "deletable": false,
    "id": "2a7cab99",
    "outputId": "1a8f3ef2-d323-4ec2-ddf7-89670b5944c4"
   },
   "outputs": [
    {
     "data": {
      "text/html": [
       "<div>\n",
       "<style scoped>\n",
       "    .dataframe tbody tr th:only-of-type {\n",
       "        vertical-align: middle;\n",
       "    }\n",
       "\n",
       "    .dataframe tbody tr th {\n",
       "        vertical-align: top;\n",
       "    }\n",
       "\n",
       "    .dataframe thead th {\n",
       "        text-align: right;\n",
       "    }\n",
       "</style>\n",
       "<table border=\"1\" class=\"dataframe\">\n",
       "  <thead>\n",
       "    <tr style=\"text-align: right;\">\n",
       "      <th></th>\n",
       "      <th>children</th>\n",
       "      <th>days_employed</th>\n",
       "      <th>dob_years</th>\n",
       "      <th>education</th>\n",
       "      <th>education_id</th>\n",
       "      <th>family_status</th>\n",
       "      <th>family_status_id</th>\n",
       "      <th>gender</th>\n",
       "      <th>income_type</th>\n",
       "      <th>debt</th>\n",
       "      <th>total_income</th>\n",
       "      <th>purpose</th>\n",
       "    </tr>\n",
       "  </thead>\n",
       "  <tbody>\n",
       "    <tr>\n",
       "      <th>0</th>\n",
       "      <td>1</td>\n",
       "      <td>-8437.673028</td>\n",
       "      <td>42</td>\n",
       "      <td>высшее</td>\n",
       "      <td>0</td>\n",
       "      <td>женат / замужем</td>\n",
       "      <td>0</td>\n",
       "      <td>F</td>\n",
       "      <td>сотрудник</td>\n",
       "      <td>0</td>\n",
       "      <td>253875.639453</td>\n",
       "      <td>покупка жилья</td>\n",
       "    </tr>\n",
       "    <tr>\n",
       "      <th>1</th>\n",
       "      <td>1</td>\n",
       "      <td>-4024.803754</td>\n",
       "      <td>36</td>\n",
       "      <td>среднее</td>\n",
       "      <td>1</td>\n",
       "      <td>женат / замужем</td>\n",
       "      <td>0</td>\n",
       "      <td>F</td>\n",
       "      <td>сотрудник</td>\n",
       "      <td>0</td>\n",
       "      <td>112080.014102</td>\n",
       "      <td>приобретение автомобиля</td>\n",
       "    </tr>\n",
       "    <tr>\n",
       "      <th>2</th>\n",
       "      <td>0</td>\n",
       "      <td>-5623.422610</td>\n",
       "      <td>33</td>\n",
       "      <td>Среднее</td>\n",
       "      <td>1</td>\n",
       "      <td>женат / замужем</td>\n",
       "      <td>0</td>\n",
       "      <td>M</td>\n",
       "      <td>сотрудник</td>\n",
       "      <td>0</td>\n",
       "      <td>145885.952297</td>\n",
       "      <td>покупка жилья</td>\n",
       "    </tr>\n",
       "    <tr>\n",
       "      <th>3</th>\n",
       "      <td>3</td>\n",
       "      <td>-4124.747207</td>\n",
       "      <td>32</td>\n",
       "      <td>среднее</td>\n",
       "      <td>1</td>\n",
       "      <td>женат / замужем</td>\n",
       "      <td>0</td>\n",
       "      <td>M</td>\n",
       "      <td>сотрудник</td>\n",
       "      <td>0</td>\n",
       "      <td>267628.550329</td>\n",
       "      <td>дополнительное образование</td>\n",
       "    </tr>\n",
       "    <tr>\n",
       "      <th>4</th>\n",
       "      <td>0</td>\n",
       "      <td>340266.072047</td>\n",
       "      <td>53</td>\n",
       "      <td>среднее</td>\n",
       "      <td>1</td>\n",
       "      <td>гражданский брак</td>\n",
       "      <td>1</td>\n",
       "      <td>F</td>\n",
       "      <td>пенсионер</td>\n",
       "      <td>0</td>\n",
       "      <td>158616.077870</td>\n",
       "      <td>сыграть свадьбу</td>\n",
       "    </tr>\n",
       "    <tr>\n",
       "      <th>5</th>\n",
       "      <td>0</td>\n",
       "      <td>-926.185831</td>\n",
       "      <td>27</td>\n",
       "      <td>высшее</td>\n",
       "      <td>0</td>\n",
       "      <td>гражданский брак</td>\n",
       "      <td>1</td>\n",
       "      <td>M</td>\n",
       "      <td>компаньон</td>\n",
       "      <td>0</td>\n",
       "      <td>255763.565419</td>\n",
       "      <td>покупка жилья</td>\n",
       "    </tr>\n",
       "    <tr>\n",
       "      <th>6</th>\n",
       "      <td>0</td>\n",
       "      <td>-2879.202052</td>\n",
       "      <td>43</td>\n",
       "      <td>высшее</td>\n",
       "      <td>0</td>\n",
       "      <td>женат / замужем</td>\n",
       "      <td>0</td>\n",
       "      <td>F</td>\n",
       "      <td>компаньон</td>\n",
       "      <td>0</td>\n",
       "      <td>240525.971920</td>\n",
       "      <td>операции с жильем</td>\n",
       "    </tr>\n",
       "    <tr>\n",
       "      <th>7</th>\n",
       "      <td>0</td>\n",
       "      <td>-152.779569</td>\n",
       "      <td>50</td>\n",
       "      <td>СРЕДНЕЕ</td>\n",
       "      <td>1</td>\n",
       "      <td>женат / замужем</td>\n",
       "      <td>0</td>\n",
       "      <td>M</td>\n",
       "      <td>сотрудник</td>\n",
       "      <td>0</td>\n",
       "      <td>135823.934197</td>\n",
       "      <td>образование</td>\n",
       "    </tr>\n",
       "    <tr>\n",
       "      <th>8</th>\n",
       "      <td>2</td>\n",
       "      <td>-6929.865299</td>\n",
       "      <td>35</td>\n",
       "      <td>ВЫСШЕЕ</td>\n",
       "      <td>0</td>\n",
       "      <td>гражданский брак</td>\n",
       "      <td>1</td>\n",
       "      <td>F</td>\n",
       "      <td>сотрудник</td>\n",
       "      <td>0</td>\n",
       "      <td>95856.832424</td>\n",
       "      <td>на проведение свадьбы</td>\n",
       "    </tr>\n",
       "    <tr>\n",
       "      <th>9</th>\n",
       "      <td>0</td>\n",
       "      <td>-2188.756445</td>\n",
       "      <td>41</td>\n",
       "      <td>среднее</td>\n",
       "      <td>1</td>\n",
       "      <td>женат / замужем</td>\n",
       "      <td>0</td>\n",
       "      <td>M</td>\n",
       "      <td>сотрудник</td>\n",
       "      <td>0</td>\n",
       "      <td>144425.938277</td>\n",
       "      <td>покупка жилья для семьи</td>\n",
       "    </tr>\n",
       "    <tr>\n",
       "      <th>10</th>\n",
       "      <td>2</td>\n",
       "      <td>-4171.483647</td>\n",
       "      <td>36</td>\n",
       "      <td>высшее</td>\n",
       "      <td>0</td>\n",
       "      <td>женат / замужем</td>\n",
       "      <td>0</td>\n",
       "      <td>M</td>\n",
       "      <td>компаньон</td>\n",
       "      <td>0</td>\n",
       "      <td>113943.491460</td>\n",
       "      <td>покупка недвижимости</td>\n",
       "    </tr>\n",
       "    <tr>\n",
       "      <th>11</th>\n",
       "      <td>0</td>\n",
       "      <td>-792.701887</td>\n",
       "      <td>40</td>\n",
       "      <td>среднее</td>\n",
       "      <td>1</td>\n",
       "      <td>женат / замужем</td>\n",
       "      <td>0</td>\n",
       "      <td>F</td>\n",
       "      <td>сотрудник</td>\n",
       "      <td>0</td>\n",
       "      <td>77069.234271</td>\n",
       "      <td>покупка коммерческой недвижимости</td>\n",
       "    </tr>\n",
       "    <tr>\n",
       "      <th>12</th>\n",
       "      <td>0</td>\n",
       "      <td>NaN</td>\n",
       "      <td>65</td>\n",
       "      <td>среднее</td>\n",
       "      <td>1</td>\n",
       "      <td>гражданский брак</td>\n",
       "      <td>1</td>\n",
       "      <td>M</td>\n",
       "      <td>пенсионер</td>\n",
       "      <td>0</td>\n",
       "      <td>NaN</td>\n",
       "      <td>сыграть свадьбу</td>\n",
       "    </tr>\n",
       "    <tr>\n",
       "      <th>13</th>\n",
       "      <td>0</td>\n",
       "      <td>-1846.641941</td>\n",
       "      <td>54</td>\n",
       "      <td>неоконченное высшее</td>\n",
       "      <td>2</td>\n",
       "      <td>женат / замужем</td>\n",
       "      <td>0</td>\n",
       "      <td>F</td>\n",
       "      <td>сотрудник</td>\n",
       "      <td>0</td>\n",
       "      <td>130458.228857</td>\n",
       "      <td>приобретение автомобиля</td>\n",
       "    </tr>\n",
       "    <tr>\n",
       "      <th>14</th>\n",
       "      <td>0</td>\n",
       "      <td>-1844.956182</td>\n",
       "      <td>56</td>\n",
       "      <td>высшее</td>\n",
       "      <td>0</td>\n",
       "      <td>гражданский брак</td>\n",
       "      <td>1</td>\n",
       "      <td>F</td>\n",
       "      <td>компаньон</td>\n",
       "      <td>1</td>\n",
       "      <td>165127.911772</td>\n",
       "      <td>покупка жилой недвижимости</td>\n",
       "    </tr>\n",
       "    <tr>\n",
       "      <th>15</th>\n",
       "      <td>1</td>\n",
       "      <td>-972.364419</td>\n",
       "      <td>26</td>\n",
       "      <td>среднее</td>\n",
       "      <td>1</td>\n",
       "      <td>женат / замужем</td>\n",
       "      <td>0</td>\n",
       "      <td>F</td>\n",
       "      <td>сотрудник</td>\n",
       "      <td>0</td>\n",
       "      <td>116820.904450</td>\n",
       "      <td>строительство собственной недвижимости</td>\n",
       "    </tr>\n",
       "    <tr>\n",
       "      <th>16</th>\n",
       "      <td>0</td>\n",
       "      <td>-1719.934226</td>\n",
       "      <td>35</td>\n",
       "      <td>среднее</td>\n",
       "      <td>1</td>\n",
       "      <td>женат / замужем</td>\n",
       "      <td>0</td>\n",
       "      <td>F</td>\n",
       "      <td>сотрудник</td>\n",
       "      <td>0</td>\n",
       "      <td>289202.704229</td>\n",
       "      <td>недвижимость</td>\n",
       "    </tr>\n",
       "    <tr>\n",
       "      <th>17</th>\n",
       "      <td>0</td>\n",
       "      <td>-2369.999720</td>\n",
       "      <td>33</td>\n",
       "      <td>высшее</td>\n",
       "      <td>0</td>\n",
       "      <td>гражданский брак</td>\n",
       "      <td>1</td>\n",
       "      <td>M</td>\n",
       "      <td>сотрудник</td>\n",
       "      <td>0</td>\n",
       "      <td>90410.586745</td>\n",
       "      <td>строительство недвижимости</td>\n",
       "    </tr>\n",
       "    <tr>\n",
       "      <th>18</th>\n",
       "      <td>0</td>\n",
       "      <td>400281.136913</td>\n",
       "      <td>53</td>\n",
       "      <td>среднее</td>\n",
       "      <td>1</td>\n",
       "      <td>вдовец / вдова</td>\n",
       "      <td>2</td>\n",
       "      <td>F</td>\n",
       "      <td>пенсионер</td>\n",
       "      <td>0</td>\n",
       "      <td>56823.777243</td>\n",
       "      <td>на покупку подержанного автомобиля</td>\n",
       "    </tr>\n",
       "    <tr>\n",
       "      <th>19</th>\n",
       "      <td>0</td>\n",
       "      <td>-10038.818549</td>\n",
       "      <td>48</td>\n",
       "      <td>СРЕДНЕЕ</td>\n",
       "      <td>1</td>\n",
       "      <td>в разводе</td>\n",
       "      <td>3</td>\n",
       "      <td>F</td>\n",
       "      <td>сотрудник</td>\n",
       "      <td>0</td>\n",
       "      <td>242831.107982</td>\n",
       "      <td>на покупку своего автомобиля</td>\n",
       "    </tr>\n",
       "  </tbody>\n",
       "</table>\n",
       "</div>"
      ],
      "text/plain": [
       "    children  days_employed  dob_years            education  education_id  \\\n",
       "0          1   -8437.673028         42               высшее             0   \n",
       "1          1   -4024.803754         36              среднее             1   \n",
       "2          0   -5623.422610         33              Среднее             1   \n",
       "3          3   -4124.747207         32              среднее             1   \n",
       "4          0  340266.072047         53              среднее             1   \n",
       "5          0    -926.185831         27               высшее             0   \n",
       "6          0   -2879.202052         43               высшее             0   \n",
       "7          0    -152.779569         50              СРЕДНЕЕ             1   \n",
       "8          2   -6929.865299         35               ВЫСШЕЕ             0   \n",
       "9          0   -2188.756445         41              среднее             1   \n",
       "10         2   -4171.483647         36               высшее             0   \n",
       "11         0    -792.701887         40              среднее             1   \n",
       "12         0            NaN         65              среднее             1   \n",
       "13         0   -1846.641941         54  неоконченное высшее             2   \n",
       "14         0   -1844.956182         56               высшее             0   \n",
       "15         1    -972.364419         26              среднее             1   \n",
       "16         0   -1719.934226         35              среднее             1   \n",
       "17         0   -2369.999720         33               высшее             0   \n",
       "18         0  400281.136913         53              среднее             1   \n",
       "19         0  -10038.818549         48              СРЕДНЕЕ             1   \n",
       "\n",
       "       family_status  family_status_id gender income_type  debt  \\\n",
       "0    женат / замужем                 0      F   сотрудник     0   \n",
       "1    женат / замужем                 0      F   сотрудник     0   \n",
       "2    женат / замужем                 0      M   сотрудник     0   \n",
       "3    женат / замужем                 0      M   сотрудник     0   \n",
       "4   гражданский брак                 1      F   пенсионер     0   \n",
       "5   гражданский брак                 1      M   компаньон     0   \n",
       "6    женат / замужем                 0      F   компаньон     0   \n",
       "7    женат / замужем                 0      M   сотрудник     0   \n",
       "8   гражданский брак                 1      F   сотрудник     0   \n",
       "9    женат / замужем                 0      M   сотрудник     0   \n",
       "10   женат / замужем                 0      M   компаньон     0   \n",
       "11   женат / замужем                 0      F   сотрудник     0   \n",
       "12  гражданский брак                 1      M   пенсионер     0   \n",
       "13   женат / замужем                 0      F   сотрудник     0   \n",
       "14  гражданский брак                 1      F   компаньон     1   \n",
       "15   женат / замужем                 0      F   сотрудник     0   \n",
       "16   женат / замужем                 0      F   сотрудник     0   \n",
       "17  гражданский брак                 1      M   сотрудник     0   \n",
       "18    вдовец / вдова                 2      F   пенсионер     0   \n",
       "19         в разводе                 3      F   сотрудник     0   \n",
       "\n",
       "     total_income                                 purpose  \n",
       "0   253875.639453                           покупка жилья  \n",
       "1   112080.014102                 приобретение автомобиля  \n",
       "2   145885.952297                           покупка жилья  \n",
       "3   267628.550329              дополнительное образование  \n",
       "4   158616.077870                         сыграть свадьбу  \n",
       "5   255763.565419                           покупка жилья  \n",
       "6   240525.971920                       операции с жильем  \n",
       "7   135823.934197                             образование  \n",
       "8    95856.832424                   на проведение свадьбы  \n",
       "9   144425.938277                 покупка жилья для семьи  \n",
       "10  113943.491460                    покупка недвижимости  \n",
       "11   77069.234271       покупка коммерческой недвижимости  \n",
       "12            NaN                         сыграть свадьбу  \n",
       "13  130458.228857                 приобретение автомобиля  \n",
       "14  165127.911772              покупка жилой недвижимости  \n",
       "15  116820.904450  строительство собственной недвижимости  \n",
       "16  289202.704229                            недвижимость  \n",
       "17   90410.586745              строительство недвижимости  \n",
       "18   56823.777243      на покупку подержанного автомобиля  \n",
       "19  242831.107982            на покупку своего автомобиля  "
      ]
     },
     "execution_count": 2,
     "metadata": {},
     "output_type": "execute_result"
    }
   ],
   "source": [
    "data.head(20)"
   ]
  },
  {
   "cell_type": "markdown",
   "id": "3797410d",
   "metadata": {
    "deletable": false,
    "editable": false,
    "id": "1c12e233"
   },
   "source": [
    "**Задание 3. Выведите основную информацию о датафрейме с помощью метода `info()`.**"
   ]
  },
  {
   "cell_type": "code",
   "execution_count": 3,
   "id": "2971b4fe",
   "metadata": {
    "deletable": false,
    "id": "2b757bca",
    "outputId": "15376089-8dad-46c9-b520-c05248d43158"
   },
   "outputs": [
    {
     "name": "stdout",
     "output_type": "stream",
     "text": [
      "<class 'pandas.core.frame.DataFrame'>\n",
      "RangeIndex: 21525 entries, 0 to 21524\n",
      "Data columns (total 12 columns):\n",
      " #   Column            Non-Null Count  Dtype  \n",
      "---  ------            --------------  -----  \n",
      " 0   children          21525 non-null  int64  \n",
      " 1   days_employed     19351 non-null  float64\n",
      " 2   dob_years         21525 non-null  int64  \n",
      " 3   education         21525 non-null  object \n",
      " 4   education_id      21525 non-null  int64  \n",
      " 5   family_status     21525 non-null  object \n",
      " 6   family_status_id  21525 non-null  int64  \n",
      " 7   gender            21525 non-null  object \n",
      " 8   income_type       21525 non-null  object \n",
      " 9   debt              21525 non-null  int64  \n",
      " 10  total_income      19351 non-null  float64\n",
      " 11  purpose           21525 non-null  object \n",
      "dtypes: float64(2), int64(5), object(5)\n",
      "memory usage: 2.0+ MB\n"
     ]
    }
   ],
   "source": [
    "data.info()"
   ]
  },
  {
   "cell_type": "markdown",
   "id": "b0310505",
   "metadata": {
    "deletable": false,
    "editable": false,
    "id": "333ec665"
   },
   "source": [
    "## Предобработка данных"
   ]
  },
  {
   "cell_type": "markdown",
   "id": "45807245",
   "metadata": {
    "deletable": false,
    "editable": false,
    "id": "02d92d53"
   },
   "source": [
    "### Удаление пропусков"
   ]
  },
  {
   "cell_type": "markdown",
   "id": "1af1079a",
   "metadata": {
    "deletable": false,
    "editable": false,
    "id": "cd84967c"
   },
   "source": [
    "**Задание 4. Выведите количество пропущенных значений для каждого столбца. Используйте комбинацию двух методов.**"
   ]
  },
  {
   "cell_type": "code",
   "execution_count": 4,
   "id": "b94d6bae",
   "metadata": {
    "deletable": false,
    "id": "7f9b2309",
    "outputId": "81f4d817-781c-465c-ed15-91ce4446810d"
   },
   "outputs": [
    {
     "data": {
      "text/plain": [
       "children               0\n",
       "days_employed       2174\n",
       "dob_years              0\n",
       "education              0\n",
       "education_id           0\n",
       "family_status          0\n",
       "family_status_id       0\n",
       "gender                 0\n",
       "income_type            0\n",
       "debt                   0\n",
       "total_income        2174\n",
       "purpose                0\n",
       "dtype: int64"
      ]
     },
     "execution_count": 4,
     "metadata": {},
     "output_type": "execute_result"
    }
   ],
   "source": [
    "data.isna().sum()"
   ]
  },
  {
   "cell_type": "markdown",
   "id": "758b9453",
   "metadata": {
    "deletable": false,
    "editable": false,
    "id": "db86e27b"
   },
   "source": [
    "**Задание 5. В двух столбцах есть пропущенные значения. Один из них — `days_employed`. Пропуски в этом столбце вы обработаете на следующем этапе. Другой столбец с пропущенными значениями — `total_income` — хранит данные о доходах. На сумму дохода сильнее всего влияет тип занятости, поэтому заполнить пропуски в этом столбце нужно медианным значением по каждому типу из столбца `income_type`. Например, у человека с типом занятости `сотрудник` пропуск в столбце `total_income` должен быть заполнен медианным доходом среди всех записей с тем же типом.**"
   ]
  },
  {
   "cell_type": "code",
   "execution_count": 5,
   "id": "b2f12499",
   "metadata": {
    "deletable": false,
    "id": "42006a93"
   },
   "outputs": [],
   "source": [
    "for t in data['income_type'].unique():\n",
    "    data.loc[(data['income_type'] == t) & (data['total_income'].isna()), 'total_income'] = \\\n",
    "    data.loc[(data['income_type'] == t), 'total_income'].median()"
   ]
  },
  {
   "cell_type": "markdown",
   "id": "f16b4268",
   "metadata": {
    "deletable": false,
    "editable": false,
    "id": "89da5ece"
   },
   "source": [
    "### Обработка аномальных значений"
   ]
  },
  {
   "cell_type": "markdown",
   "id": "4abae347",
   "metadata": {
    "deletable": false,
    "editable": false,
    "id": "57964554"
   },
   "source": [
    "**Задание 6. В данных могут встречаться артефакты (аномалии) — значения, которые не отражают действительность и появились по какой-то ошибке. таким артефактом будет отрицательное количество дней трудового стажа в столбце `days_employed`. Для реальных данных это нормально. Обработайте значения в этом столбце: замените все отрицательные значения положительными с помощью метода `abs()`.**"
   ]
  },
  {
   "cell_type": "code",
   "execution_count": 6,
   "id": "d8f1292b",
   "metadata": {
    "deletable": false,
    "id": "f6f055bf"
   },
   "outputs": [],
   "source": [
    "data['days_employed'] = data['days_employed'].abs()"
   ]
  },
  {
   "cell_type": "markdown",
   "id": "a2591c39",
   "metadata": {
    "deletable": false,
    "editable": false,
    "id": "6107dd2f"
   },
   "source": [
    "**Задание 7. Для каждого типа занятости выведите медианное значение трудового стажа `days_employed` в днях.**"
   ]
  },
  {
   "cell_type": "code",
   "execution_count": 7,
   "id": "ae5fb6af",
   "metadata": {
    "deletable": false,
    "id": "85a5faf6",
    "outputId": "801ef80e-522b-4668-f34e-565af7432bcf"
   },
   "outputs": [
    {
     "data": {
      "text/plain": [
       "income_type\n",
       "безработный        366413.652744\n",
       "в декрете            3296.759962\n",
       "госслужащий          2689.368353\n",
       "компаньон            1547.382223\n",
       "пенсионер          365213.306266\n",
       "предприниматель       520.848083\n",
       "сотрудник            1574.202821\n",
       "студент               578.751554\n",
       "Name: days_employed, dtype: float64"
      ]
     },
     "execution_count": 7,
     "metadata": {},
     "output_type": "execute_result"
    }
   ],
   "source": [
    "data.groupby('income_type')['days_employed'].agg('median')"
   ]
  },
  {
   "cell_type": "markdown",
   "id": "1489d1e8",
   "metadata": {
    "deletable": false,
    "editable": false,
    "id": "38d1a030"
   },
   "source": [
    "У двух типов (безработные и пенсионеры) получатся аномально большие значения. Исправить такие значения сложно, поэтому оставьте их как есть. Тем более этот столбец не понадобится вам для исследования."
   ]
  },
  {
   "cell_type": "markdown",
   "id": "ddac412d",
   "metadata": {
    "deletable": false,
    "editable": false,
    "id": "d8a9f147"
   },
   "source": [
    "**Задание 8. Выведите перечень уникальных значений столбца `children`.**"
   ]
  },
  {
   "cell_type": "code",
   "execution_count": 8,
   "id": "315046f5",
   "metadata": {
    "deletable": false,
    "id": "ef5056eb",
    "outputId": "6975b15c-7f95-4697-d16d-a0c79b657b03"
   },
   "outputs": [
    {
     "data": {
      "text/plain": [
       "array([ 1,  0,  3,  2, -1,  4, 20,  5], dtype=int64)"
      ]
     },
     "execution_count": 8,
     "metadata": {},
     "output_type": "execute_result"
    }
   ],
   "source": [
    "data['children'].unique()"
   ]
  },
  {
   "cell_type": "markdown",
   "id": "995e0ee2",
   "metadata": {
    "deletable": false,
    "editable": false,
    "id": "40b9ebf2"
   },
   "source": [
    "**Задание 9. В столбце `children` есть два аномальных значения. Удалите строки, в которых встречаются такие аномальные значения из датафрейма `data`.**"
   ]
  },
  {
   "cell_type": "code",
   "execution_count": 9,
   "id": "700e202f",
   "metadata": {
    "deletable": false,
    "id": "3ff9801d"
   },
   "outputs": [],
   "source": [
    "data = data[(data['children'] != -1) & (data['children'] != 20)]"
   ]
  },
  {
   "cell_type": "markdown",
   "id": "f394c1fe",
   "metadata": {
    "deletable": false,
    "editable": false,
    "id": "bbc4d0ce"
   },
   "source": [
    "**Задание 10. Ещё раз выведите перечень уникальных значений столбца `children`, чтобы убедиться, что артефакты удалены.**"
   ]
  },
  {
   "cell_type": "code",
   "execution_count": 10,
   "id": "7edbc1aa",
   "metadata": {
    "deletable": false,
    "id": "ad4fa8b7",
    "outputId": "b2097101-d49d-44d9-901b-32a65c9463d1"
   },
   "outputs": [
    {
     "data": {
      "text/plain": [
       "array([1, 0, 3, 2, 4, 5], dtype=int64)"
      ]
     },
     "execution_count": 10,
     "metadata": {},
     "output_type": "execute_result"
    }
   ],
   "source": [
    "data['children'].unique()"
   ]
  },
  {
   "cell_type": "markdown",
   "id": "c15517c2",
   "metadata": {
    "deletable": false,
    "editable": false,
    "id": "75440b63"
   },
   "source": [
    "### Удаление пропусков (продолжение)"
   ]
  },
  {
   "cell_type": "markdown",
   "id": "f5064c5f",
   "metadata": {
    "deletable": false,
    "editable": false,
    "id": "f4ea573f"
   },
   "source": [
    "**Задание 11. Заполните пропуски в столбце `days_employed` медианными значениями по каждого типа занятости `income_type`.**"
   ]
  },
  {
   "cell_type": "code",
   "execution_count": 11,
   "id": "cfe987c5",
   "metadata": {
    "deletable": false,
    "id": "af6b1a7e"
   },
   "outputs": [],
   "source": [
    "for t in data['income_type'].unique():\n",
    "    data.loc[(data['income_type'] == t) & (data['days_employed'].isna()), 'days_employed'] = \\\n",
    "    data.loc[(data['income_type'] == t), 'days_employed'].median()"
   ]
  },
  {
   "cell_type": "markdown",
   "id": "3a60c4bc",
   "metadata": {
    "deletable": false,
    "editable": false,
    "id": "2753f40d"
   },
   "source": [
    "**Задание 12. Убедитесь, что все пропуски заполнены. Проверьте себя и ещё раз выведите количество пропущенных значений для каждого столбца с помощью двух методов.**"
   ]
  },
  {
   "cell_type": "code",
   "execution_count": 12,
   "id": "d3a2684e",
   "metadata": {
    "deletable": false,
    "id": "55f78bc2",
    "outputId": "8da1e4e1-358e-4e87-98c9-f261bce0a7b2"
   },
   "outputs": [
    {
     "data": {
      "text/plain": [
       "children            0\n",
       "days_employed       0\n",
       "dob_years           0\n",
       "education           0\n",
       "education_id        0\n",
       "family_status       0\n",
       "family_status_id    0\n",
       "gender              0\n",
       "income_type         0\n",
       "debt                0\n",
       "total_income        0\n",
       "purpose             0\n",
       "dtype: int64"
      ]
     },
     "execution_count": 12,
     "metadata": {},
     "output_type": "execute_result"
    }
   ],
   "source": [
    "data.isna().sum()"
   ]
  },
  {
   "cell_type": "markdown",
   "id": "2b26d7a1",
   "metadata": {
    "deletable": false,
    "editable": false,
    "id": "ddc81e43"
   },
   "source": [
    "### Изменение типов данных"
   ]
  },
  {
   "cell_type": "markdown",
   "id": "85a8875e",
   "metadata": {
    "deletable": false,
    "editable": false,
    "id": "42d19d24"
   },
   "source": [
    "**Задание 13. Замените вещественный тип данных в столбце `total_income` на целочисленный с помощью метода `astype()`.**"
   ]
  },
  {
   "cell_type": "code",
   "execution_count": 13,
   "id": "116a3bff",
   "metadata": {
    "deletable": false,
    "id": "920b65ad"
   },
   "outputs": [],
   "source": [
    "data['total_income'] = data['total_income'].astype(int)"
   ]
  },
  {
   "cell_type": "markdown",
   "id": "28d77ef8",
   "metadata": {
    "deletable": false,
    "editable": false,
    "id": "80c420ba"
   },
   "source": [
    "### Обработка дубликатов"
   ]
  },
  {
   "cell_type": "markdown",
   "id": "0945f103",
   "metadata": {
    "deletable": false,
    "editable": false
   },
   "source": [
    "**Задание 14. Обработайте неявные дубликаты в столбце `education`. В этом столбце есть одни и те же значения, но записанные по-разному: с использованием заглавных и строчных букв. Приведите их к нижнему регистру. Проверьте остальные столбцы.**"
   ]
  },
  {
   "cell_type": "code",
   "execution_count": 14,
   "id": "a32d90c9",
   "metadata": {
    "deletable": false
   },
   "outputs": [],
   "source": [
    "data['education'] = data['education'].str.lower()"
   ]
  },
  {
   "cell_type": "markdown",
   "id": "55cce575",
   "metadata": {
    "deletable": false,
    "editable": false,
    "id": "dc587695"
   },
   "source": [
    "**Задание 15. Выведите на экран количество строк-дубликатов в данных. Если такие строки присутствуют, удалите их.**"
   ]
  },
  {
   "cell_type": "code",
   "execution_count": 15,
   "id": "62bc179c",
   "metadata": {
    "deletable": false,
    "id": "3ee445e4",
    "outputId": "9684deba-1934-42d1-99e1-cda61740f822"
   },
   "outputs": [
    {
     "data": {
      "text/plain": [
       "71"
      ]
     },
     "execution_count": 15,
     "metadata": {},
     "output_type": "execute_result"
    }
   ],
   "source": [
    "data.duplicated().sum()"
   ]
  },
  {
   "cell_type": "code",
   "execution_count": 16,
   "id": "860cd288",
   "metadata": {
    "deletable": false,
    "id": "8575fe05"
   },
   "outputs": [],
   "source": [
    "data = data.drop_duplicates()"
   ]
  },
  {
   "cell_type": "markdown",
   "id": "793de709",
   "metadata": {
    "deletable": false,
    "editable": false,
    "id": "9904cf55"
   },
   "source": [
    "### Категоризация данных"
   ]
  },
  {
   "cell_type": "markdown",
   "id": "479dd4fa",
   "metadata": {
    "deletable": false,
    "editable": false,
    "id": "72fcc8a2"
   },
   "source": [
    "**Задание 16. На основании диапазонов, указанных ниже, создайте в датафрейме `data` столбец `total_income_category` с категориями:**\n",
    "\n",
    "- 0–30000 — `'E'`;\n",
    "- 30001–50000 — `'D'`;\n",
    "- 50001–200000 — `'C'`;\n",
    "- 200001–1000000 — `'B'`;\n",
    "- 1000001 и выше — `'A'`.\n",
    "\n",
    "\n",
    "**Например, кредитополучателю с доходом 25000 нужно назначить категорию `'E'`, а клиенту, получающему 235000, — `'B'`. Используйте собственную функцию с именем `categorize_income()` и метод `apply()`.**"
   ]
  },
  {
   "cell_type": "code",
   "execution_count": 17,
   "id": "ae065bb3",
   "metadata": {
    "deletable": false,
    "id": "e1771346"
   },
   "outputs": [],
   "source": [
    "def categorize_income(income):\n",
    "    try:\n",
    "        if 0 <= income <= 30000:\n",
    "            return 'E'\n",
    "        elif 30001 <= income <= 50000:\n",
    "            return 'D'\n",
    "        elif 50001 <= income <= 200000:\n",
    "            return 'C'\n",
    "        elif 200001 <= income <= 1000000:\n",
    "            return 'B'\n",
    "        elif income >= 1000001:\n",
    "            return 'A'\n",
    "    except:\n",
    "        pass"
   ]
  },
  {
   "cell_type": "code",
   "execution_count": 18,
   "id": "42367e42",
   "metadata": {
    "deletable": false,
    "id": "d5f3586d"
   },
   "outputs": [],
   "source": [
    "data['total_income_category'] = data['total_income'].apply(categorize_income)"
   ]
  },
  {
   "cell_type": "markdown",
   "id": "0083fee3",
   "metadata": {
    "deletable": false,
    "editable": false,
    "id": "dde49b5c"
   },
   "source": [
    "**Задание 17. Выведите на экран перечень уникальных целей взятия кредита из столбца `purpose`.**"
   ]
  },
  {
   "cell_type": "code",
   "execution_count": 19,
   "id": "b716dbfa",
   "metadata": {
    "deletable": false,
    "id": "f67ce9b3",
    "outputId": "673c12d9-7d7e-4ae0-9812-c622c89dd244"
   },
   "outputs": [
    {
     "data": {
      "text/plain": [
       "array(['покупка жилья', 'приобретение автомобиля',\n",
       "       'дополнительное образование', 'сыграть свадьбу',\n",
       "       'операции с жильем', 'образование', 'на проведение свадьбы',\n",
       "       'покупка жилья для семьи', 'покупка недвижимости',\n",
       "       'покупка коммерческой недвижимости', 'покупка жилой недвижимости',\n",
       "       'строительство собственной недвижимости', 'недвижимость',\n",
       "       'строительство недвижимости', 'на покупку подержанного автомобиля',\n",
       "       'на покупку своего автомобиля',\n",
       "       'операции с коммерческой недвижимостью',\n",
       "       'строительство жилой недвижимости', 'жилье',\n",
       "       'операции со своей недвижимостью', 'автомобили',\n",
       "       'заняться образованием', 'сделка с подержанным автомобилем',\n",
       "       'получение образования', 'автомобиль', 'свадьба',\n",
       "       'получение дополнительного образования', 'покупка своего жилья',\n",
       "       'операции с недвижимостью', 'получение высшего образования',\n",
       "       'свой автомобиль', 'сделка с автомобилем',\n",
       "       'профильное образование', 'высшее образование',\n",
       "       'покупка жилья для сдачи', 'на покупку автомобиля', 'ремонт жилью',\n",
       "       'заняться высшим образованием'], dtype=object)"
      ]
     },
     "execution_count": 19,
     "metadata": {},
     "output_type": "execute_result"
    }
   ],
   "source": [
    "data['purpose'].unique()"
   ]
  },
  {
   "cell_type": "markdown",
   "id": "ce0ad09f",
   "metadata": {
    "deletable": false,
    "editable": false,
    "id": "85d0aef0"
   },
   "source": [
    "**Задание 18. Создайте функцию, которая на основании данных из столбца `purpose` сформирует новый столбец `purpose_category`, в который войдут следующие категории:**\n",
    "\n",
    "- `'операции с автомобилем'`,\n",
    "- `'операции с недвижимостью'`,\n",
    "- `'проведение свадьбы'`,\n",
    "- `'получение образования'`.\n",
    "\n",
    "**Например, если в столбце `purpose` находится подстрока `'на покупку автомобиля'`, то в столбце `purpose_category` должна появиться строка `'операции с автомобилем'`.**\n",
    "\n",
    "**Используйте собственную функцию с именем `categorize_purpose()` и метод `apply()`. Изучите данные в столбце `purpose` и определите, какие подстроки помогут вам правильно определить категорию.**"
   ]
  },
  {
   "cell_type": "code",
   "execution_count": 20,
   "id": "366b42ef",
   "metadata": {
    "deletable": false,
    "id": "e149fab4"
   },
   "outputs": [],
   "source": [
    "def categorize_purpose(row):\n",
    "    try:\n",
    "        if 'автом' in row:\n",
    "            return 'операции с автомобилем'\n",
    "        elif 'жил' in row or 'недвиж' in row:\n",
    "            return 'операции с недвижимостью'\n",
    "        elif 'свад' in row:\n",
    "            return 'проведение свадьбы'\n",
    "        elif 'образов' in row:\n",
    "            return 'получение образования'\n",
    "    except:\n",
    "        return 'нет категории'"
   ]
  },
  {
   "cell_type": "code",
   "execution_count": 21,
   "id": "531e0721",
   "metadata": {
    "deletable": false,
    "id": "bf36e69b"
   },
   "outputs": [],
   "source": [
    "data['purpose_category'] = data['purpose'].apply(categorize_purpose)"
   ]
  },
  {
   "cell_type": "markdown",
   "id": "227ef29a",
   "metadata": {
    "deletable": false,
    "editable": false,
    "id": "09b242bf"
   },
   "source": [
    "### Шаг 3. Исследуйте данные и ответьте на вопросы"
   ]
  },
  {
   "cell_type": "markdown",
   "id": "bc3961fe",
   "metadata": {
    "deletable": false,
    "editable": false,
    "id": "c5d66278"
   },
   "source": [
    "#### 3.1 Есть ли зависимость между количеством детей и возвратом кредита в срок?"
   ]
  },
  {
   "cell_type": "markdown",
   "id": "db0d0734",
   "metadata": {
    "deletable": false,
    "id": "2cacfc4a"
   },
   "source": [
    "Создадим сгруппированную таблицу с подсчётом процентного соотношения должников от всех заёмщиков в зависимости от количества детей."
   ]
  },
  {
   "cell_type": "code",
   "execution_count": 22,
   "id": "073b7ed7",
   "metadata": {},
   "outputs": [
    {
     "data": {
      "text/html": [
       "<style  type=\"text/css\" >\n",
       "</style><table id=\"T_b3c40_\" ><thead>    <tr>        <th class=\"blank level0\" ></th>        <th class=\"col_heading level0 col0\" >Кол-во заёмщиков</th>        <th class=\"col_heading level0 col1\" >Кол-во должников</th>        <th class=\"col_heading level0 col2\" >Процент должников</th>    </tr>    <tr>        <th class=\"index_name level0\" >children</th>        <th class=\"blank\" ></th>        <th class=\"blank\" ></th>        <th class=\"blank\" ></th>    </tr></thead><tbody>\n",
       "                <tr>\n",
       "                        <th id=\"T_b3c40_level0_row0\" class=\"row_heading level0 row0\" >0</th>\n",
       "                        <td id=\"T_b3c40_row0_col0\" class=\"data row0 col0\" >14091</td>\n",
       "                        <td id=\"T_b3c40_row0_col1\" class=\"data row0 col1\" >1063</td>\n",
       "                        <td id=\"T_b3c40_row0_col2\" class=\"data row0 col2\" >7.54%</td>\n",
       "            </tr>\n",
       "            <tr>\n",
       "                        <th id=\"T_b3c40_level0_row1\" class=\"row_heading level0 row1\" >1</th>\n",
       "                        <td id=\"T_b3c40_row1_col0\" class=\"data row1 col0\" >4808</td>\n",
       "                        <td id=\"T_b3c40_row1_col1\" class=\"data row1 col1\" >444</td>\n",
       "                        <td id=\"T_b3c40_row1_col2\" class=\"data row1 col2\" >9.23%</td>\n",
       "            </tr>\n",
       "            <tr>\n",
       "                        <th id=\"T_b3c40_level0_row2\" class=\"row_heading level0 row2\" >2</th>\n",
       "                        <td id=\"T_b3c40_row2_col0\" class=\"data row2 col0\" >2052</td>\n",
       "                        <td id=\"T_b3c40_row2_col1\" class=\"data row2 col1\" >194</td>\n",
       "                        <td id=\"T_b3c40_row2_col2\" class=\"data row2 col2\" >9.45%</td>\n",
       "            </tr>\n",
       "            <tr>\n",
       "                        <th id=\"T_b3c40_level0_row3\" class=\"row_heading level0 row3\" >3</th>\n",
       "                        <td id=\"T_b3c40_row3_col0\" class=\"data row3 col0\" >330</td>\n",
       "                        <td id=\"T_b3c40_row3_col1\" class=\"data row3 col1\" >27</td>\n",
       "                        <td id=\"T_b3c40_row3_col2\" class=\"data row3 col2\" >8.18%</td>\n",
       "            </tr>\n",
       "            <tr>\n",
       "                        <th id=\"T_b3c40_level0_row4\" class=\"row_heading level0 row4\" >4</th>\n",
       "                        <td id=\"T_b3c40_row4_col0\" class=\"data row4 col0\" >41</td>\n",
       "                        <td id=\"T_b3c40_row4_col1\" class=\"data row4 col1\" >4</td>\n",
       "                        <td id=\"T_b3c40_row4_col2\" class=\"data row4 col2\" >9.76%</td>\n",
       "            </tr>\n",
       "            <tr>\n",
       "                        <th id=\"T_b3c40_level0_row5\" class=\"row_heading level0 row5\" >5</th>\n",
       "                        <td id=\"T_b3c40_row5_col0\" class=\"data row5 col0\" >9</td>\n",
       "                        <td id=\"T_b3c40_row5_col1\" class=\"data row5 col1\" >0</td>\n",
       "                        <td id=\"T_b3c40_row5_col2\" class=\"data row5 col2\" >0.00%</td>\n",
       "            </tr>\n",
       "    </tbody></table>"
      ],
      "text/plain": [
       "<pandas.io.formats.style.Styler at 0x2220f041ac0>"
      ]
     },
     "execution_count": 22,
     "metadata": {},
     "output_type": "execute_result"
    }
   ],
   "source": [
    "children_data = data.groupby('children').agg({'gender':'count', 'debt':'sum'})\n",
    "children_data['debtors_percentage'] = children_data['debt'] / children_data['gender']\n",
    "children_data.columns = ['Кол-во заёмщиков', 'Кол-во должников', 'Процент должников']\n",
    "children_data.style.format({'Процент должников':'{:.2%}'})"
   ]
  },
  {
   "cell_type": "markdown",
   "id": "54199370",
   "metadata": {
    "deletable": false,
    "id": "3a6b99ec"
   },
   "source": [
    "**Вывод:** мы видим, что есть небольшая зависимость между наличием детей и возвратом кредита в срок. Заёмщики с детьми чаще допускают просрочки в платежах, чем заёмщики без детей. Разница в проценте должников в зависимости от точного количества детей настолько мала, что ей можно пренебречь."
   ]
  },
  {
   "cell_type": "markdown",
   "id": "b67d8659",
   "metadata": {
    "deletable": false,
    "editable": false,
    "id": "97be82ca"
   },
   "source": [
    "#### 3.2 Есть ли зависимость между семейным положением и возвратом кредита в срок?"
   ]
  },
  {
   "cell_type": "markdown",
   "id": "4a3d0297",
   "metadata": {},
   "source": [
    "Создадим сгруппированную таблицу с подсчётом процентного соотношения должников от всех заёмщиков в зависимости от семейного положения."
   ]
  },
  {
   "cell_type": "code",
   "execution_count": 23,
   "id": "da58e187",
   "metadata": {
    "deletable": false,
    "id": "dc3f7ee8"
   },
   "outputs": [
    {
     "data": {
      "text/html": [
       "<style  type=\"text/css\" >\n",
       "</style><table id=\"T_8d4a9_\" ><thead>    <tr>        <th class=\"blank level0\" ></th>        <th class=\"col_heading level0 col0\" >Кол-во заёмщиков</th>        <th class=\"col_heading level0 col1\" >Кол-во должников</th>        <th class=\"col_heading level0 col2\" >Процент должников</th>    </tr>    <tr>        <th class=\"index_name level0\" >family_status</th>        <th class=\"blank\" ></th>        <th class=\"blank\" ></th>        <th class=\"blank\" ></th>    </tr></thead><tbody>\n",
       "                <tr>\n",
       "                        <th id=\"T_8d4a9_level0_row0\" class=\"row_heading level0 row0\" >Не женат / не замужем</th>\n",
       "                        <td id=\"T_8d4a9_row0_col0\" class=\"data row0 col0\" >2796</td>\n",
       "                        <td id=\"T_8d4a9_row0_col1\" class=\"data row0 col1\" >273</td>\n",
       "                        <td id=\"T_8d4a9_row0_col2\" class=\"data row0 col2\" >9.76%</td>\n",
       "            </tr>\n",
       "            <tr>\n",
       "                        <th id=\"T_8d4a9_level0_row1\" class=\"row_heading level0 row1\" >в разводе</th>\n",
       "                        <td id=\"T_8d4a9_row1_col0\" class=\"data row1 col0\" >1189</td>\n",
       "                        <td id=\"T_8d4a9_row1_col1\" class=\"data row1 col1\" >84</td>\n",
       "                        <td id=\"T_8d4a9_row1_col2\" class=\"data row1 col2\" >7.06%</td>\n",
       "            </tr>\n",
       "            <tr>\n",
       "                        <th id=\"T_8d4a9_level0_row2\" class=\"row_heading level0 row2\" >вдовец / вдова</th>\n",
       "                        <td id=\"T_8d4a9_row2_col0\" class=\"data row2 col0\" >951</td>\n",
       "                        <td id=\"T_8d4a9_row2_col1\" class=\"data row2 col1\" >63</td>\n",
       "                        <td id=\"T_8d4a9_row2_col2\" class=\"data row2 col2\" >6.62%</td>\n",
       "            </tr>\n",
       "            <tr>\n",
       "                        <th id=\"T_8d4a9_level0_row3\" class=\"row_heading level0 row3\" >гражданский брак</th>\n",
       "                        <td id=\"T_8d4a9_row3_col0\" class=\"data row3 col0\" >4134</td>\n",
       "                        <td id=\"T_8d4a9_row3_col1\" class=\"data row3 col1\" >385</td>\n",
       "                        <td id=\"T_8d4a9_row3_col2\" class=\"data row3 col2\" >9.31%</td>\n",
       "            </tr>\n",
       "            <tr>\n",
       "                        <th id=\"T_8d4a9_level0_row4\" class=\"row_heading level0 row4\" >женат / замужем</th>\n",
       "                        <td id=\"T_8d4a9_row4_col0\" class=\"data row4 col0\" >12261</td>\n",
       "                        <td id=\"T_8d4a9_row4_col1\" class=\"data row4 col1\" >927</td>\n",
       "                        <td id=\"T_8d4a9_row4_col2\" class=\"data row4 col2\" >7.56%</td>\n",
       "            </tr>\n",
       "    </tbody></table>"
      ],
      "text/plain": [
       "<pandas.io.formats.style.Styler at 0x2221100aac0>"
      ]
     },
     "execution_count": 23,
     "metadata": {},
     "output_type": "execute_result"
    }
   ],
   "source": [
    "family_status_data = data.groupby('family_status').agg({'gender':'count', 'debt':'sum'})\n",
    "family_status_data['debtors_percentage'] = family_status_data['debt'] / family_status_data['gender']\n",
    "family_status_data.columns = ['Кол-во заёмщиков', 'Кол-во должников', 'Процент должников']\n",
    "family_status_data.style.format({'Процент должников':'{:.2%}'})"
   ]
  },
  {
   "cell_type": "markdown",
   "id": "dff4ce27",
   "metadata": {
    "deletable": false,
    "id": "1cef7837"
   },
   "source": [
    "**Вывод:** есть зависимость между семейным положением и возвратом кредита в срок. В частности, мы видим, что заёмщики, не состоящие в браке, либо состоящие в гражданском браке, чаще совершают просрочки в платежах, чем семейные заёмщики."
   ]
  },
  {
   "cell_type": "markdown",
   "id": "d071ed5a",
   "metadata": {
    "deletable": false,
    "editable": false,
    "id": "1e8b2fca"
   },
   "source": [
    "#### 3.3 Есть ли зависимость между уровнем дохода и возвратом кредита в срок?"
   ]
  },
  {
   "cell_type": "markdown",
   "id": "f4fbbb06",
   "metadata": {},
   "source": [
    "Создадим сгруппированную таблицу с подсчётом процентного соотношения должников от всех заёмщиков в зависимости от уровня дохода."
   ]
  },
  {
   "cell_type": "code",
   "execution_count": 24,
   "id": "0ce7b358",
   "metadata": {
    "deletable": false,
    "id": "cd7e3720"
   },
   "outputs": [
    {
     "data": {
      "text/html": [
       "<style  type=\"text/css\" >\n",
       "</style><table id=\"T_32e6a_\" ><thead>    <tr>        <th class=\"blank level0\" ></th>        <th class=\"col_heading level0 col0\" >Кол-во заёмщиков</th>        <th class=\"col_heading level0 col1\" >Кол-во должников</th>        <th class=\"col_heading level0 col2\" >Процент должников</th>    </tr>    <tr>        <th class=\"index_name level0\" >total_income_category</th>        <th class=\"blank\" ></th>        <th class=\"blank\" ></th>        <th class=\"blank\" ></th>    </tr></thead><tbody>\n",
       "                <tr>\n",
       "                        <th id=\"T_32e6a_level0_row0\" class=\"row_heading level0 row0\" >A</th>\n",
       "                        <td id=\"T_32e6a_row0_col0\" class=\"data row0 col0\" >25</td>\n",
       "                        <td id=\"T_32e6a_row0_col1\" class=\"data row0 col1\" >2</td>\n",
       "                        <td id=\"T_32e6a_row0_col2\" class=\"data row0 col2\" >8.00%</td>\n",
       "            </tr>\n",
       "            <tr>\n",
       "                        <th id=\"T_32e6a_level0_row1\" class=\"row_heading level0 row1\" >B</th>\n",
       "                        <td id=\"T_32e6a_row1_col0\" class=\"data row1 col0\" >5014</td>\n",
       "                        <td id=\"T_32e6a_row1_col1\" class=\"data row1 col1\" >354</td>\n",
       "                        <td id=\"T_32e6a_row1_col2\" class=\"data row1 col2\" >7.06%</td>\n",
       "            </tr>\n",
       "            <tr>\n",
       "                        <th id=\"T_32e6a_level0_row2\" class=\"row_heading level0 row2\" >C</th>\n",
       "                        <td id=\"T_32e6a_row2_col0\" class=\"data row2 col0\" >15921</td>\n",
       "                        <td id=\"T_32e6a_row2_col1\" class=\"data row2 col1\" >1353</td>\n",
       "                        <td id=\"T_32e6a_row2_col2\" class=\"data row2 col2\" >8.50%</td>\n",
       "            </tr>\n",
       "            <tr>\n",
       "                        <th id=\"T_32e6a_level0_row3\" class=\"row_heading level0 row3\" >D</th>\n",
       "                        <td id=\"T_32e6a_row3_col0\" class=\"data row3 col0\" >349</td>\n",
       "                        <td id=\"T_32e6a_row3_col1\" class=\"data row3 col1\" >21</td>\n",
       "                        <td id=\"T_32e6a_row3_col2\" class=\"data row3 col2\" >6.02%</td>\n",
       "            </tr>\n",
       "            <tr>\n",
       "                        <th id=\"T_32e6a_level0_row4\" class=\"row_heading level0 row4\" >E</th>\n",
       "                        <td id=\"T_32e6a_row4_col0\" class=\"data row4 col0\" >22</td>\n",
       "                        <td id=\"T_32e6a_row4_col1\" class=\"data row4 col1\" >2</td>\n",
       "                        <td id=\"T_32e6a_row4_col2\" class=\"data row4 col2\" >9.09%</td>\n",
       "            </tr>\n",
       "    </tbody></table>"
      ],
      "text/plain": [
       "<pandas.io.formats.style.Styler at 0x2221100a4f0>"
      ]
     },
     "execution_count": 24,
     "metadata": {},
     "output_type": "execute_result"
    }
   ],
   "source": [
    "income_category_data = data.groupby('total_income_category').agg({'gender':'count', 'debt':'sum'})\n",
    "income_category_data['debtors_percentage'] = income_category_data['debt'] / income_category_data['gender']\n",
    "income_category_data.columns = ['Кол-во заёмщиков', 'Кол-во должников', 'Процент должников']\n",
    "income_category_data.style.format({'Процент должников':'{:.2%}'})"
   ]
  },
  {
   "cell_type": "markdown",
   "id": "fa1c291b",
   "metadata": {
    "deletable": false,
    "id": "e8593def"
   },
   "source": [
    "**Вывод:** заёмщики со средним/средне-высоким доходом (категория C) имеют более высокий процент должников, чем заёмщики с высоким уровнем дохода (категории A и B). Самый низкий процент должников у заёмщиков с низким доходом (категория D)."
   ]
  },
  {
   "cell_type": "markdown",
   "id": "98131489",
   "metadata": {
    "deletable": false,
    "editable": false,
    "id": "99ecbd1f"
   },
   "source": [
    "#### 3.4 Как разные цели кредита влияют на его возврат в срок?"
   ]
  },
  {
   "cell_type": "markdown",
   "id": "b8dca58e",
   "metadata": {},
   "source": [
    "Создадим сгруппированную таблицу с подсчётом процентного соотношения должников от всех заёмщиков в зависимости от цели кредита."
   ]
  },
  {
   "cell_type": "code",
   "execution_count": 25,
   "id": "b41dec8f",
   "metadata": {
    "deletable": false,
    "id": "2b687290"
   },
   "outputs": [
    {
     "data": {
      "text/html": [
       "<style  type=\"text/css\" >\n",
       "</style><table id=\"T_5c65b_\" ><thead>    <tr>        <th class=\"blank level0\" ></th>        <th class=\"col_heading level0 col0\" >Кол-во заёмщиков</th>        <th class=\"col_heading level0 col1\" >Кол-во должников</th>        <th class=\"col_heading level0 col2\" >Процент должников</th>    </tr>    <tr>        <th class=\"index_name level0\" >purpose_category</th>        <th class=\"blank\" ></th>        <th class=\"blank\" ></th>        <th class=\"blank\" ></th>    </tr></thead><tbody>\n",
       "                <tr>\n",
       "                        <th id=\"T_5c65b_level0_row0\" class=\"row_heading level0 row0\" >операции с автомобилем</th>\n",
       "                        <td id=\"T_5c65b_row0_col0\" class=\"data row0 col0\" >4279</td>\n",
       "                        <td id=\"T_5c65b_row0_col1\" class=\"data row0 col1\" >400</td>\n",
       "                        <td id=\"T_5c65b_row0_col2\" class=\"data row0 col2\" >9.35%</td>\n",
       "            </tr>\n",
       "            <tr>\n",
       "                        <th id=\"T_5c65b_level0_row1\" class=\"row_heading level0 row1\" >операции с недвижимостью</th>\n",
       "                        <td id=\"T_5c65b_row1_col0\" class=\"data row1 col0\" >10751</td>\n",
       "                        <td id=\"T_5c65b_row1_col1\" class=\"data row1 col1\" >780</td>\n",
       "                        <td id=\"T_5c65b_row1_col2\" class=\"data row1 col2\" >7.26%</td>\n",
       "            </tr>\n",
       "            <tr>\n",
       "                        <th id=\"T_5c65b_level0_row2\" class=\"row_heading level0 row2\" >получение образования</th>\n",
       "                        <td id=\"T_5c65b_row2_col0\" class=\"data row2 col0\" >3988</td>\n",
       "                        <td id=\"T_5c65b_row2_col1\" class=\"data row2 col1\" >369</td>\n",
       "                        <td id=\"T_5c65b_row2_col2\" class=\"data row2 col2\" >9.25%</td>\n",
       "            </tr>\n",
       "            <tr>\n",
       "                        <th id=\"T_5c65b_level0_row3\" class=\"row_heading level0 row3\" >проведение свадьбы</th>\n",
       "                        <td id=\"T_5c65b_row3_col0\" class=\"data row3 col0\" >2313</td>\n",
       "                        <td id=\"T_5c65b_row3_col1\" class=\"data row3 col1\" >183</td>\n",
       "                        <td id=\"T_5c65b_row3_col2\" class=\"data row3 col2\" >7.91%</td>\n",
       "            </tr>\n",
       "    </tbody></table>"
      ],
      "text/plain": [
       "<pandas.io.formats.style.Styler at 0x2221100abb0>"
      ]
     },
     "execution_count": 25,
     "metadata": {},
     "output_type": "execute_result"
    }
   ],
   "source": [
    "purpose_category_data = data.groupby('purpose_category').agg({'gender':'count', 'debt':'sum'})\n",
    "purpose_category_data['debtors_percentage'] = purpose_category_data['debt'] / purpose_category_data['gender']\n",
    "purpose_category_data.columns = ['Кол-во заёмщиков', 'Кол-во должников', 'Процент должников']\n",
    "purpose_category_data.style.format({'Процент должников':'{:.2%}'})"
   ]
  },
  {
   "cell_type": "markdown",
   "id": "db773f76",
   "metadata": {
    "deletable": false,
    "id": "b4bb2ce6"
   },
   "source": [
    "**Вывод:** цель кредита имеет влияние на его возврат в срок. Так среди заёмщиков на операции с недвижимостью реже всего встречаются должники. А операции с автомобилем и получение образования - это цели, которые несут в себе повышенный риск невозврата кредита в срок."
   ]
  },
  {
   "cell_type": "markdown",
   "id": "55c12680",
   "metadata": {
    "deletable": false,
    "editable": false,
    "id": "09c3ac4c"
   },
   "source": [
    "#### 3.5 Приведите возможные причины появления пропусков в исходных данных."
   ]
  },
  {
   "cell_type": "markdown",
   "id": "9c564631",
   "metadata": {
    "deletable": false,
    "id": "9da2ceda"
   },
   "source": [
    "*Ответ:* в нашем случае пропуски данных в одинаковом количестве и в одинаковых строках наблюдались в столбцах 'days_employed' и 'total_income'. Пропуски в такой информации могли возникнуть из-за ошибки выгрузки информации, или из-за человеческого фактора."
   ]
  },
  {
   "cell_type": "markdown",
   "id": "67733ac1",
   "metadata": {
    "deletable": false,
    "editable": false,
    "id": "7b0487d6"
   },
   "source": [
    "#### 3.6 Объясните, почему заполнить пропуски медианным значением — лучшее решение для количественных переменных."
   ]
  },
  {
   "cell_type": "markdown",
   "id": "7ebaeebb",
   "metadata": {
    "deletable": false,
    "id": "7ecf2b8e"
   },
   "source": [
    "*Ответ:* при работе с большой выборкой лучше всего заполнять пропуски медианным значением, а не средним арифметическим, в связи с тем, что даже небольшое количество аномально высоких или низких значений могут сильно исказить среднее арифметическое. Наиболее точные данные в этом случае предоставляет именно медианное значение."
   ]
  },
  {
   "cell_type": "markdown",
   "id": "dd3e17ad",
   "metadata": {
    "deletable": false,
    "editable": false,
    "id": "6db5255a"
   },
   "source": [
    "### Шаг 4: общий вывод."
   ]
  },
  {
   "cell_type": "markdown",
   "id": "cde66e21",
   "metadata": {
    "deletable": false,
    "id": "bad65432"
   },
   "source": [
    "Мы проверили четыре гипотезы о наличии зависимости между возвратом кредита в срок и такими факторами, как наличие детей, семейное положение, уровень дохода и цель кредита.\n",
    "\n",
    "Зависимость возврата кредита от наличия детей существует, заёмщики с детьми чаще допускают просрочку платежей. При этом точное количество детей не имеет значения.\n",
    "\n",
    "Зависимость возврата кредита от семейного положения также присутствует, семейные заёмщики реже становятся должниками, чем заёмщики, не состоящие в браке, либо состоящие в гражданском браке.\n",
    "\n",
    "Зависимость возврата кредита от доходов выражена слабо, но заёмщики со средним и средне/высоким доходом допускают просрочки чаще, чем заёмщики с высоким или низким доходом.\n",
    "\n",
    "Зависимость возврата кредита от цели кредита присутствует, при получении кредита на операции с недвижимостью или на свадьбу заёмщики реже допускают просрочки, чем при получении кредита на образование или на покупку автомобиля.\n",
    "\n",
    "Необходимо учитывать вышеперечисленные факторы при создании scoring системы клиентов."
   ]
  }
 ],
 "metadata": {
  "ExecuteTimeLog": [
   {
    "duration": 493,
    "start_time": "2022-09-01T15:11:57.292Z"
   },
   {
    "duration": 24,
    "start_time": "2022-09-01T15:11:57.787Z"
   },
   {
    "duration": 17,
    "start_time": "2022-09-01T15:11:57.812Z"
   },
   {
    "duration": 11,
    "start_time": "2022-09-01T15:11:57.830Z"
   },
   {
    "duration": 57,
    "start_time": "2022-09-01T15:11:57.843Z"
   },
   {
    "duration": 4,
    "start_time": "2022-09-01T15:11:57.901Z"
   },
   {
    "duration": 12,
    "start_time": "2022-09-01T15:11:57.907Z"
   },
   {
    "duration": 6,
    "start_time": "2022-09-01T15:11:57.921Z"
   },
   {
    "duration": 12,
    "start_time": "2022-09-01T15:11:57.929Z"
   },
   {
    "duration": 9,
    "start_time": "2022-09-01T15:11:57.943Z"
   },
   {
    "duration": 60,
    "start_time": "2022-09-01T15:11:57.955Z"
   },
   {
    "duration": 16,
    "start_time": "2022-09-01T15:11:58.017Z"
   },
   {
    "duration": 16,
    "start_time": "2022-09-01T15:11:58.035Z"
   },
   {
    "duration": 14,
    "start_time": "2022-09-01T15:11:58.055Z"
   },
   {
    "duration": 31,
    "start_time": "2022-09-01T15:11:58.070Z"
   },
   {
    "duration": 18,
    "start_time": "2022-09-01T15:11:58.103Z"
   },
   {
    "duration": 4,
    "start_time": "2022-09-01T15:11:58.122Z"
   },
   {
    "duration": 13,
    "start_time": "2022-09-01T15:11:58.128Z"
   },
   {
    "duration": 6,
    "start_time": "2022-09-01T15:11:58.143Z"
   },
   {
    "duration": 4,
    "start_time": "2022-09-01T15:11:58.150Z"
   },
   {
    "duration": 9,
    "start_time": "2022-09-01T15:12:00.308Z"
   },
   {
    "duration": 14,
    "start_time": "2022-09-01T15:12:37.022Z"
   },
   {
    "duration": 5,
    "start_time": "2022-09-01T15:13:27.738Z"
   },
   {
    "duration": 6,
    "start_time": "2022-09-01T15:13:32.578Z"
   },
   {
    "duration": 7,
    "start_time": "2022-09-01T15:14:02.020Z"
   },
   {
    "duration": 9,
    "start_time": "2022-09-01T15:20:18.408Z"
   },
   {
    "duration": 8,
    "start_time": "2022-09-01T15:23:59.251Z"
   },
   {
    "duration": 9,
    "start_time": "2022-09-01T15:24:59.187Z"
   },
   {
    "duration": 9,
    "start_time": "2022-09-01T16:26:37.989Z"
   },
   {
    "duration": 7,
    "start_time": "2022-09-01T16:27:23.850Z"
   },
   {
    "duration": 7,
    "start_time": "2022-09-01T16:27:28.478Z"
   },
   {
    "duration": 9,
    "start_time": "2022-09-01T16:28:53.450Z"
   },
   {
    "duration": 6,
    "start_time": "2022-09-01T16:29:20.118Z"
   },
   {
    "duration": 7,
    "start_time": "2022-09-01T16:29:28.125Z"
   },
   {
    "duration": 10,
    "start_time": "2022-09-01T16:29:31.426Z"
   },
   {
    "duration": 63,
    "start_time": "2022-09-01T16:29:39.083Z"
   },
   {
    "duration": 13,
    "start_time": "2022-09-01T16:29:42.922Z"
   },
   {
    "duration": 47,
    "start_time": "2022-09-02T10:50:52.261Z"
   },
   {
    "duration": 994,
    "start_time": "2022-09-02T10:51:07.711Z"
   },
   {
    "duration": 20,
    "start_time": "2022-09-02T10:51:08.707Z"
   },
   {
    "duration": 13,
    "start_time": "2022-09-02T10:51:08.728Z"
   },
   {
    "duration": 8,
    "start_time": "2022-09-02T10:51:08.743Z"
   },
   {
    "duration": 28,
    "start_time": "2022-09-02T10:51:08.752Z"
   },
   {
    "duration": 18,
    "start_time": "2022-09-02T10:51:08.781Z"
   },
   {
    "duration": 9,
    "start_time": "2022-09-02T10:51:08.800Z"
   },
   {
    "duration": 4,
    "start_time": "2022-09-02T10:51:08.810Z"
   },
   {
    "duration": 7,
    "start_time": "2022-09-02T10:51:08.815Z"
   },
   {
    "duration": 3,
    "start_time": "2022-09-02T10:51:08.824Z"
   },
   {
    "duration": 29,
    "start_time": "2022-09-02T10:51:08.829Z"
   },
   {
    "duration": 7,
    "start_time": "2022-09-02T10:51:08.860Z"
   },
   {
    "duration": 31,
    "start_time": "2022-09-02T10:51:08.869Z"
   },
   {
    "duration": 12,
    "start_time": "2022-09-02T10:51:08.901Z"
   },
   {
    "duration": 18,
    "start_time": "2022-09-02T10:51:08.914Z"
   },
   {
    "duration": 15,
    "start_time": "2022-09-02T10:51:08.934Z"
   },
   {
    "duration": 3,
    "start_time": "2022-09-02T10:51:08.950Z"
   },
   {
    "duration": 10,
    "start_time": "2022-09-02T10:51:08.955Z"
   },
   {
    "duration": 32,
    "start_time": "2022-09-02T10:51:08.966Z"
   },
   {
    "duration": 3,
    "start_time": "2022-09-02T10:51:09.000Z"
   },
   {
    "duration": 19,
    "start_time": "2022-09-02T10:51:09.004Z"
   },
   {
    "duration": 7,
    "start_time": "2022-09-02T10:51:10.944Z"
   },
   {
    "duration": 3,
    "start_time": "2022-09-02T10:51:43.861Z"
   },
   {
    "duration": 8,
    "start_time": "2022-09-02T10:51:50.821Z"
   },
   {
    "duration": 7,
    "start_time": "2022-09-02T10:51:56.219Z"
   },
   {
    "duration": 972,
    "start_time": "2022-09-02T10:54:03.664Z"
   },
   {
    "duration": 761,
    "start_time": "2022-09-02T10:55:35.582Z"
   },
   {
    "duration": 652,
    "start_time": "2022-09-02T10:55:38.745Z"
   },
   {
    "duration": 20,
    "start_time": "2022-09-02T10:58:01.595Z"
   },
   {
    "duration": 18,
    "start_time": "2022-09-02T10:58:49.438Z"
   },
   {
    "duration": 24,
    "start_time": "2022-09-02T10:59:22.290Z"
   },
   {
    "duration": 23,
    "start_time": "2022-09-02T10:59:29.120Z"
   },
   {
    "duration": 18,
    "start_time": "2022-09-02T10:59:40.706Z"
   },
   {
    "duration": 18,
    "start_time": "2022-09-02T11:00:03.299Z"
   },
   {
    "duration": 17,
    "start_time": "2022-09-02T11:00:12.764Z"
   },
   {
    "duration": 11,
    "start_time": "2022-09-02T11:00:51.456Z"
   },
   {
    "duration": 20,
    "start_time": "2022-09-02T11:00:57.939Z"
   },
   {
    "duration": 1918,
    "start_time": "2022-09-02T11:01:48.065Z"
   },
   {
    "duration": 24,
    "start_time": "2022-09-02T11:02:13.107Z"
   },
   {
    "duration": 1064,
    "start_time": "2022-09-02T11:02:22.759Z"
   },
   {
    "duration": 1243,
    "start_time": "2022-09-02T11:02:27.756Z"
   },
   {
    "duration": 13,
    "start_time": "2022-09-02T11:02:32.878Z"
   },
   {
    "duration": 14,
    "start_time": "2022-09-02T11:02:37.664Z"
   },
   {
    "duration": 28,
    "start_time": "2022-09-02T11:03:05.962Z"
   },
   {
    "duration": 30,
    "start_time": "2022-09-02T11:03:41.910Z"
   },
   {
    "duration": 29,
    "start_time": "2022-09-02T11:05:51.120Z"
   },
   {
    "duration": 17,
    "start_time": "2022-09-02T11:26:08.173Z"
   },
   {
    "duration": 6,
    "start_time": "2022-09-02T11:27:39.205Z"
   },
   {
    "duration": 8,
    "start_time": "2022-09-02T11:28:00.310Z"
   },
   {
    "duration": 3,
    "start_time": "2022-09-02T11:33:37.387Z"
   },
   {
    "duration": 297,
    "start_time": "2022-09-02T11:35:22.388Z"
   },
   {
    "duration": 6,
    "start_time": "2022-09-02T11:36:40.479Z"
   },
   {
    "duration": 300,
    "start_time": "2022-09-02T11:41:11.507Z"
   },
   {
    "duration": 6,
    "start_time": "2022-09-02T11:43:17.650Z"
   },
   {
    "duration": 9,
    "start_time": "2022-09-02T11:46:11.619Z"
   },
   {
    "duration": 20,
    "start_time": "2022-09-02T12:07:04.501Z"
   },
   {
    "duration": 18,
    "start_time": "2022-09-02T12:11:03.333Z"
   },
   {
    "duration": 19,
    "start_time": "2022-09-02T12:12:22.926Z"
   },
   {
    "duration": 19,
    "start_time": "2022-09-02T12:12:24.977Z"
   },
   {
    "duration": 20,
    "start_time": "2022-09-02T12:12:30.914Z"
   },
   {
    "duration": 19,
    "start_time": "2022-09-02T12:12:33.077Z"
   },
   {
    "duration": 16,
    "start_time": "2022-09-02T12:36:38.114Z"
   },
   {
    "duration": 9,
    "start_time": "2022-09-02T12:38:03.784Z"
   },
   {
    "duration": 2327,
    "start_time": "2022-09-02T12:40:04.516Z"
   },
   {
    "duration": 3320,
    "start_time": "2022-09-02T12:40:09.066Z"
   },
   {
    "duration": 14,
    "start_time": "2022-09-02T12:40:23.361Z"
   },
   {
    "duration": 519,
    "start_time": "2022-09-02T12:41:12.439Z"
   },
   {
    "duration": 14,
    "start_time": "2022-09-02T12:41:21.563Z"
   },
   {
    "duration": 14,
    "start_time": "2022-09-02T12:41:22.919Z"
   },
   {
    "duration": 13,
    "start_time": "2022-09-02T12:41:54.118Z"
   },
   {
    "duration": 12,
    "start_time": "2022-09-02T12:42:09.191Z"
   },
   {
    "duration": 14,
    "start_time": "2022-09-02T12:42:10.584Z"
   },
   {
    "duration": 14,
    "start_time": "2022-09-02T12:42:11.498Z"
   },
   {
    "duration": 14,
    "start_time": "2022-09-02T12:42:11.708Z"
   },
   {
    "duration": 13,
    "start_time": "2022-09-02T12:42:11.893Z"
   },
   {
    "duration": 17,
    "start_time": "2022-09-02T12:42:12.068Z"
   },
   {
    "duration": 14,
    "start_time": "2022-09-02T12:42:12.251Z"
   },
   {
    "duration": 12,
    "start_time": "2022-09-02T12:42:42.706Z"
   },
   {
    "duration": 11,
    "start_time": "2022-09-02T12:42:55.457Z"
   },
   {
    "duration": 14,
    "start_time": "2022-09-02T12:54:42.098Z"
   },
   {
    "duration": 13,
    "start_time": "2022-09-02T12:54:52.193Z"
   },
   {
    "duration": 13,
    "start_time": "2022-09-02T13:00:05.726Z"
   },
   {
    "duration": 13,
    "start_time": "2022-09-02T13:02:35.811Z"
   },
   {
    "duration": 12,
    "start_time": "2022-09-02T14:20:29.462Z"
   },
   {
    "duration": 13,
    "start_time": "2022-09-02T14:20:40.436Z"
   },
   {
    "duration": 51,
    "start_time": "2022-09-02T15:10:23.479Z"
   },
   {
    "duration": 17,
    "start_time": "2022-09-02T15:11:04.279Z"
   },
   {
    "duration": 440,
    "start_time": "2022-09-02T15:11:31.519Z"
   },
   {
    "duration": 20,
    "start_time": "2022-09-02T15:11:31.961Z"
   },
   {
    "duration": 14,
    "start_time": "2022-09-02T15:11:31.983Z"
   },
   {
    "duration": 17,
    "start_time": "2022-09-02T15:11:33.875Z"
   },
   {
    "duration": 18,
    "start_time": "2022-09-02T15:14:30.649Z"
   },
   {
    "duration": 8,
    "start_time": "2022-09-02T15:14:50.752Z"
   },
   {
    "duration": 67,
    "start_time": "2022-09-02T15:15:02.234Z"
   },
   {
    "duration": 14,
    "start_time": "2022-09-02T15:15:02.303Z"
   },
   {
    "duration": 52,
    "start_time": "2022-09-02T15:15:02.318Z"
   },
   {
    "duration": 17,
    "start_time": "2022-09-02T15:15:02.372Z"
   },
   {
    "duration": 54,
    "start_time": "2022-09-02T15:15:02.391Z"
   },
   {
    "duration": 3,
    "start_time": "2022-09-02T15:15:02.447Z"
   },
   {
    "duration": 37,
    "start_time": "2022-09-02T15:15:02.451Z"
   },
   {
    "duration": 14,
    "start_time": "2022-09-02T15:15:02.489Z"
   },
   {
    "duration": 25,
    "start_time": "2022-09-02T15:15:02.505Z"
   },
   {
    "duration": 34,
    "start_time": "2022-09-02T15:15:02.533Z"
   },
   {
    "duration": 68,
    "start_time": "2022-09-02T15:15:02.569Z"
   },
   {
    "duration": 11,
    "start_time": "2022-09-02T15:15:02.639Z"
   },
   {
    "duration": 18,
    "start_time": "2022-09-02T15:15:02.651Z"
   },
   {
    "duration": 27,
    "start_time": "2022-09-02T15:15:02.670Z"
   },
   {
    "duration": 31,
    "start_time": "2022-09-02T15:15:02.698Z"
   },
   {
    "duration": 19,
    "start_time": "2022-09-02T15:15:02.730Z"
   },
   {
    "duration": 4,
    "start_time": "2022-09-02T15:15:02.750Z"
   },
   {
    "duration": 37,
    "start_time": "2022-09-02T15:15:02.755Z"
   },
   {
    "duration": 12,
    "start_time": "2022-09-02T15:15:02.794Z"
   },
   {
    "duration": 17,
    "start_time": "2022-09-02T15:15:02.807Z"
   },
   {
    "duration": 26,
    "start_time": "2022-09-02T15:15:02.825Z"
   },
   {
    "duration": 288,
    "start_time": "2022-09-02T15:15:02.853Z"
   },
   {
    "duration": 11,
    "start_time": "2022-09-02T15:15:03.143Z"
   },
   {
    "duration": 46,
    "start_time": "2022-09-02T15:15:03.155Z"
   },
   {
    "duration": 29,
    "start_time": "2022-09-02T15:15:03.202Z"
   },
   {
    "duration": 491,
    "start_time": "2022-09-02T16:58:56.711Z"
   },
   {
    "duration": 25,
    "start_time": "2022-09-02T16:58:57.204Z"
   },
   {
    "duration": 15,
    "start_time": "2022-09-02T16:58:57.231Z"
   },
   {
    "duration": 9,
    "start_time": "2022-09-02T16:58:57.248Z"
   },
   {
    "duration": 58,
    "start_time": "2022-09-02T16:58:57.260Z"
   },
   {
    "duration": 4,
    "start_time": "2022-09-02T16:58:57.319Z"
   },
   {
    "duration": 11,
    "start_time": "2022-09-02T16:58:57.325Z"
   },
   {
    "duration": 4,
    "start_time": "2022-09-02T16:58:57.338Z"
   },
   {
    "duration": 9,
    "start_time": "2022-09-02T16:58:57.344Z"
   },
   {
    "duration": 5,
    "start_time": "2022-09-02T16:58:57.355Z"
   },
   {
    "duration": 66,
    "start_time": "2022-09-02T16:58:57.361Z"
   },
   {
    "duration": 11,
    "start_time": "2022-09-02T16:58:57.429Z"
   },
   {
    "duration": 9,
    "start_time": "2022-09-02T16:58:57.442Z"
   },
   {
    "duration": 27,
    "start_time": "2022-09-02T16:58:57.454Z"
   },
   {
    "duration": 36,
    "start_time": "2022-09-02T16:58:57.483Z"
   },
   {
    "duration": 25,
    "start_time": "2022-09-02T16:58:57.522Z"
   },
   {
    "duration": 5,
    "start_time": "2022-09-02T16:58:57.549Z"
   },
   {
    "duration": 13,
    "start_time": "2022-09-02T16:58:57.556Z"
   },
   {
    "duration": 32,
    "start_time": "2022-09-02T16:58:57.571Z"
   },
   {
    "duration": 4,
    "start_time": "2022-09-02T16:58:57.606Z"
   },
   {
    "duration": 14,
    "start_time": "2022-09-02T16:58:57.612Z"
   },
   {
    "duration": 320,
    "start_time": "2022-09-02T16:58:57.628Z"
   },
   {
    "duration": 13,
    "start_time": "2022-09-02T16:58:57.949Z"
   },
   {
    "duration": 12,
    "start_time": "2022-09-02T16:58:57.963Z"
   },
   {
    "duration": 32,
    "start_time": "2022-09-02T16:58:57.977Z"
   },
   {
    "duration": 510,
    "start_time": "2022-09-03T20:14:42.190Z"
   },
   {
    "duration": 20,
    "start_time": "2022-09-03T20:14:42.702Z"
   },
   {
    "duration": 15,
    "start_time": "2022-09-03T20:14:42.723Z"
   },
   {
    "duration": 10,
    "start_time": "2022-09-03T20:14:42.739Z"
   },
   {
    "duration": 52,
    "start_time": "2022-09-03T20:14:42.750Z"
   },
   {
    "duration": 3,
    "start_time": "2022-09-03T20:14:42.804Z"
   },
   {
    "duration": 18,
    "start_time": "2022-09-03T20:14:42.809Z"
   },
   {
    "duration": 4,
    "start_time": "2022-09-03T20:14:42.828Z"
   },
   {
    "duration": 8,
    "start_time": "2022-09-03T20:14:42.833Z"
   },
   {
    "duration": 5,
    "start_time": "2022-09-03T20:14:42.843Z"
   },
   {
    "duration": 49,
    "start_time": "2022-09-03T20:14:42.849Z"
   },
   {
    "duration": 10,
    "start_time": "2022-09-03T20:14:42.900Z"
   },
   {
    "duration": 4,
    "start_time": "2022-09-03T20:14:42.912Z"
   },
   {
    "duration": 13,
    "start_time": "2022-09-03T20:14:42.917Z"
   },
   {
    "duration": 19,
    "start_time": "2022-09-03T20:14:42.932Z"
   },
   {
    "duration": 52,
    "start_time": "2022-09-03T20:14:42.953Z"
   },
   {
    "duration": 3,
    "start_time": "2022-09-03T20:14:43.007Z"
   },
   {
    "duration": 14,
    "start_time": "2022-09-03T20:14:43.012Z"
   },
   {
    "duration": 5,
    "start_time": "2022-09-03T20:14:43.027Z"
   },
   {
    "duration": 3,
    "start_time": "2022-09-03T20:14:43.033Z"
   },
   {
    "duration": 10,
    "start_time": "2022-09-03T20:14:43.037Z"
   },
   {
    "duration": 279,
    "start_time": "2022-09-03T20:14:43.049Z"
   },
   {
    "duration": 12,
    "start_time": "2022-09-03T20:14:43.330Z"
   },
   {
    "duration": 11,
    "start_time": "2022-09-03T20:14:43.344Z"
   },
   {
    "duration": 37,
    "start_time": "2022-09-03T20:14:43.356Z"
   }
  ],
  "colab": {
   "name": "dpp_template_part2.ipynb",
   "provenance": []
  },
  "kernelspec": {
   "display_name": "Python 3 (ipykernel)",
   "language": "python",
   "name": "python3"
  },
  "language_info": {
   "codemirror_mode": {
    "name": "ipython",
    "version": 3
   },
   "file_extension": ".py",
   "mimetype": "text/x-python",
   "name": "python",
   "nbconvert_exporter": "python",
   "pygments_lexer": "ipython3",
   "version": "3.9.13"
  },
  "toc": {
   "base_numbering": 1,
   "nav_menu": {},
   "number_sections": true,
   "sideBar": true,
   "skip_h1_title": true,
   "title_cell": "Table of Contents",
   "title_sidebar": "Contents",
   "toc_cell": false,
   "toc_position": {},
   "toc_section_display": true,
   "toc_window_display": false
  }
 },
 "nbformat": 4,
 "nbformat_minor": 5
}
