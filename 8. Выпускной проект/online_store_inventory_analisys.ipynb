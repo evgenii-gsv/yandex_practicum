{
 "cells": [
  {
   "cell_type": "markdown",
   "id": "e059ad81",
   "metadata": {},
   "source": [
    "# Анализ товарного ассортимента"
   ]
  },
  {
   "cell_type": "markdown",
   "id": "44dac5eb",
   "metadata": {},
   "source": [
    "**Постановка задачи**\n",
    "\n",
    "Заказчик исследования - интернет-магазин товаров для дома и быта «Пока все ещё тут». Необходимо провести анализ данных о транзакциях интернет-магазина.\n",
    "\n",
    "**Цель исследования**\n",
    "\n",
    "Провести анализ торгового ассортимента интернет-магазина и выделить основной и дополнительный ассортимент.\n",
    "\n",
    "**Ход исследования**\n",
    "\n",
    "Данные о транзакциях мы получим их файла `ecom_dataset_upd.csv`. О качестве данных заранее ничего не известно, поэтому перед исследовательским анализом мы ознакомимся с данными, и проведём предобработку данных.\n",
    "\n",
    "На этапе предобработки мы обработаем возможные пропуски, дубликаты и аномалии. Мы также добавим новые столбцы с данными, которые пригодятся для дальнейшего исследования.\n",
    "\n",
    "Таким образом наше исследование пройдёт в семь этапов.\n",
    "- Обзор данных\n",
    "- Предобработка данных\n",
    "- Добавление столбцов в данные\n",
    "- Проведение общего анализа данных\n",
    "- Проведение ABC-анализа\n",
    "- Проверка гипотез\n",
    "- Написание вывода\n",
    "\n",
    "**Описание данных**\n",
    "- `date` — дата заказа;\n",
    "- `customer_id` — идентификатор покупателя;\n",
    "- `order_id` — идентификатор заказа;\n",
    "- `product` — наименование товара;\n",
    "- `quantity` — количество товара в заказе;\n",
    "- `price` — цена товара."
   ]
  },
  {
   "cell_type": "markdown",
   "id": "7017ae9c",
   "metadata": {
    "toc": true
   },
   "source": [
    "<h1>Table of Contents<span class=\"tocSkip\"></span></h1>\n",
    "<div class=\"toc\"><ul class=\"toc-item\"><li><span><a href=\"#Импорт-библиотек\" data-toc-modified-id=\"Импорт-библиотек-0\"><span class=\"toc-item-num\">0&nbsp;&nbsp;</span>Импорт библиотек</a></span></li><li><span><a href=\"#Открытие-и-изучение-данных\" data-toc-modified-id=\"Открытие-и-изучение-данных-1\"><span class=\"toc-item-num\">1&nbsp;&nbsp;</span>Открытие и изучение данных</a></span></li><li><span><a href=\"#Предобработка-данных\" data-toc-modified-id=\"Предобработка-данных-2\"><span class=\"toc-item-num\">2&nbsp;&nbsp;</span>Предобработка данных</a></span><ul class=\"toc-item\"><li><span><a href=\"#Обработка-явных-и-неявных-дубликатов\" data-toc-modified-id=\"Обработка-явных-и-неявных-дубликатов-2.1\"><span class=\"toc-item-num\">2.1&nbsp;&nbsp;</span>Обработка явных и неявных дубликатов</a></span></li><li><span><a href=\"#Обработка-выбросов-и-аномалий-в-данных\" data-toc-modified-id=\"Обработка-выбросов-и-аномалий-в-данных-2.2\"><span class=\"toc-item-num\">2.2&nbsp;&nbsp;</span>Обработка выбросов и аномалий в данных</a></span></li><li><span><a href=\"#Добавление-столбцов-с-данными\" data-toc-modified-id=\"Добавление-столбцов-с-данными-2.3\"><span class=\"toc-item-num\">2.3&nbsp;&nbsp;</span>Добавление столбцов с данными</a></span></li><li><span><a href=\"#Категоризация-товаров\" data-toc-modified-id=\"Категоризация-товаров-2.4\"><span class=\"toc-item-num\">2.4&nbsp;&nbsp;</span>Категоризация товаров</a></span></li></ul></li><li><span><a href=\"#Исследовательский-анализ-данных\" data-toc-modified-id=\"Исследовательский-анализ-данных-3\"><span class=\"toc-item-num\">3&nbsp;&nbsp;</span>Исследовательский анализ данных</a></span><ul class=\"toc-item\"><li><span><a href=\"#Общий-анализ\" data-toc-modified-id=\"Общий-анализ-3.1\"><span class=\"toc-item-num\">3.1&nbsp;&nbsp;</span>Общий анализ</a></span></li><li><span><a href=\"#ABC-анализ\" data-toc-modified-id=\"ABC-анализ-3.2\"><span class=\"toc-item-num\">3.2&nbsp;&nbsp;</span>ABC-анализ</a></span></li><li><span><a href=\"#Проверка-гипотез\" data-toc-modified-id=\"Проверка-гипотез-3.3\"><span class=\"toc-item-num\">3.3&nbsp;&nbsp;</span>Проверка гипотез</a></span></li></ul></li><li><span><a href=\"#Общий-вывод\" data-toc-modified-id=\"Общий-вывод-4\"><span class=\"toc-item-num\">4&nbsp;&nbsp;</span>Общий вывод</a></span></li><li><span><a href=\"#Презентация\" data-toc-modified-id=\"Презентация-5\"><span class=\"toc-item-num\">5&nbsp;&nbsp;</span>Презентация</a></span></li><li><span><a href=\"#Дашборд\" data-toc-modified-id=\"Дашборд-6\"><span class=\"toc-item-num\">6&nbsp;&nbsp;</span>Дашборд</a></span></li></ul></div>"
   ]
  },
  {
   "cell_type": "markdown",
   "id": "b7e3fff2",
   "metadata": {},
   "source": [
    "## Импорт библиотек"
   ]
  },
  {
   "cell_type": "code",
   "execution_count": 1,
   "id": "fb08fce8",
   "metadata": {},
   "outputs": [
    {
     "name": "stdout",
     "output_type": "stream",
     "text": [
      "Библиотеки успешно импортированы\n"
     ]
    }
   ],
   "source": [
    "import locale\n",
    "from string import punctuation\n",
    "\n",
    "import pandas as pd \n",
    "import matplotlib.pyplot as plt\n",
    "import seaborn as sns\n",
    "from scipy import stats as st\n",
    "\n",
    "locale.setlocale(locale.LC_ALL, ('ru_RU', 'UTF-8'))\n",
    "sns.set_style('darkgrid')\n",
    "\n",
    "print('Библиотеки успешно импортированы')"
   ]
  },
  {
   "cell_type": "markdown",
   "id": "5641c95f",
   "metadata": {},
   "source": [
    "## Открытие и изучение данных"
   ]
  },
  {
   "cell_type": "code",
   "execution_count": 2,
   "id": "74ec3c92",
   "metadata": {},
   "outputs": [
    {
     "data": {
      "text/html": [
       "<div>\n",
       "<style scoped>\n",
       "    .dataframe tbody tr th:only-of-type {\n",
       "        vertical-align: middle;\n",
       "    }\n",
       "\n",
       "    .dataframe tbody tr th {\n",
       "        vertical-align: top;\n",
       "    }\n",
       "\n",
       "    .dataframe thead th {\n",
       "        text-align: right;\n",
       "    }\n",
       "</style>\n",
       "<table border=\"1\" class=\"dataframe\">\n",
       "  <thead>\n",
       "    <tr style=\"text-align: right;\">\n",
       "      <th></th>\n",
       "      <th>date</th>\n",
       "      <th>customer_id</th>\n",
       "      <th>order_id</th>\n",
       "      <th>product</th>\n",
       "      <th>quantity</th>\n",
       "      <th>price</th>\n",
       "    </tr>\n",
       "  </thead>\n",
       "  <tbody>\n",
       "    <tr>\n",
       "      <th>0</th>\n",
       "      <td>2018100100</td>\n",
       "      <td>ee47d746-6d2f-4d3c-9622-c31412542920</td>\n",
       "      <td>68477</td>\n",
       "      <td>Комнатное растение в горшке Алое Вера, d12, h30</td>\n",
       "      <td>1</td>\n",
       "      <td>142.0</td>\n",
       "    </tr>\n",
       "    <tr>\n",
       "      <th>1</th>\n",
       "      <td>2018100100</td>\n",
       "      <td>ee47d746-6d2f-4d3c-9622-c31412542920</td>\n",
       "      <td>68477</td>\n",
       "      <td>Комнатное растение в горшке Кофе Арабика, d12,...</td>\n",
       "      <td>1</td>\n",
       "      <td>194.0</td>\n",
       "    </tr>\n",
       "    <tr>\n",
       "      <th>2</th>\n",
       "      <td>2018100100</td>\n",
       "      <td>ee47d746-6d2f-4d3c-9622-c31412542920</td>\n",
       "      <td>68477</td>\n",
       "      <td>Радермахера d-12 см h-20 см</td>\n",
       "      <td>1</td>\n",
       "      <td>112.0</td>\n",
       "    </tr>\n",
       "    <tr>\n",
       "      <th>3</th>\n",
       "      <td>2018100100</td>\n",
       "      <td>ee47d746-6d2f-4d3c-9622-c31412542920</td>\n",
       "      <td>68477</td>\n",
       "      <td>Хризолидокарпус Лутесценс d-9 см</td>\n",
       "      <td>1</td>\n",
       "      <td>179.0</td>\n",
       "    </tr>\n",
       "    <tr>\n",
       "      <th>4</th>\n",
       "      <td>2018100100</td>\n",
       "      <td>ee47d746-6d2f-4d3c-9622-c31412542920</td>\n",
       "      <td>68477</td>\n",
       "      <td>Циперус Зумула d-12 см h-25 см</td>\n",
       "      <td>1</td>\n",
       "      <td>112.0</td>\n",
       "    </tr>\n",
       "  </tbody>\n",
       "</table>\n",
       "</div>"
      ],
      "text/plain": [
       "         date                           customer_id  order_id  \\\n",
       "0  2018100100  ee47d746-6d2f-4d3c-9622-c31412542920     68477   \n",
       "1  2018100100  ee47d746-6d2f-4d3c-9622-c31412542920     68477   \n",
       "2  2018100100  ee47d746-6d2f-4d3c-9622-c31412542920     68477   \n",
       "3  2018100100  ee47d746-6d2f-4d3c-9622-c31412542920     68477   \n",
       "4  2018100100  ee47d746-6d2f-4d3c-9622-c31412542920     68477   \n",
       "\n",
       "                                             product  quantity  price  \n",
       "0    Комнатное растение в горшке Алое Вера, d12, h30         1  142.0  \n",
       "1  Комнатное растение в горшке Кофе Арабика, d12,...         1  194.0  \n",
       "2                        Радермахера d-12 см h-20 см         1  112.0  \n",
       "3                   Хризолидокарпус Лутесценс d-9 см         1  179.0  \n",
       "4                     Циперус Зумула d-12 см h-25 см         1  112.0  "
      ]
     },
     "execution_count": 2,
     "metadata": {},
     "output_type": "execute_result"
    }
   ],
   "source": [
    "google_id = '1DkqEQWZoHh22YrsYcNUxSzlhgFqdl0tf'\n",
    "df = pd.read_csv(f'https://drive.google.com/uc?export=download&id={google_id}')\n",
    "original_lenght = len(df)\n",
    "df.head()"
   ]
  },
  {
   "cell_type": "code",
   "execution_count": 3,
   "id": "61c0e35d",
   "metadata": {
    "scrolled": false
   },
   "outputs": [
    {
     "name": "stdout",
     "output_type": "stream",
     "text": [
      "<class 'pandas.core.frame.DataFrame'>\n",
      "RangeIndex: 7474 entries, 0 to 7473\n",
      "Data columns (total 6 columns):\n",
      " #   Column       Non-Null Count  Dtype  \n",
      "---  ------       --------------  -----  \n",
      " 0   date         7474 non-null   int64  \n",
      " 1   customer_id  7474 non-null   object \n",
      " 2   order_id     7474 non-null   int64  \n",
      " 3   product      7474 non-null   object \n",
      " 4   quantity     7474 non-null   int64  \n",
      " 5   price        7474 non-null   float64\n",
      "dtypes: float64(1), int64(3), object(2)\n",
      "memory usage: 350.5+ KB\n"
     ]
    }
   ],
   "source": [
    "df.info()"
   ]
  },
  {
   "cell_type": "code",
   "execution_count": 4,
   "id": "e37c8e1d",
   "metadata": {},
   "outputs": [
    {
     "data": {
      "image/png": "[encoded data removed]",
      "text/plain": [
       "<Figure size 1152x720 with 4 Axes>"
      ]
     },
     "metadata": {},
     "output_type": "display_data"
    }
   ],
   "source": [
    "df.hist(figsize=(16, 10))\n",
    "plt.show()"
   ]
  },
  {
   "cell_type": "markdown",
   "id": "eb31b864",
   "metadata": {},
   "source": [
    "В нашем распоряжении датафрейм, состоящий из 6 столбцов и 7474 строк. На первый взгляд в нём нет пропусков, название столбцов приведены в стиле snake_case. По гистрограммам кажется, что есть аномалии и выбросы, что мы проверим на этапе предобработки данных. Проверим также наличие явных и неявных дубликатов. \n",
    "\n",
    "Типы данных для всех столбцов, кроме даты, указаны верно, приведём к нужному типу дату, и ещё, так как у нас указаны цены в рублях, для удобства отображения информации избавимся от копеек, приведя столбец с ценой к целочисленному типу данных."
   ]
  },
  {
   "cell_type": "code",
   "execution_count": 5,
   "id": "5af3f7c1",
   "metadata": {},
   "outputs": [
    {
     "data": {
      "text/html": [
       "<div>\n",
       "<style scoped>\n",
       "    .dataframe tbody tr th:only-of-type {\n",
       "        vertical-align: middle;\n",
       "    }\n",
       "\n",
       "    .dataframe tbody tr th {\n",
       "        vertical-align: top;\n",
       "    }\n",
       "\n",
       "    .dataframe thead th {\n",
       "        text-align: right;\n",
       "    }\n",
       "</style>\n",
       "<table border=\"1\" class=\"dataframe\">\n",
       "  <thead>\n",
       "    <tr style=\"text-align: right;\">\n",
       "      <th></th>\n",
       "      <th>date</th>\n",
       "      <th>customer_id</th>\n",
       "      <th>order_id</th>\n",
       "      <th>product</th>\n",
       "      <th>quantity</th>\n",
       "      <th>price</th>\n",
       "    </tr>\n",
       "  </thead>\n",
       "  <tbody>\n",
       "    <tr>\n",
       "      <th>0</th>\n",
       "      <td>2018-10-01</td>\n",
       "      <td>ee47d746-6d2f-4d3c-9622-c31412542920</td>\n",
       "      <td>68477</td>\n",
       "      <td>Комнатное растение в горшке Алое Вера, d12, h30</td>\n",
       "      <td>1</td>\n",
       "      <td>142</td>\n",
       "    </tr>\n",
       "    <tr>\n",
       "      <th>1</th>\n",
       "      <td>2018-10-01</td>\n",
       "      <td>ee47d746-6d2f-4d3c-9622-c31412542920</td>\n",
       "      <td>68477</td>\n",
       "      <td>Комнатное растение в горшке Кофе Арабика, d12,...</td>\n",
       "      <td>1</td>\n",
       "      <td>194</td>\n",
       "    </tr>\n",
       "    <tr>\n",
       "      <th>2</th>\n",
       "      <td>2018-10-01</td>\n",
       "      <td>ee47d746-6d2f-4d3c-9622-c31412542920</td>\n",
       "      <td>68477</td>\n",
       "      <td>Радермахера d-12 см h-20 см</td>\n",
       "      <td>1</td>\n",
       "      <td>112</td>\n",
       "    </tr>\n",
       "    <tr>\n",
       "      <th>3</th>\n",
       "      <td>2018-10-01</td>\n",
       "      <td>ee47d746-6d2f-4d3c-9622-c31412542920</td>\n",
       "      <td>68477</td>\n",
       "      <td>Хризолидокарпус Лутесценс d-9 см</td>\n",
       "      <td>1</td>\n",
       "      <td>179</td>\n",
       "    </tr>\n",
       "    <tr>\n",
       "      <th>4</th>\n",
       "      <td>2018-10-01</td>\n",
       "      <td>ee47d746-6d2f-4d3c-9622-c31412542920</td>\n",
       "      <td>68477</td>\n",
       "      <td>Циперус Зумула d-12 см h-25 см</td>\n",
       "      <td>1</td>\n",
       "      <td>112</td>\n",
       "    </tr>\n",
       "  </tbody>\n",
       "</table>\n",
       "</div>"
      ],
      "text/plain": [
       "        date                           customer_id  order_id  \\\n",
       "0 2018-10-01  ee47d746-6d2f-4d3c-9622-c31412542920     68477   \n",
       "1 2018-10-01  ee47d746-6d2f-4d3c-9622-c31412542920     68477   \n",
       "2 2018-10-01  ee47d746-6d2f-4d3c-9622-c31412542920     68477   \n",
       "3 2018-10-01  ee47d746-6d2f-4d3c-9622-c31412542920     68477   \n",
       "4 2018-10-01  ee47d746-6d2f-4d3c-9622-c31412542920     68477   \n",
       "\n",
       "                                             product  quantity  price  \n",
       "0    Комнатное растение в горшке Алое Вера, d12, h30         1    142  \n",
       "1  Комнатное растение в горшке Кофе Арабика, d12,...         1    194  \n",
       "2                        Радермахера d-12 см h-20 см         1    112  \n",
       "3                   Хризолидокарпус Лутесценс d-9 см         1    179  \n",
       "4                     Циперус Зумула d-12 см h-25 см         1    112  "
      ]
     },
     "execution_count": 5,
     "metadata": {},
     "output_type": "execute_result"
    }
   ],
   "source": [
    "# приведём cтолбцы к нужным типам\n",
    "df['price'] = df['price'].astype('int64')\n",
    "df['date'] = pd.to_datetime(df['date'], format='%Y%m%d%H')\n",
    "df.head()"
   ]
  },
  {
   "cell_type": "markdown",
   "id": "f3a6fd20",
   "metadata": {},
   "source": [
    "Проверим, за какой период у нас есть данные."
   ]
  },
  {
   "cell_type": "code",
   "execution_count": 6,
   "id": "654f7a2b",
   "metadata": {},
   "outputs": [
    {
     "name": "stdout",
     "output_type": "stream",
     "text": [
      "У нас есть данные за период с 2018-10-01 по 2020-01-31.\n"
     ]
    }
   ],
   "source": [
    "print(f'У нас есть данные за период с {df[\"date\"].min().date()} по {df[\"date\"].max().date()}.')"
   ]
  },
  {
   "cell_type": "markdown",
   "id": "a4b6c02b",
   "metadata": {},
   "source": [
    "## Предобработка данных"
   ]
  },
  {
   "cell_type": "markdown",
   "id": "0928633c",
   "metadata": {},
   "source": [
    "### Обработка явных и неявных дубликатов"
   ]
  },
  {
   "cell_type": "markdown",
   "id": "94fea049",
   "metadata": {},
   "source": [
    "Проверим, есть ли в данных явные дубликаты."
   ]
  },
  {
   "cell_type": "code",
   "execution_count": 7,
   "id": "0a66d59b",
   "metadata": {},
   "outputs": [
    {
     "name": "stdout",
     "output_type": "stream",
     "text": [
      "Количество явных дубликатов: 0\n"
     ]
    }
   ],
   "source": [
    "print('Количество явных дубликатов:', df.duplicated().sum())"
   ]
  },
  {
   "cell_type": "markdown",
   "id": "1b88e481",
   "metadata": {},
   "source": [
    "Явные дубликаты в данных отсутствует. Попробуем найти дубликаты без учёта даты, чтобы убедиться, что данные не задваивались."
   ]
  },
  {
   "cell_type": "code",
   "execution_count": 8,
   "id": "fcaa02f2",
   "metadata": {},
   "outputs": [
    {
     "data": {
      "text/plain": [
       "1864"
      ]
     },
     "execution_count": 8,
     "metadata": {},
     "output_type": "execute_result"
    }
   ],
   "source": [
    "subset = df.columns.to_list()\n",
    "subset.remove('date')\n",
    "df.duplicated(subset=subset).sum()"
   ]
  },
  {
   "cell_type": "markdown",
   "id": "427acf2b",
   "metadata": {},
   "source": [
    "Таких дубликатов довольно много, 1864. Так как у нас есть столбец с количеством товара, если бы в одном заказе было несколько одинаковых предметов, это было бы отображено в этом столбце. Убедимся, что это так, посмотрим значения этого столбца. "
   ]
  },
  {
   "cell_type": "code",
   "execution_count": 9,
   "id": "abdb0626",
   "metadata": {},
   "outputs": [
    {
     "data": {
      "text/plain": [
       "array([   1,   10,   96,   15,    6,   11,    2,    4,    3,    5,   37,\n",
       "         64,   25,  150,   50,   30,   17,    8,    9,    7,  170,   16,\n",
       "        140,   27,   20,   12,   13,   24,  100,  200,   57,   40,   45,\n",
       "         29,   23,   43,   14,   31,   59,   60,   18,   26,  300,   70,\n",
       "        334, 1000,   22,   80,   65], dtype=int64)"
      ]
     },
     "execution_count": 9,
     "metadata": {},
     "output_type": "execute_result"
    }
   ],
   "source": [
    "df['quantity'].unique()"
   ]
  },
  {
   "cell_type": "markdown",
   "id": "91d6d3c7",
   "metadata": {},
   "source": [
    "Таким образом, мы можем с уверенностью заявить, что это именно дубликаты, и их нам необходимо удалить. Причина таких дубликатов может заключаться в том, что данные перезаписывались и при этом возникла ошибка. При удалении дубликатов мы оставим в датафрейме первое появление задублировавшейся строки, так как вероятнее всего сначала произошёл заказ, а потом появились технические ошибки."
   ]
  },
  {
   "cell_type": "code",
   "execution_count": 10,
   "id": "8d975104",
   "metadata": {},
   "outputs": [],
   "source": [
    "df.drop_duplicates(subset=subset, inplace=True)"
   ]
  },
  {
   "cell_type": "markdown",
   "id": "dada9463",
   "metadata": {},
   "source": [
    "Убедимся также, что на каждый заказ приходится ровно один клиент."
   ]
  },
  {
   "cell_type": "code",
   "execution_count": 11,
   "id": "facf69bd",
   "metadata": {},
   "outputs": [
    {
     "name": "stdout",
     "output_type": "stream",
     "text": [
      "Количество заказов, у которых более одного клиента: 29\n"
     ]
    }
   ],
   "source": [
    "multiple_customers_by_order = df.groupby('order_id').agg({'customer_id': 'nunique'}).query('customer_id > 1')\n",
    "print('Количество заказов, у которых более одного клиента:', len(multiple_customers_by_order))"
   ]
  },
  {
   "cell_type": "markdown",
   "id": "0aa256bd",
   "metadata": {},
   "source": [
    "У нас есть номера заказов, на которые приходятся более чем один id клиента. Так как мы не можем с уверенностью заявить, какие заказы верны, а какие ошибочно задублировались, от таких заказов нам стоит избавиться."
   ]
  },
  {
   "cell_type": "code",
   "execution_count": 12,
   "id": "aa28e53e",
   "metadata": {},
   "outputs": [],
   "source": [
    "df.query('order_id not in @multiple_customers_by_order.index', inplace=True)"
   ]
  },
  {
   "cell_type": "markdown",
   "id": "9639a34e",
   "metadata": {},
   "source": [
    "Мы обработали и удалили неявные дубликаты, которые составляли довольно значительную часть исходных данных."
   ]
  },
  {
   "cell_type": "code",
   "execution_count": 13,
   "id": "e69b4ba8",
   "metadata": {},
   "outputs": [
    {
     "name": "stdout",
     "output_type": "stream",
     "text": [
      "После удаления дубликатов мы потеряли 25.8% от исходных данных.\n"
     ]
    }
   ],
   "source": [
    "print(f'После удаления дубликатов мы потеряли {1 - len(df) / original_lenght:.1%} от исходных данных.')"
   ]
  },
  {
   "cell_type": "markdown",
   "id": "5d4f45b0",
   "metadata": {},
   "source": [
    "### Обработка выбросов и аномалий в данных"
   ]
  },
  {
   "cell_type": "markdown",
   "id": "db0a8e80",
   "metadata": {},
   "source": [
    "В наших данных два количественных столбца. Рассмотрим сначала столбец `quantity`."
   ]
  },
  {
   "cell_type": "code",
   "execution_count": 14,
   "id": "e279c2aa",
   "metadata": {},
   "outputs": [
    {
     "data": {
      "text/plain": [
       "count    5544.000000\n",
       "mean        2.581890\n",
       "std        16.477423\n",
       "min         1.000000\n",
       "25%         1.000000\n",
       "50%         1.000000\n",
       "75%         1.000000\n",
       "max      1000.000000\n",
       "Name: quantity, dtype: float64"
      ]
     },
     "execution_count": 14,
     "metadata": {},
     "output_type": "execute_result"
    }
   ],
   "source": [
    "df['quantity'].describe()"
   ]
  },
  {
   "cell_type": "code",
   "execution_count": 15,
   "id": "8295873e",
   "metadata": {},
   "outputs": [
    {
     "data": {
      "image/png": "[encoded data removed]",
      "text/plain": [
       "<Figure size 432x576 with 1 Axes>"
      ]
     },
     "metadata": {},
     "output_type": "display_data"
    }
   ],
   "source": [
    "plt.figure(figsize=(6, 8))\n",
    "sns.boxplot(data=df, y='quantity')\n",
    "plt.title('Ящик с усами количества единиц товара в транзакции')\n",
    "plt.ylabel('Количество')\n",
    "plt.show()"
   ]
  },
  {
   "cell_type": "markdown",
   "id": "f584aa0b",
   "metadata": {},
   "source": [
    "В абсолютном большинстве случаев товар продаётся в количестве 1 шт, и медианой, и квартилями количества товаров является единица. Рассмотрим транзакции с особо выбивающимся количеством товара, 100 шт. и более. "
   ]
  },
  {
   "cell_type": "code",
   "execution_count": 16,
   "id": "31357a6a",
   "metadata": {},
   "outputs": [
    {
     "data": {
      "text/html": [
       "<div>\n",
       "<style scoped>\n",
       "    .dataframe tbody tr th:only-of-type {\n",
       "        vertical-align: middle;\n",
       "    }\n",
       "\n",
       "    .dataframe tbody tr th {\n",
       "        vertical-align: top;\n",
       "    }\n",
       "\n",
       "    .dataframe thead th {\n",
       "        text-align: right;\n",
       "    }\n",
       "</style>\n",
       "<table border=\"1\" class=\"dataframe\">\n",
       "  <thead>\n",
       "    <tr style=\"text-align: right;\">\n",
       "      <th></th>\n",
       "      <th>date</th>\n",
       "      <th>customer_id</th>\n",
       "      <th>order_id</th>\n",
       "      <th>product</th>\n",
       "      <th>quantity</th>\n",
       "      <th>price</th>\n",
       "    </tr>\n",
       "  </thead>\n",
       "  <tbody>\n",
       "    <tr>\n",
       "      <th>211</th>\n",
       "      <td>2018-10-11 14:00:00</td>\n",
       "      <td>cd09ea73-d9ce-48c3-b4c5-018113735e80</td>\n",
       "      <td>68611</td>\n",
       "      <td>Крепеж для пружины дверной, 1107055</td>\n",
       "      <td>150</td>\n",
       "      <td>19</td>\n",
       "    </tr>\n",
       "    <tr>\n",
       "      <th>212</th>\n",
       "      <td>2018-10-11 14:00:00</td>\n",
       "      <td>cd09ea73-d9ce-48c3-b4c5-018113735e80</td>\n",
       "      <td>68611</td>\n",
       "      <td>Пружина дверная 240 мм оцинкованная (Д-19 мм) ...</td>\n",
       "      <td>150</td>\n",
       "      <td>38</td>\n",
       "    </tr>\n",
       "    <tr>\n",
       "      <th>568</th>\n",
       "      <td>2018-11-01 08:00:00</td>\n",
       "      <td>aa42dc38-780f-4b50-9a65-83b6fa64e766</td>\n",
       "      <td>68815</td>\n",
       "      <td>Муляж ЯБЛОКО 9 см красное</td>\n",
       "      <td>170</td>\n",
       "      <td>51</td>\n",
       "    </tr>\n",
       "    <tr>\n",
       "      <th>586</th>\n",
       "      <td>2018-11-02 11:00:00</td>\n",
       "      <td>0c5aaa88-e346-4f87-8f7a-ad8cbc04e965</td>\n",
       "      <td>68831</td>\n",
       "      <td>Муляж ЯБЛОКО 9 см красное</td>\n",
       "      <td>140</td>\n",
       "      <td>59</td>\n",
       "    </tr>\n",
       "    <tr>\n",
       "      <th>1103</th>\n",
       "      <td>2018-12-04 17:00:00</td>\n",
       "      <td>7d255526-fcc2-4f79-b28a-217d7d2373a8</td>\n",
       "      <td>69206</td>\n",
       "      <td>Щетка для посуды *ОЛЯ*, Мультипласт 1807010</td>\n",
       "      <td>100</td>\n",
       "      <td>26</td>\n",
       "    </tr>\n",
       "    <tr>\n",
       "      <th>1158</th>\n",
       "      <td>2018-12-10 14:00:00</td>\n",
       "      <td>a984c5b7-ff7e-4647-b84e-ef0b85a2762d</td>\n",
       "      <td>69289</td>\n",
       "      <td>Ручка-скоба РС-100 белая *Трибатрон*, 1108035</td>\n",
       "      <td>200</td>\n",
       "      <td>29</td>\n",
       "    </tr>\n",
       "    <tr>\n",
       "      <th>1555</th>\n",
       "      <td>2019-01-21 09:00:00</td>\n",
       "      <td>8eabcaca-e8c8-4eee-9079-4ff5f612273a</td>\n",
       "      <td>69893</td>\n",
       "      <td>Щетка для мытья посуды КОЛИБРИ М5202 большая</td>\n",
       "      <td>100</td>\n",
       "      <td>34</td>\n",
       "    </tr>\n",
       "    <tr>\n",
       "      <th>2431</th>\n",
       "      <td>2019-03-23 10:00:00</td>\n",
       "      <td>685d3d84-aebb-485b-8e59-344b3df8b3d3</td>\n",
       "      <td>70841</td>\n",
       "      <td>Плечики пластмассовые Размер 52 - 54 Тула 1205158</td>\n",
       "      <td>150</td>\n",
       "      <td>20</td>\n",
       "    </tr>\n",
       "    <tr>\n",
       "      <th>3961</th>\n",
       "      <td>2019-05-20 21:00:00</td>\n",
       "      <td>5d189e88-d4d6-4eac-ab43-fa65a3c4d106</td>\n",
       "      <td>71478</td>\n",
       "      <td>Муляж ЯБЛОКО 9 см красное</td>\n",
       "      <td>300</td>\n",
       "      <td>51</td>\n",
       "    </tr>\n",
       "    <tr>\n",
       "      <th>5071</th>\n",
       "      <td>2019-06-11 07:00:00</td>\n",
       "      <td>146cd9bf-a95c-4afb-915b-5f6684b17444</td>\n",
       "      <td>71668</td>\n",
       "      <td>Вешалки мягкие для деликатных вещей 3 шт шоколад</td>\n",
       "      <td>334</td>\n",
       "      <td>148</td>\n",
       "    </tr>\n",
       "    <tr>\n",
       "      <th>5456</th>\n",
       "      <td>2019-06-18 15:00:00</td>\n",
       "      <td>312e9a3e-5fca-43ff-a6a1-892d2b2d5ba6</td>\n",
       "      <td>71743</td>\n",
       "      <td>Вантуз с деревянной ручкой d14 см красный, Bur...</td>\n",
       "      <td>1000</td>\n",
       "      <td>675</td>\n",
       "    </tr>\n",
       "    <tr>\n",
       "      <th>6535</th>\n",
       "      <td>2019-10-07 11:00:00</td>\n",
       "      <td>d933280e-5372-448f-be44-b269c8bafc2a</td>\n",
       "      <td>72885</td>\n",
       "      <td>Крепеж для пружины дверной оцинкованный, 1107054</td>\n",
       "      <td>100</td>\n",
       "      <td>19</td>\n",
       "    </tr>\n",
       "    <tr>\n",
       "      <th>6707</th>\n",
       "      <td>2019-10-28 10:00:00</td>\n",
       "      <td>018fb729-3525-4314-8e4d-1982b1062f9f</td>\n",
       "      <td>73110</td>\n",
       "      <td>Шпингалет 80 мм белый с пружиной, 1102188</td>\n",
       "      <td>100</td>\n",
       "      <td>44</td>\n",
       "    </tr>\n",
       "  </tbody>\n",
       "</table>\n",
       "</div>"
      ],
      "text/plain": [
       "                    date                           customer_id  order_id  \\\n",
       "211  2018-10-11 14:00:00  cd09ea73-d9ce-48c3-b4c5-018113735e80     68611   \n",
       "212  2018-10-11 14:00:00  cd09ea73-d9ce-48c3-b4c5-018113735e80     68611   \n",
       "568  2018-11-01 08:00:00  aa42dc38-780f-4b50-9a65-83b6fa64e766     68815   \n",
       "586  2018-11-02 11:00:00  0c5aaa88-e346-4f87-8f7a-ad8cbc04e965     68831   \n",
       "1103 2018-12-04 17:00:00  7d255526-fcc2-4f79-b28a-217d7d2373a8     69206   \n",
       "1158 2018-12-10 14:00:00  a984c5b7-ff7e-4647-b84e-ef0b85a2762d     69289   \n",
       "1555 2019-01-21 09:00:00  8eabcaca-e8c8-4eee-9079-4ff5f612273a     69893   \n",
       "2431 2019-03-23 10:00:00  685d3d84-aebb-485b-8e59-344b3df8b3d3     70841   \n",
       "3961 2019-05-20 21:00:00  5d189e88-d4d6-4eac-ab43-fa65a3c4d106     71478   \n",
       "5071 2019-06-11 07:00:00  146cd9bf-a95c-4afb-915b-5f6684b17444     71668   \n",
       "5456 2019-06-18 15:00:00  312e9a3e-5fca-43ff-a6a1-892d2b2d5ba6     71743   \n",
       "6535 2019-10-07 11:00:00  d933280e-5372-448f-be44-b269c8bafc2a     72885   \n",
       "6707 2019-10-28 10:00:00  018fb729-3525-4314-8e4d-1982b1062f9f     73110   \n",
       "\n",
       "                                                product  quantity  price  \n",
       "211                 Крепеж для пружины дверной, 1107055       150     19  \n",
       "212   Пружина дверная 240 мм оцинкованная (Д-19 мм) ...       150     38  \n",
       "568                           Муляж ЯБЛОКО 9 см красное       170     51  \n",
       "586                           Муляж ЯБЛОКО 9 см красное       140     59  \n",
       "1103        Щетка для посуды *ОЛЯ*, Мультипласт 1807010       100     26  \n",
       "1158      Ручка-скоба РС-100 белая *Трибатрон*, 1108035       200     29  \n",
       "1555       Щетка для мытья посуды КОЛИБРИ М5202 большая       100     34  \n",
       "2431  Плечики пластмассовые Размер 52 - 54 Тула 1205158       150     20  \n",
       "3961                          Муляж ЯБЛОКО 9 см красное       300     51  \n",
       "5071   Вешалки мягкие для деликатных вещей 3 шт шоколад       334    148  \n",
       "5456  Вантуз с деревянной ручкой d14 см красный, Bur...      1000    675  \n",
       "6535   Крепеж для пружины дверной оцинкованный, 1107054       100     19  \n",
       "6707          Шпингалет 80 мм белый с пружиной, 1102188       100     44  "
      ]
     },
     "execution_count": 16,
     "metadata": {},
     "output_type": "execute_result"
    }
   ],
   "source": [
    "df[df['quantity'] >= 100]"
   ]
  },
  {
   "cell_type": "markdown",
   "id": "c6870dbd",
   "metadata": {},
   "source": [
    "Из рассмотренных транзакцией подозрительной кажется только продажа 1000 вантузов, такое ровное и крупное число может говорить о том, что такой заказ мог быть создан во время тестирования сервиса. Остальные заказы похожи на настоящие заказы от бизнесов."
   ]
  },
  {
   "cell_type": "markdown",
   "id": "70595fd9",
   "metadata": {},
   "source": [
    "Рассмотрим также столбец `price`."
   ]
  },
  {
   "cell_type": "code",
   "execution_count": 17,
   "id": "e6ea63ba",
   "metadata": {},
   "outputs": [
    {
     "data": {
      "text/plain": [
       "count     5544.000000\n",
       "mean       530.363636\n",
       "std        973.768136\n",
       "min          9.000000\n",
       "25%         90.000000\n",
       "50%        150.000000\n",
       "75%        524.000000\n",
       "max      14917.000000\n",
       "Name: price, dtype: float64"
      ]
     },
     "execution_count": 17,
     "metadata": {},
     "output_type": "execute_result"
    }
   ],
   "source": [
    "df['price'].describe()"
   ]
  },
  {
   "cell_type": "code",
   "execution_count": 18,
   "id": "5c253ed3",
   "metadata": {},
   "outputs": [
    {
     "data": {
      "image/png": "[encoded data removed]",
      "text/plain": [
       "<Figure size 432x576 with 1 Axes>"
      ]
     },
     "metadata": {},
     "output_type": "display_data"
    }
   ],
   "source": [
    "plt.figure(figsize=(6, 8))\n",
    "sns.boxplot(data=df, y='price')\n",
    "plt.title('Ящик с усами стоимости товара')\n",
    "plt.ylabel('Стоимость')\n",
    "plt.show()"
   ]
  },
  {
   "cell_type": "markdown",
   "id": "0069c735",
   "metadata": {},
   "source": [
    "Построим также график в масштабе, чтобы лучше рассмотреть квартили."
   ]
  },
  {
   "cell_type": "code",
   "execution_count": 19,
   "id": "d66fdc1d",
   "metadata": {},
   "outputs": [
    {
     "data": {
      "image/png": "[encoded data removed]",
      "text/plain": [
       "<Figure size 432x576 with 1 Axes>"
      ]
     },
     "metadata": {},
     "output_type": "display_data"
    }
   ],
   "source": [
    "plt.figure(figsize=(6, 8))\n",
    "sns.boxplot(data=df, y='price')\n",
    "plt.ylim(0, 2000)\n",
    "plt.title('Ящик с усами стоимости товара')\n",
    "plt.ylabel('Стоимость')\n",
    "plt.show()"
   ]
  },
  {
   "cell_type": "markdown",
   "id": "9de0e1b1",
   "metadata": {},
   "source": [
    "Рассмотрим товары с выбивающейся стоимостью."
   ]
  },
  {
   "cell_type": "code",
   "execution_count": 20,
   "id": "6a7d5bfd",
   "metadata": {},
   "outputs": [
    {
     "data": {
      "text/html": [
       "<div>\n",
       "<style scoped>\n",
       "    .dataframe tbody tr th:only-of-type {\n",
       "        vertical-align: middle;\n",
       "    }\n",
       "\n",
       "    .dataframe tbody tr th {\n",
       "        vertical-align: top;\n",
       "    }\n",
       "\n",
       "    .dataframe thead th {\n",
       "        text-align: right;\n",
       "    }\n",
       "</style>\n",
       "<table border=\"1\" class=\"dataframe\">\n",
       "  <thead>\n",
       "    <tr style=\"text-align: right;\">\n",
       "      <th></th>\n",
       "      <th>date</th>\n",
       "      <th>customer_id</th>\n",
       "      <th>order_id</th>\n",
       "      <th>product</th>\n",
       "      <th>quantity</th>\n",
       "      <th>price</th>\n",
       "    </tr>\n",
       "  </thead>\n",
       "  <tbody>\n",
       "    <tr>\n",
       "      <th>654</th>\n",
       "      <td>2018-11-05 22:00:00</td>\n",
       "      <td>fc333417-1d11-4a2a-b946-0957ae0603e9</td>\n",
       "      <td>68872</td>\n",
       "      <td>Сумка-тележка хозяйственная Rolser MOU041 malv...</td>\n",
       "      <td>1</td>\n",
       "      <td>7597</td>\n",
       "    </tr>\n",
       "    <tr>\n",
       "      <th>1241</th>\n",
       "      <td>2018-12-17 17:00:00</td>\n",
       "      <td>86c97bf1-c834-423e-9e38-8acda68f97e8</td>\n",
       "      <td>69417</td>\n",
       "      <td>Гладильная доска Leifheit AirBoard Compact M P...</td>\n",
       "      <td>1</td>\n",
       "      <td>7424</td>\n",
       "    </tr>\n",
       "    <tr>\n",
       "      <th>1981</th>\n",
       "      <td>2019-02-24 10:00:00</td>\n",
       "      <td>ac250053-a236-467a-97d2-ddbb9bf4a1ba</td>\n",
       "      <td>70423</td>\n",
       "      <td>Сумка-тележка хозяйственная Andersen Alu Star ...</td>\n",
       "      <td>1</td>\n",
       "      <td>8437</td>\n",
       "    </tr>\n",
       "    <tr>\n",
       "      <th>2339</th>\n",
       "      <td>2019-03-14 18:00:00</td>\n",
       "      <td>27d4ce42-352b-4756-bf5b-8724e05d5131</td>\n",
       "      <td>70740</td>\n",
       "      <td>Сумка-тележка хозяйственная Rolser IMX006 bass...</td>\n",
       "      <td>1</td>\n",
       "      <td>7679</td>\n",
       "    </tr>\n",
       "    <tr>\n",
       "      <th>2697</th>\n",
       "      <td>2019-04-05 19:00:00</td>\n",
       "      <td>c0c60544-3a99-49d0-8a8e-cf7f293c22cb</td>\n",
       "      <td>71035</td>\n",
       "      <td>Сумка-тележка хозяйственная Andersen Royal Sho...</td>\n",
       "      <td>1</td>\n",
       "      <td>8737</td>\n",
       "    </tr>\n",
       "    <tr>\n",
       "      <th>2976</th>\n",
       "      <td>2019-04-20 08:00:00</td>\n",
       "      <td>16838b36-762a-474d-bda4-bad95f8d7813</td>\n",
       "      <td>71209</td>\n",
       "      <td>Автоматическая щетка Leifheit для мытья окон с...</td>\n",
       "      <td>1</td>\n",
       "      <td>7229</td>\n",
       "    </tr>\n",
       "    <tr>\n",
       "      <th>2997</th>\n",
       "      <td>2019-04-21 16:00:00</td>\n",
       "      <td>19d904d8-8d16-476d-8f66-b2a3b7a23660</td>\n",
       "      <td>71227</td>\n",
       "      <td>Сумка-тележка хозяйственная Rolser MNB019 rojo...</td>\n",
       "      <td>1</td>\n",
       "      <td>8077</td>\n",
       "    </tr>\n",
       "    <tr>\n",
       "      <th>5087</th>\n",
       "      <td>2019-06-11 10:00:00</td>\n",
       "      <td>85716494-dd51-4d1d-ab28-8c74b87f14dc</td>\n",
       "      <td>71674</td>\n",
       "      <td>Сушилка для белья Leifheit Pegasus 200 DeLuxe ...</td>\n",
       "      <td>1</td>\n",
       "      <td>7004</td>\n",
       "    </tr>\n",
       "    <tr>\n",
       "      <th>5992</th>\n",
       "      <td>2019-07-29 17:00:00</td>\n",
       "      <td>0d87f4ae-465a-4fac-81e6-5d629761783e</td>\n",
       "      <td>72139</td>\n",
       "      <td>Сушилка уличная Leifheit 85210 LINOMATIC V 400...</td>\n",
       "      <td>1</td>\n",
       "      <td>14917</td>\n",
       "    </tr>\n",
       "    <tr>\n",
       "      <th>5994</th>\n",
       "      <td>2019-07-30 01:00:00</td>\n",
       "      <td>e2fe6b48-1955-4882-925c-733f545df026</td>\n",
       "      <td>72140</td>\n",
       "      <td>Сумка-тележка хозяйственная Rolser MNB017 fucs...</td>\n",
       "      <td>1</td>\n",
       "      <td>7679</td>\n",
       "    </tr>\n",
       "    <tr>\n",
       "      <th>6003</th>\n",
       "      <td>2019-07-31 07:00:00</td>\n",
       "      <td>2d51b277-cb8a-48eb-bdbf-b3315276f01a</td>\n",
       "      <td>72153</td>\n",
       "      <td>Сумка-тележка хозяйственная Andersen Scala Sho...</td>\n",
       "      <td>1</td>\n",
       "      <td>7199</td>\n",
       "    </tr>\n",
       "    <tr>\n",
       "      <th>6169</th>\n",
       "      <td>2019-08-23 12:00:00</td>\n",
       "      <td>8d85f320-5f55-4647-814c-da1a6b21c2a4</td>\n",
       "      <td>72381</td>\n",
       "      <td>Урна уличная стальная Сальвадор 02.021.0 46х11...</td>\n",
       "      <td>1</td>\n",
       "      <td>7349</td>\n",
       "    </tr>\n",
       "    <tr>\n",
       "      <th>6629</th>\n",
       "      <td>2019-10-16 15:00:00</td>\n",
       "      <td>d5584388-ffbe-42fd-a746-a98828ec919f</td>\n",
       "      <td>72992</td>\n",
       "      <td>Стремянка 7 ступенчатая Hailo 8040-707 XXL 13 ...</td>\n",
       "      <td>1</td>\n",
       "      <td>7724</td>\n",
       "    </tr>\n",
       "    <tr>\n",
       "      <th>6913</th>\n",
       "      <td>2019-11-24 15:00:00</td>\n",
       "      <td>ad66d870-22f5-43bc-958f-73420822586b</td>\n",
       "      <td>103766</td>\n",
       "      <td>Гладильная доска Leifheit AirBoard Compact M P...</td>\n",
       "      <td>1</td>\n",
       "      <td>7424</td>\n",
       "    </tr>\n",
       "    <tr>\n",
       "      <th>7190</th>\n",
       "      <td>2019-12-31 10:00:00</td>\n",
       "      <td>f279d50f-a508-40b4-bde5-5cb4a1be3ad0</td>\n",
       "      <td>107812</td>\n",
       "      <td>Сумка-тележка хозяйственная Rolser IMX006 bass...</td>\n",
       "      <td>2</td>\n",
       "      <td>7679</td>\n",
       "    </tr>\n",
       "    <tr>\n",
       "      <th>7272</th>\n",
       "      <td>2020-01-08 11:00:00</td>\n",
       "      <td>db6caedb-e231-4adc-bcd0-e45b8992f3da</td>\n",
       "      <td>107979</td>\n",
       "      <td>Автоматическая щетка Leifheit для мытья окон с...</td>\n",
       "      <td>1</td>\n",
       "      <td>7229</td>\n",
       "    </tr>\n",
       "    <tr>\n",
       "      <th>7436</th>\n",
       "      <td>2020-01-26 19:00:00</td>\n",
       "      <td>04416514-5346-4f90-93e3-fb7365e2ee8c</td>\n",
       "      <td>109758</td>\n",
       "      <td>Сумка-тележка хозяйственная Rolser MNB019 rojo...</td>\n",
       "      <td>1</td>\n",
       "      <td>8077</td>\n",
       "    </tr>\n",
       "  </tbody>\n",
       "</table>\n",
       "</div>"
      ],
      "text/plain": [
       "                    date                           customer_id  order_id  \\\n",
       "654  2018-11-05 22:00:00  fc333417-1d11-4a2a-b946-0957ae0603e9     68872   \n",
       "1241 2018-12-17 17:00:00  86c97bf1-c834-423e-9e38-8acda68f97e8     69417   \n",
       "1981 2019-02-24 10:00:00  ac250053-a236-467a-97d2-ddbb9bf4a1ba     70423   \n",
       "2339 2019-03-14 18:00:00  27d4ce42-352b-4756-bf5b-8724e05d5131     70740   \n",
       "2697 2019-04-05 19:00:00  c0c60544-3a99-49d0-8a8e-cf7f293c22cb     71035   \n",
       "2976 2019-04-20 08:00:00  16838b36-762a-474d-bda4-bad95f8d7813     71209   \n",
       "2997 2019-04-21 16:00:00  19d904d8-8d16-476d-8f66-b2a3b7a23660     71227   \n",
       "5087 2019-06-11 10:00:00  85716494-dd51-4d1d-ab28-8c74b87f14dc     71674   \n",
       "5992 2019-07-29 17:00:00  0d87f4ae-465a-4fac-81e6-5d629761783e     72139   \n",
       "5994 2019-07-30 01:00:00  e2fe6b48-1955-4882-925c-733f545df026     72140   \n",
       "6003 2019-07-31 07:00:00  2d51b277-cb8a-48eb-bdbf-b3315276f01a     72153   \n",
       "6169 2019-08-23 12:00:00  8d85f320-5f55-4647-814c-da1a6b21c2a4     72381   \n",
       "6629 2019-10-16 15:00:00  d5584388-ffbe-42fd-a746-a98828ec919f     72992   \n",
       "6913 2019-11-24 15:00:00  ad66d870-22f5-43bc-958f-73420822586b    103766   \n",
       "7190 2019-12-31 10:00:00  f279d50f-a508-40b4-bde5-5cb4a1be3ad0    107812   \n",
       "7272 2020-01-08 11:00:00  db6caedb-e231-4adc-bcd0-e45b8992f3da    107979   \n",
       "7436 2020-01-26 19:00:00  04416514-5346-4f90-93e3-fb7365e2ee8c    109758   \n",
       "\n",
       "                                                product  quantity  price  \n",
       "654   Сумка-тележка хозяйственная Rolser MOU041 malv...         1   7597  \n",
       "1241  Гладильная доска Leifheit AirBoard Compact M P...         1   7424  \n",
       "1981  Сумка-тележка хозяйственная Andersen Alu Star ...         1   8437  \n",
       "2339  Сумка-тележка хозяйственная Rolser IMX006 bass...         1   7679  \n",
       "2697  Сумка-тележка хозяйственная Andersen Royal Sho...         1   8737  \n",
       "2976  Автоматическая щетка Leifheit для мытья окон с...         1   7229  \n",
       "2997  Сумка-тележка хозяйственная Rolser MNB019 rojo...         1   8077  \n",
       "5087  Сушилка для белья Leifheit Pegasus 200 DeLuxe ...         1   7004  \n",
       "5992  Сушилка уличная Leifheit 85210 LINOMATIC V 400...         1  14917  \n",
       "5994  Сумка-тележка хозяйственная Rolser MNB017 fucs...         1   7679  \n",
       "6003  Сумка-тележка хозяйственная Andersen Scala Sho...         1   7199  \n",
       "6169  Урна уличная стальная Сальвадор 02.021.0 46х11...         1   7349  \n",
       "6629  Стремянка 7 ступенчатая Hailo 8040-707 XXL 13 ...         1   7724  \n",
       "6913  Гладильная доска Leifheit AirBoard Compact M P...         1   7424  \n",
       "7190  Сумка-тележка хозяйственная Rolser IMX006 bass...         2   7679  \n",
       "7272  Автоматическая щетка Leifheit для мытья окон с...         1   7229  \n",
       "7436  Сумка-тележка хозяйственная Rolser MNB019 rojo...         1   8077  "
      ]
     },
     "execution_count": 20,
     "metadata": {},
     "output_type": "execute_result"
    }
   ],
   "source": [
    "df[df['price'] >= 7000]"
   ]
  },
  {
   "cell_type": "code",
   "execution_count": 21,
   "id": "59740b83",
   "metadata": {},
   "outputs": [
    {
     "data": {
      "text/html": [
       "<div>\n",
       "<style scoped>\n",
       "    .dataframe tbody tr th:only-of-type {\n",
       "        vertical-align: middle;\n",
       "    }\n",
       "\n",
       "    .dataframe tbody tr th {\n",
       "        vertical-align: top;\n",
       "    }\n",
       "\n",
       "    .dataframe thead th {\n",
       "        text-align: right;\n",
       "    }\n",
       "</style>\n",
       "<table border=\"1\" class=\"dataframe\">\n",
       "  <thead>\n",
       "    <tr style=\"text-align: right;\">\n",
       "      <th></th>\n",
       "      <th>date</th>\n",
       "      <th>customer_id</th>\n",
       "      <th>order_id</th>\n",
       "      <th>product</th>\n",
       "      <th>quantity</th>\n",
       "      <th>price</th>\n",
       "    </tr>\n",
       "  </thead>\n",
       "  <tbody>\n",
       "    <tr>\n",
       "      <th>977</th>\n",
       "      <td>2018-11-25 14:00:00</td>\n",
       "      <td>52aff75c-a972-4c25-bad5-dfe6a48cd981</td>\n",
       "      <td>14512</td>\n",
       "      <td>Морковь Детская сладость 2 г 4660010775921</td>\n",
       "      <td>1</td>\n",
       "      <td>10</td>\n",
       "    </tr>\n",
       "    <tr>\n",
       "      <th>979</th>\n",
       "      <td>2018-11-25 14:00:00</td>\n",
       "      <td>52aff75c-a972-4c25-bad5-dfe6a48cd981</td>\n",
       "      <td>14512</td>\n",
       "      <td>Огурец Засолочный 0,3 г 4660010776102</td>\n",
       "      <td>1</td>\n",
       "      <td>10</td>\n",
       "    </tr>\n",
       "    <tr>\n",
       "      <th>1069</th>\n",
       "      <td>2018-12-03 11:00:00</td>\n",
       "      <td>2c8b9386-2e8c-4ee9-8aa4-2b4875b68578</td>\n",
       "      <td>14514</td>\n",
       "      <td>Алиссум (лобулярия) Снежные одежды 0,2 г 46500...</td>\n",
       "      <td>2</td>\n",
       "      <td>9</td>\n",
       "    </tr>\n",
       "    <tr>\n",
       "      <th>1074</th>\n",
       "      <td>2018-12-03 11:00:00</td>\n",
       "      <td>2c8b9386-2e8c-4ee9-8aa4-2b4875b68578</td>\n",
       "      <td>14514</td>\n",
       "      <td>Кореопсис Толл 0,1 г 4650091480258</td>\n",
       "      <td>2</td>\n",
       "      <td>10</td>\n",
       "    </tr>\n",
       "    <tr>\n",
       "      <th>1078</th>\n",
       "      <td>2018-12-03 11:00:00</td>\n",
       "      <td>2c8b9386-2e8c-4ee9-8aa4-2b4875b68578</td>\n",
       "      <td>14514</td>\n",
       "      <td>Львиный зев Волшебный ковер 0,05 г 4660010779639</td>\n",
       "      <td>1</td>\n",
       "      <td>9</td>\n",
       "    </tr>\n",
       "    <tr>\n",
       "      <th>1086</th>\n",
       "      <td>2018-12-03 11:00:00</td>\n",
       "      <td>2c8b9386-2e8c-4ee9-8aa4-2b4875b68578</td>\n",
       "      <td>14514</td>\n",
       "      <td>Эшшольция Карминный король 0,5 г 4660010770193</td>\n",
       "      <td>2</td>\n",
       "      <td>10</td>\n",
       "    </tr>\n",
       "    <tr>\n",
       "      <th>2159</th>\n",
       "      <td>2019-03-04 15:00:00</td>\n",
       "      <td>0f47231c-3a68-404a-88f7-08a4a172c17f</td>\n",
       "      <td>14559</td>\n",
       "      <td>Горох Амброзия 10,0 г 4660010772616</td>\n",
       "      <td>1</td>\n",
       "      <td>9</td>\n",
       "    </tr>\n",
       "    <tr>\n",
       "      <th>2161</th>\n",
       "      <td>2019-03-04 15:00:00</td>\n",
       "      <td>0f47231c-3a68-404a-88f7-08a4a172c17f</td>\n",
       "      <td>14559</td>\n",
       "      <td>Незабудка смесь 0,1 г 4650091480340</td>\n",
       "      <td>1</td>\n",
       "      <td>10</td>\n",
       "    </tr>\n",
       "    <tr>\n",
       "      <th>2168</th>\n",
       "      <td>2019-03-04 15:00:00</td>\n",
       "      <td>0f47231c-3a68-404a-88f7-08a4a172c17f</td>\n",
       "      <td>14559</td>\n",
       "      <td>Томат Балконное чудо 0,1 г 4660010772531</td>\n",
       "      <td>1</td>\n",
       "      <td>10</td>\n",
       "    </tr>\n",
       "    <tr>\n",
       "      <th>2169</th>\n",
       "      <td>2019-03-04 15:00:00</td>\n",
       "      <td>0f47231c-3a68-404a-88f7-08a4a172c17f</td>\n",
       "      <td>14559</td>\n",
       "      <td>Укроп Обильнолистный 3,0 г 4660010772562</td>\n",
       "      <td>1</td>\n",
       "      <td>10</td>\n",
       "    </tr>\n",
       "    <tr>\n",
       "      <th>2924</th>\n",
       "      <td>2019-04-16 22:00:00</td>\n",
       "      <td>d4f984b6-ea59-4618-a26f-79a053e483c7</td>\n",
       "      <td>14653</td>\n",
       "      <td>Цинния Коралловая красавица 0,2 г 4660010773323</td>\n",
       "      <td>1</td>\n",
       "      <td>10</td>\n",
       "    </tr>\n",
       "    <tr>\n",
       "      <th>2925</th>\n",
       "      <td>2019-04-16 22:00:00</td>\n",
       "      <td>d4f984b6-ea59-4618-a26f-79a053e483c7</td>\n",
       "      <td>14653</td>\n",
       "      <td>Цинния Оранжевый король 0,5 г 4660010770520</td>\n",
       "      <td>1</td>\n",
       "      <td>10</td>\n",
       "    </tr>\n",
       "    <tr>\n",
       "      <th>5642</th>\n",
       "      <td>2019-07-03 22:00:00</td>\n",
       "      <td>1ec1ad59-a29b-4949-929d-f4fc4fe14758</td>\n",
       "      <td>14887</td>\n",
       "      <td>Алиссум (лобулярия) Снежные одежды 0,2 г 46500...</td>\n",
       "      <td>1</td>\n",
       "      <td>9</td>\n",
       "    </tr>\n",
       "    <tr>\n",
       "      <th>6378</th>\n",
       "      <td>2019-09-21 21:00:00</td>\n",
       "      <td>6718a7fc-75c2-4b8a-820d-b2960be23ca7</td>\n",
       "      <td>14932</td>\n",
       "      <td>Петрушка Итальянский гигант 2 г 4660010776553</td>\n",
       "      <td>1</td>\n",
       "      <td>10</td>\n",
       "    </tr>\n",
       "    <tr>\n",
       "      <th>6388</th>\n",
       "      <td>2019-09-21 21:00:00</td>\n",
       "      <td>6718a7fc-75c2-4b8a-820d-b2960be23ca7</td>\n",
       "      <td>14932</td>\n",
       "      <td>Томат Балконное чудо 0,1 г 4660010772531</td>\n",
       "      <td>1</td>\n",
       "      <td>10</td>\n",
       "    </tr>\n",
       "    <tr>\n",
       "      <th>6389</th>\n",
       "      <td>2019-09-21 21:00:00</td>\n",
       "      <td>6718a7fc-75c2-4b8a-820d-b2960be23ca7</td>\n",
       "      <td>14932</td>\n",
       "      <td>Укроп Обильнолистный 3,0 г 4660010772562</td>\n",
       "      <td>1</td>\n",
       "      <td>10</td>\n",
       "    </tr>\n",
       "    <tr>\n",
       "      <th>6970</th>\n",
       "      <td>2019-12-02 16:00:00</td>\n",
       "      <td>c42ba183-9dfe-4b9b-a572-3624973eab54</td>\n",
       "      <td>112689</td>\n",
       "      <td>Незабудка смесь 0,1 г 4650091480340</td>\n",
       "      <td>1</td>\n",
       "      <td>10</td>\n",
       "    </tr>\n",
       "    <tr>\n",
       "      <th>7070</th>\n",
       "      <td>2019-12-17 09:00:00</td>\n",
       "      <td>7f5f1b8f-d7be-46d5-a1f7-e15d3d72a3f7</td>\n",
       "      <td>105745</td>\n",
       "      <td>Томат Балконное чудо 0,1 г 4660010772531</td>\n",
       "      <td>1</td>\n",
       "      <td>10</td>\n",
       "    </tr>\n",
       "    <tr>\n",
       "      <th>7073</th>\n",
       "      <td>2019-12-17 12:00:00</td>\n",
       "      <td>1f7a71e2-0e7a-47ee-89d8-320b6315f4c7</td>\n",
       "      <td>107078</td>\n",
       "      <td>Львиный зев Волшебный ковер 0,05 г 4660010779639</td>\n",
       "      <td>1</td>\n",
       "      <td>9</td>\n",
       "    </tr>\n",
       "    <tr>\n",
       "      <th>7152</th>\n",
       "      <td>2019-12-27 22:00:00</td>\n",
       "      <td>03134fa3-9ce0-4973-849d-32c21e26d64e</td>\n",
       "      <td>111690</td>\n",
       "      <td>Незабудка смесь 0,1 г 4650091480340</td>\n",
       "      <td>1</td>\n",
       "      <td>10</td>\n",
       "    </tr>\n",
       "    <tr>\n",
       "      <th>7279</th>\n",
       "      <td>2020-01-08 16:00:00</td>\n",
       "      <td>aa7151ae-8da0-41ca-85b6-5c1b331d5bdc</td>\n",
       "      <td>107324</td>\n",
       "      <td>Укроп Обильнолистный 3,0 г 4660010772562</td>\n",
       "      <td>1</td>\n",
       "      <td>10</td>\n",
       "    </tr>\n",
       "    <tr>\n",
       "      <th>7308</th>\n",
       "      <td>2020-01-12 19:00:00</td>\n",
       "      <td>3dc5b972-ff3f-4e6d-a76e-5f47530a2f7c</td>\n",
       "      <td>107790</td>\n",
       "      <td>Незабудка смесь 0,1 г 4650091480340</td>\n",
       "      <td>1</td>\n",
       "      <td>10</td>\n",
       "    </tr>\n",
       "    <tr>\n",
       "      <th>7437</th>\n",
       "      <td>2020-01-26 19:00:00</td>\n",
       "      <td>f727472d-06fb-4a41-b0f3-75012683afce</td>\n",
       "      <td>106536</td>\n",
       "      <td>Укроп Обильнолистный 3,0 г 4660010772562</td>\n",
       "      <td>1</td>\n",
       "      <td>10</td>\n",
       "    </tr>\n",
       "  </tbody>\n",
       "</table>\n",
       "</div>"
      ],
      "text/plain": [
       "                    date                           customer_id  order_id  \\\n",
       "977  2018-11-25 14:00:00  52aff75c-a972-4c25-bad5-dfe6a48cd981     14512   \n",
       "979  2018-11-25 14:00:00  52aff75c-a972-4c25-bad5-dfe6a48cd981     14512   \n",
       "1069 2018-12-03 11:00:00  2c8b9386-2e8c-4ee9-8aa4-2b4875b68578     14514   \n",
       "1074 2018-12-03 11:00:00  2c8b9386-2e8c-4ee9-8aa4-2b4875b68578     14514   \n",
       "1078 2018-12-03 11:00:00  2c8b9386-2e8c-4ee9-8aa4-2b4875b68578     14514   \n",
       "1086 2018-12-03 11:00:00  2c8b9386-2e8c-4ee9-8aa4-2b4875b68578     14514   \n",
       "2159 2019-03-04 15:00:00  0f47231c-3a68-404a-88f7-08a4a172c17f     14559   \n",
       "2161 2019-03-04 15:00:00  0f47231c-3a68-404a-88f7-08a4a172c17f     14559   \n",
       "2168 2019-03-04 15:00:00  0f47231c-3a68-404a-88f7-08a4a172c17f     14559   \n",
       "2169 2019-03-04 15:00:00  0f47231c-3a68-404a-88f7-08a4a172c17f     14559   \n",
       "2924 2019-04-16 22:00:00  d4f984b6-ea59-4618-a26f-79a053e483c7     14653   \n",
       "2925 2019-04-16 22:00:00  d4f984b6-ea59-4618-a26f-79a053e483c7     14653   \n",
       "5642 2019-07-03 22:00:00  1ec1ad59-a29b-4949-929d-f4fc4fe14758     14887   \n",
       "6378 2019-09-21 21:00:00  6718a7fc-75c2-4b8a-820d-b2960be23ca7     14932   \n",
       "6388 2019-09-21 21:00:00  6718a7fc-75c2-4b8a-820d-b2960be23ca7     14932   \n",
       "6389 2019-09-21 21:00:00  6718a7fc-75c2-4b8a-820d-b2960be23ca7     14932   \n",
       "6970 2019-12-02 16:00:00  c42ba183-9dfe-4b9b-a572-3624973eab54    112689   \n",
       "7070 2019-12-17 09:00:00  7f5f1b8f-d7be-46d5-a1f7-e15d3d72a3f7    105745   \n",
       "7073 2019-12-17 12:00:00  1f7a71e2-0e7a-47ee-89d8-320b6315f4c7    107078   \n",
       "7152 2019-12-27 22:00:00  03134fa3-9ce0-4973-849d-32c21e26d64e    111690   \n",
       "7279 2020-01-08 16:00:00  aa7151ae-8da0-41ca-85b6-5c1b331d5bdc    107324   \n",
       "7308 2020-01-12 19:00:00  3dc5b972-ff3f-4e6d-a76e-5f47530a2f7c    107790   \n",
       "7437 2020-01-26 19:00:00  f727472d-06fb-4a41-b0f3-75012683afce    106536   \n",
       "\n",
       "                                                product  quantity  price  \n",
       "977          Морковь Детская сладость 2 г 4660010775921         1     10  \n",
       "979               Огурец Засолочный 0,3 г 4660010776102         1     10  \n",
       "1069  Алиссум (лобулярия) Снежные одежды 0,2 г 46500...         2      9  \n",
       "1074                 Кореопсис Толл 0,1 г 4650091480258         2     10  \n",
       "1078   Львиный зев Волшебный ковер 0,05 г 4660010779639         1      9  \n",
       "1086     Эшшольция Карминный король 0,5 г 4660010770193         2     10  \n",
       "2159                Горох Амброзия 10,0 г 4660010772616         1      9  \n",
       "2161                Незабудка смесь 0,1 г 4650091480340         1     10  \n",
       "2168           Томат Балконное чудо 0,1 г 4660010772531         1     10  \n",
       "2169           Укроп Обильнолистный 3,0 г 4660010772562         1     10  \n",
       "2924    Цинния Коралловая красавица 0,2 г 4660010773323         1     10  \n",
       "2925        Цинния Оранжевый король 0,5 г 4660010770520         1     10  \n",
       "5642  Алиссум (лобулярия) Снежные одежды 0,2 г 46500...         1      9  \n",
       "6378      Петрушка Итальянский гигант 2 г 4660010776553         1     10  \n",
       "6388           Томат Балконное чудо 0,1 г 4660010772531         1     10  \n",
       "6389           Укроп Обильнолистный 3,0 г 4660010772562         1     10  \n",
       "6970                Незабудка смесь 0,1 г 4650091480340         1     10  \n",
       "7070           Томат Балконное чудо 0,1 г 4660010772531         1     10  \n",
       "7073   Львиный зев Волшебный ковер 0,05 г 4660010779639         1      9  \n",
       "7152                Незабудка смесь 0,1 г 4650091480340         1     10  \n",
       "7279           Укроп Обильнолистный 3,0 г 4660010772562         1     10  \n",
       "7308                Незабудка смесь 0,1 г 4650091480340         1     10  \n",
       "7437           Укроп Обильнолистный 3,0 г 4660010772562         1     10  "
      ]
     },
     "execution_count": 21,
     "metadata": {},
     "output_type": "execute_result"
    }
   ],
   "source": [
    "df[df['price'] <= 10]"
   ]
  },
  {
   "cell_type": "markdown",
   "id": "342efbc6",
   "metadata": {},
   "source": [
    "Цена товаров из рассмотренных транзакций кажется верной. По результатам проверки на аномалии мы уберём из данных только одну транзакцию с избыточным количеством товара."
   ]
  },
  {
   "cell_type": "code",
   "execution_count": 22,
   "id": "79565eb4",
   "metadata": {},
   "outputs": [],
   "source": [
    "df.query('quantity < 1000', inplace=True)"
   ]
  },
  {
   "cell_type": "markdown",
   "id": "608670e8",
   "metadata": {},
   "source": [
    "### Добавление столбцов с данными"
   ]
  },
  {
   "cell_type": "markdown",
   "id": "fc25b2d6",
   "metadata": {},
   "source": [
    "В наших данных цена товара указана за одну единицу, поэтому добавим столбец с общей стоимостью транзакции."
   ]
  },
  {
   "cell_type": "code",
   "execution_count": 23,
   "id": "7d1c319a",
   "metadata": {},
   "outputs": [],
   "source": [
    "df['total_cost'] = df['price'] * df['quantity']"
   ]
  },
  {
   "cell_type": "markdown",
   "id": "e471a80a",
   "metadata": {},
   "source": [
    "Для удобства дальнейшего анализа создадим дополнительные столбцы с месяцем, днём недели и часом."
   ]
  },
  {
   "cell_type": "code",
   "execution_count": 24,
   "id": "cbed9d3e",
   "metadata": {},
   "outputs": [
    {
     "data": {
      "text/html": [
       "<div>\n",
       "<style scoped>\n",
       "    .dataframe tbody tr th:only-of-type {\n",
       "        vertical-align: middle;\n",
       "    }\n",
       "\n",
       "    .dataframe tbody tr th {\n",
       "        vertical-align: top;\n",
       "    }\n",
       "\n",
       "    .dataframe thead th {\n",
       "        text-align: right;\n",
       "    }\n",
       "</style>\n",
       "<table border=\"1\" class=\"dataframe\">\n",
       "  <thead>\n",
       "    <tr style=\"text-align: right;\">\n",
       "      <th></th>\n",
       "      <th>date</th>\n",
       "      <th>customer_id</th>\n",
       "      <th>order_id</th>\n",
       "      <th>product</th>\n",
       "      <th>quantity</th>\n",
       "      <th>price</th>\n",
       "      <th>total_cost</th>\n",
       "      <th>year</th>\n",
       "      <th>month</th>\n",
       "      <th>weekday</th>\n",
       "      <th>hour</th>\n",
       "    </tr>\n",
       "  </thead>\n",
       "  <tbody>\n",
       "    <tr>\n",
       "      <th>0</th>\n",
       "      <td>2018-10-01</td>\n",
       "      <td>ee47d746-6d2f-4d3c-9622-c31412542920</td>\n",
       "      <td>68477</td>\n",
       "      <td>Комнатное растение в горшке Алое Вера, d12, h30</td>\n",
       "      <td>1</td>\n",
       "      <td>142</td>\n",
       "      <td>142</td>\n",
       "      <td>2018</td>\n",
       "      <td>Октябрь</td>\n",
       "      <td>Понедельник</td>\n",
       "      <td>0</td>\n",
       "    </tr>\n",
       "    <tr>\n",
       "      <th>1</th>\n",
       "      <td>2018-10-01</td>\n",
       "      <td>ee47d746-6d2f-4d3c-9622-c31412542920</td>\n",
       "      <td>68477</td>\n",
       "      <td>Комнатное растение в горшке Кофе Арабика, d12,...</td>\n",
       "      <td>1</td>\n",
       "      <td>194</td>\n",
       "      <td>194</td>\n",
       "      <td>2018</td>\n",
       "      <td>Октябрь</td>\n",
       "      <td>Понедельник</td>\n",
       "      <td>0</td>\n",
       "    </tr>\n",
       "    <tr>\n",
       "      <th>2</th>\n",
       "      <td>2018-10-01</td>\n",
       "      <td>ee47d746-6d2f-4d3c-9622-c31412542920</td>\n",
       "      <td>68477</td>\n",
       "      <td>Радермахера d-12 см h-20 см</td>\n",
       "      <td>1</td>\n",
       "      <td>112</td>\n",
       "      <td>112</td>\n",
       "      <td>2018</td>\n",
       "      <td>Октябрь</td>\n",
       "      <td>Понедельник</td>\n",
       "      <td>0</td>\n",
       "    </tr>\n",
       "    <tr>\n",
       "      <th>3</th>\n",
       "      <td>2018-10-01</td>\n",
       "      <td>ee47d746-6d2f-4d3c-9622-c31412542920</td>\n",
       "      <td>68477</td>\n",
       "      <td>Хризолидокарпус Лутесценс d-9 см</td>\n",
       "      <td>1</td>\n",
       "      <td>179</td>\n",
       "      <td>179</td>\n",
       "      <td>2018</td>\n",
       "      <td>Октябрь</td>\n",
       "      <td>Понедельник</td>\n",
       "      <td>0</td>\n",
       "    </tr>\n",
       "    <tr>\n",
       "      <th>4</th>\n",
       "      <td>2018-10-01</td>\n",
       "      <td>ee47d746-6d2f-4d3c-9622-c31412542920</td>\n",
       "      <td>68477</td>\n",
       "      <td>Циперус Зумула d-12 см h-25 см</td>\n",
       "      <td>1</td>\n",
       "      <td>112</td>\n",
       "      <td>112</td>\n",
       "      <td>2018</td>\n",
       "      <td>Октябрь</td>\n",
       "      <td>Понедельник</td>\n",
       "      <td>0</td>\n",
       "    </tr>\n",
       "  </tbody>\n",
       "</table>\n",
       "</div>"
      ],
      "text/plain": [
       "        date                           customer_id  order_id  \\\n",
       "0 2018-10-01  ee47d746-6d2f-4d3c-9622-c31412542920     68477   \n",
       "1 2018-10-01  ee47d746-6d2f-4d3c-9622-c31412542920     68477   \n",
       "2 2018-10-01  ee47d746-6d2f-4d3c-9622-c31412542920     68477   \n",
       "3 2018-10-01  ee47d746-6d2f-4d3c-9622-c31412542920     68477   \n",
       "4 2018-10-01  ee47d746-6d2f-4d3c-9622-c31412542920     68477   \n",
       "\n",
       "                                             product  quantity  price  \\\n",
       "0    Комнатное растение в горшке Алое Вера, d12, h30         1    142   \n",
       "1  Комнатное растение в горшке Кофе Арабика, d12,...         1    194   \n",
       "2                        Радермахера d-12 см h-20 см         1    112   \n",
       "3                   Хризолидокарпус Лутесценс d-9 см         1    179   \n",
       "4                     Циперус Зумула d-12 см h-25 см         1    112   \n",
       "\n",
       "   total_cost  year    month      weekday  hour  \n",
       "0         142  2018  Октябрь  Понедельник     0  \n",
       "1         194  2018  Октябрь  Понедельник     0  \n",
       "2         112  2018  Октябрь  Понедельник     0  \n",
       "3         179  2018  Октябрь  Понедельник     0  \n",
       "4         112  2018  Октябрь  Понедельник     0  "
      ]
     },
     "execution_count": 24,
     "metadata": {},
     "output_type": "execute_result"
    }
   ],
   "source": [
    "# столбец с годом транзакции \n",
    "df['year'] = df['date'].dt.year\n",
    "# столбец с месяцем транзакции\n",
    "month_categories = 'Январь', 'Февраль', 'Март', 'Апрель', 'Май', 'Июнь', 'Июль', 'Август', 'Сентябрь', 'Октябрь', 'Ноябрь', 'Декабрь'\n",
    "df['month'] = pd.Categorical(df['date'].dt.month_name(locale='ru_RU.UTF-8'), categories=month_categories)\n",
    "# столбец с днём недели транзакции\n",
    "weekday_categories = 'Понедельник', 'Вторник', 'Среда', 'Четверг', 'Пятница', 'Суббота', 'Воскресенье'\n",
    "df['weekday'] = pd.Categorical(df['date'].dt.day_name(locale='ru_RU.UTF-8'), categories=weekday_categories)\n",
    "\n",
    "# столбец с часом транзакции\n",
    "df['hour'] = df['date'].dt.hour\n",
    "df.head()"
   ]
  },
  {
   "cell_type": "markdown",
   "id": "cde5e7cc",
   "metadata": {},
   "source": [
    "### Категоризация товаров"
   ]
  },
  {
   "cell_type": "markdown",
   "id": "2d7f985f",
   "metadata": {},
   "source": [
    "Для дальнейшего анализа проведём категоризацию товаров из транзакций. Для начала посмотрим, сколько уникальных названий товаров у нас есть."
   ]
  },
  {
   "cell_type": "code",
   "execution_count": 25,
   "id": "36dd3e72",
   "metadata": {},
   "outputs": [
    {
     "data": {
      "text/plain": [
       "2333"
      ]
     },
     "execution_count": 25,
     "metadata": {},
     "output_type": "execute_result"
    }
   ],
   "source": [
    "df['product'].nunique()"
   ]
  },
  {
   "cell_type": "markdown",
   "id": "9d8af9d7",
   "metadata": {},
   "source": [
    "Попробуем сократить это количество, сократив названия продуктов. Напишем функцию, которая оставит только первые два слова у названия. Нам потребуются как минимум два слова, так как первое слово может быть прилагательным."
   ]
  },
  {
   "cell_type": "code",
   "execution_count": 26,
   "id": "d43c0c2a",
   "metadata": {},
   "outputs": [],
   "source": [
    "def get_short_name(name: str) -> str:\n",
    "    '''Функция для получения сокращённого названия продукта.\n",
    "    \n",
    "Фукция принимает на вход строку, переводит её в нижний регистр, заменяет букву \"ё\" на \"е\", \n",
    "убирает слова короче 3 символов и возвращает первые два слова новой строки.'''\n",
    "    \n",
    "    words = list(filter(lambda x: len(x) >= 3, name.lower().replace('ё', 'е').split()))\n",
    "    return ' '.join(words[:2])"
   ]
  },
  {
   "cell_type": "code",
   "execution_count": 27,
   "id": "4d538c70",
   "metadata": {
    "scrolled": true
   },
   "outputs": [
    {
     "data": {
      "text/html": [
       "<div>\n",
       "<style scoped>\n",
       "    .dataframe tbody tr th:only-of-type {\n",
       "        vertical-align: middle;\n",
       "    }\n",
       "\n",
       "    .dataframe tbody tr th {\n",
       "        vertical-align: top;\n",
       "    }\n",
       "\n",
       "    .dataframe thead th {\n",
       "        text-align: right;\n",
       "    }\n",
       "</style>\n",
       "<table border=\"1\" class=\"dataframe\">\n",
       "  <thead>\n",
       "    <tr style=\"text-align: right;\">\n",
       "      <th></th>\n",
       "      <th>date</th>\n",
       "      <th>customer_id</th>\n",
       "      <th>order_id</th>\n",
       "      <th>product</th>\n",
       "      <th>quantity</th>\n",
       "      <th>price</th>\n",
       "      <th>total_cost</th>\n",
       "      <th>year</th>\n",
       "      <th>month</th>\n",
       "      <th>weekday</th>\n",
       "      <th>hour</th>\n",
       "      <th>product_short</th>\n",
       "    </tr>\n",
       "  </thead>\n",
       "  <tbody>\n",
       "    <tr>\n",
       "      <th>0</th>\n",
       "      <td>2018-10-01</td>\n",
       "      <td>ee47d746-6d2f-4d3c-9622-c31412542920</td>\n",
       "      <td>68477</td>\n",
       "      <td>Комнатное растение в горшке Алое Вера, d12, h30</td>\n",
       "      <td>1</td>\n",
       "      <td>142</td>\n",
       "      <td>142</td>\n",
       "      <td>2018</td>\n",
       "      <td>Октябрь</td>\n",
       "      <td>Понедельник</td>\n",
       "      <td>0</td>\n",
       "      <td>комнатное растение</td>\n",
       "    </tr>\n",
       "    <tr>\n",
       "      <th>1</th>\n",
       "      <td>2018-10-01</td>\n",
       "      <td>ee47d746-6d2f-4d3c-9622-c31412542920</td>\n",
       "      <td>68477</td>\n",
       "      <td>Комнатное растение в горшке Кофе Арабика, d12,...</td>\n",
       "      <td>1</td>\n",
       "      <td>194</td>\n",
       "      <td>194</td>\n",
       "      <td>2018</td>\n",
       "      <td>Октябрь</td>\n",
       "      <td>Понедельник</td>\n",
       "      <td>0</td>\n",
       "      <td>комнатное растение</td>\n",
       "    </tr>\n",
       "    <tr>\n",
       "      <th>2</th>\n",
       "      <td>2018-10-01</td>\n",
       "      <td>ee47d746-6d2f-4d3c-9622-c31412542920</td>\n",
       "      <td>68477</td>\n",
       "      <td>Радермахера d-12 см h-20 см</td>\n",
       "      <td>1</td>\n",
       "      <td>112</td>\n",
       "      <td>112</td>\n",
       "      <td>2018</td>\n",
       "      <td>Октябрь</td>\n",
       "      <td>Понедельник</td>\n",
       "      <td>0</td>\n",
       "      <td>радермахера d-12</td>\n",
       "    </tr>\n",
       "    <tr>\n",
       "      <th>3</th>\n",
       "      <td>2018-10-01</td>\n",
       "      <td>ee47d746-6d2f-4d3c-9622-c31412542920</td>\n",
       "      <td>68477</td>\n",
       "      <td>Хризолидокарпус Лутесценс d-9 см</td>\n",
       "      <td>1</td>\n",
       "      <td>179</td>\n",
       "      <td>179</td>\n",
       "      <td>2018</td>\n",
       "      <td>Октябрь</td>\n",
       "      <td>Понедельник</td>\n",
       "      <td>0</td>\n",
       "      <td>хризолидокарпус лутесценс</td>\n",
       "    </tr>\n",
       "    <tr>\n",
       "      <th>4</th>\n",
       "      <td>2018-10-01</td>\n",
       "      <td>ee47d746-6d2f-4d3c-9622-c31412542920</td>\n",
       "      <td>68477</td>\n",
       "      <td>Циперус Зумула d-12 см h-25 см</td>\n",
       "      <td>1</td>\n",
       "      <td>112</td>\n",
       "      <td>112</td>\n",
       "      <td>2018</td>\n",
       "      <td>Октябрь</td>\n",
       "      <td>Понедельник</td>\n",
       "      <td>0</td>\n",
       "      <td>циперус зумула</td>\n",
       "    </tr>\n",
       "  </tbody>\n",
       "</table>\n",
       "</div>"
      ],
      "text/plain": [
       "        date                           customer_id  order_id  \\\n",
       "0 2018-10-01  ee47d746-6d2f-4d3c-9622-c31412542920     68477   \n",
       "1 2018-10-01  ee47d746-6d2f-4d3c-9622-c31412542920     68477   \n",
       "2 2018-10-01  ee47d746-6d2f-4d3c-9622-c31412542920     68477   \n",
       "3 2018-10-01  ee47d746-6d2f-4d3c-9622-c31412542920     68477   \n",
       "4 2018-10-01  ee47d746-6d2f-4d3c-9622-c31412542920     68477   \n",
       "\n",
       "                                             product  quantity  price  \\\n",
       "0    Комнатное растение в горшке Алое Вера, d12, h30         1    142   \n",
       "1  Комнатное растение в горшке Кофе Арабика, d12,...         1    194   \n",
       "2                        Радермахера d-12 см h-20 см         1    112   \n",
       "3                   Хризолидокарпус Лутесценс d-9 см         1    179   \n",
       "4                     Циперус Зумула d-12 см h-25 см         1    112   \n",
       "\n",
       "   total_cost  year    month      weekday  hour              product_short  \n",
       "0         142  2018  Октябрь  Понедельник     0         комнатное растение  \n",
       "1         194  2018  Октябрь  Понедельник     0         комнатное растение  \n",
       "2         112  2018  Октябрь  Понедельник     0           радермахера d-12  \n",
       "3         179  2018  Октябрь  Понедельник     0  хризолидокарпус лутесценс  \n",
       "4         112  2018  Октябрь  Понедельник     0             циперус зумула  "
      ]
     },
     "execution_count": 27,
     "metadata": {},
     "output_type": "execute_result"
    }
   ],
   "source": [
    "df['product_short'] = df['product'].apply(get_short_name)\n",
    "df.head()"
   ]
  },
  {
   "cell_type": "code",
   "execution_count": 28,
   "id": "e4f9ccab",
   "metadata": {},
   "outputs": [
    {
     "data": {
      "text/plain": [
       "919"
      ]
     },
     "execution_count": 28,
     "metadata": {},
     "output_type": "execute_result"
    }
   ],
   "source": [
    "df['product_short'].nunique()"
   ]
  },
  {
   "cell_type": "markdown",
   "id": "f6432a68",
   "metadata": {},
   "source": [
    "Нам удалось значительно сократить количество уникальных названий товаров, по ним мы уже можем составить словарь категорий и товаров."
   ]
  },
  {
   "cell_type": "code",
   "execution_count": 29,
   "id": "369f89f1",
   "metadata": {
    "scrolled": true
   },
   "outputs": [
    {
     "data": {
      "text/plain": [
       "array(['комнатное растение', 'радермахера d-12',\n",
       "       'хризолидокарпус лутесценс', 'циперус зумула', 'шеффлера лузеана',\n",
       "       'юкка нитчатая', 'настенная сушилка', 'таз пластмассовый',\n",
       "       'чехол для', 'вешалка для', 'сушилка для', 'чехол eurogold',\n",
       "       'крючок одежный', 'корзина мягкая', 'мини-сковорода marmiton',\n",
       "       'сковорода алюминиевая', 'стеклянная крышка', 'доска гладильная',\n",
       "       'сумка-тележка 2-х', 'многолетнее растение', 'рассада зелени',\n",
       "       'муляж \"райские', 'муляж банан,', 'муляж виноград', 'муляж гранат',\n",
       "       'муляж груша', 'муляж груша,', 'муляж зеленое', 'муляж клубника',\n",
       "       'муляж красное', 'муляж лимон,', 'муляж мандарин,', 'муляж перец,',\n",
       "       'муляж персики', 'муляж томат,', 'муляж черешня',\n",
       "       'щетка-сметка 3-х', 'щетка-сметка 4-х', 'сумка для',\n",
       "       'тарелка обеденная', 'вилка столовая', 'ложка столовая',\n",
       "       'ложка чайная', 'нож столовый', 'герань домашняя', 'ерш для',\n",
       "       'пеларгония зональная', 'котел алюминиевый', 'суккулент микс',\n",
       "       'эхеверия перл', 'набор прищепок', 'коврик придверный',\n",
       "       'коврик bacchetta', 'корзина для', 'корзина пластиковая',\n",
       "       'подкладка под', 'набор кружек', 'коврик интерьерный',\n",
       "       'дозатор для', 'ерш унитазный', 'нож для', 'эвкалипт гунни',\n",
       "       'муляж виноград,', 'муляж вишня,', 'муляж персик,',\n",
       "       'набор фужеров', 'цветок искусственный',\n",
       "       'сумка-тележка хозяйственная', 'мусорный контейнер',\n",
       "       'плед флисовый', 'скатерть династия', 'коврик хлопковый',\n",
       "       'кувшин пластмассовый', 'муляж перец', 'адиантум лиза',\n",
       "       'ковер придверный', 'перчатки латексные', 'стремянка алюминиевая',\n",
       "       'гладильная доска', 'лестница-стремянка dogrular', 'толкушка для',\n",
       "       'тележка багажная', 'готовая скатерть', 'искусственный цветок',\n",
       "       'простыня резинке', 'чайник эмалированный', 'набор вешалок',\n",
       "       'штора текстильная', 'банка стеклянной', 'стяжка оконная',\n",
       "       'сумка-тележка 3-х', 'набор ковров', 'комплект для',\n",
       "       'муляж апельсин', 'муляж яблоко', 'кампанула махровая',\n",
       "       'пеларгония душистая', 'декоративная композиция',\n",
       "       'противень прямоугольный', 'калатея микс', 'нолина цветной',\n",
       "       'плечики пластмассовые', 'подушка декоративная',\n",
       "       'полотенце кухонное', 'хлорофитум d-13', 'цикламен d-13',\n",
       "       'крепеж для', 'пружина дверная', 'глоксиния d-13', 'азалия индика',\n",
       "       'гортензия микс', 'хризантема космо', 'муляж тыквы',\n",
       "       'петля приварная', 'салфетка protec', 'вкладыши для',\n",
       "       'миксер delta', 'коврик влаговпитывающий', 'кофр для',\n",
       "       'стиральный биопорошок', 'чистящий крем', 'tepмокружка avex',\n",
       "       'щетка для', 'мирт d-20', 'цветущее комнатное', 'штора для',\n",
       "       'стремянки colombo', 'щетка-утюжок ручкой',\n",
       "       'светильник настольный', 'муляж лимон', 'кориандр кассете',\n",
       "       'жидкое мыло', 'коврик резиновый', 'пена для',\n",
       "       'тележка хозяйственная', 'подрукавник складной',\n",
       "       'штора встроенными', 'иссоп лекарственный', 'сантолина d-9',\n",
       "       'аспарагус d-12', 'афеляндра скуарроса', 'набор сверел',\n",
       "       'сверло-фреза, мм,', 'контейнер для', 'зубная паста',\n",
       "       'антуриум андрианум', 'молодило микс', 'фиалка d-11',\n",
       "       'гладильная доска-стремянка', 'гербера d-13',\n",
       "       'душица обыкновенная', 'мелисса лекарственная', 'роза кордана',\n",
       "       'фиалка карнавал', 'хризантема белая', 'хризантема красная',\n",
       "       'карниз алюминиевый', 'веник сорго', 'стремянка металлическая',\n",
       "       'швабра многофункциональная,', 'ящик для', 'щетка палубная',\n",
       "       'скатерть лувр', 'подголовник для', 'пеларгония розоцветная',\n",
       "       'банка металлической', 'ведро для', 'вешалка деревянная',\n",
       "       'вешалка закругленными', 'короб стеллажный', 'коробка для',\n",
       "       'наматрасник wellness', 'наматрицник-чехол natures', 'насадка для',\n",
       "       'швабра многофункциональная', 'швабра сальса',\n",
       "       'коврик придверный,', 'ножеточка универсальная',\n",
       "       'вешалка-плечики без', 'салфетка камушки', 'бегония ампельная,',\n",
       "       'рассада пеларгония', 'хризантема корейская',\n",
       "       'настольная гладильная', 'розмарин d-12', 'масленка коровка',\n",
       "       'стремянка бытовая', 'подрукавник gimi', 'утюг электрический',\n",
       "       'корыто оцинкованное', 'холодная сварка', 'муляж вишня',\n",
       "       'муляж мандарин', 'муляж чеснок', 'сервировочная салфетка',\n",
       "       'коврик противоскользящий', 'салатник luminarc',\n",
       "       'тарелка десертная', 'тарелка суповая', 'муляж ананас',\n",
       "       'муляж баклажан', 'муляж банан', 'муляж манго', 'муляж морковь',\n",
       "       'муляж персик', 'сковорода scovo', 'банка стеклянная',\n",
       "       'скатерть пвх', 'шнур резиновый', 'урна уличная',\n",
       "       'скатерть азалия', 'чайный набор', 'набор эмалированных',\n",
       "       'мыло жидкое', 'стремянка ступенчатая',\n",
       "       'рыбочистка металлическая,', 'сиденье для',\n",
       "       'овощеварка алюминиевая', 'сметка совком', 'халат вафельный',\n",
       "       'измерительный алюминиевый', 'линейка, длина', 'терка webber',\n",
       "       'кружка 350', 'кружка для', 'кружка luminarc', 'ложка обувная',\n",
       "       'лопатка attribute', 'лопатка прорезями', 'полотенце махровое',\n",
       "       'салфетка махровая', 'салфетница металлическая', 'стакан низкий',\n",
       "       'стакан пластмассовый', 'столовая ложка', 'чайная ложка',\n",
       "       'коврик для', 'альбука спиралис', 'коврик sochi',\n",
       "       'овощечистка плавающим', 'бальзамин новогвинейский',\n",
       "       'бегония клубневая', 'крассула овата', 'артемизия (полынь',\n",
       "       'насадка швабре', 'средство для', 'фиалка микс', 'коврик ворсовый',\n",
       "       'вешалка напольная', 'бензин для', 'скатерть прямоугольная',\n",
       "       'паста для', 'петля-стрела пс-286', 'лаванда d-9', 'мята d-9',\n",
       "       'чайник электрический', 'вешалка-стойка дерево', 'муляж желудь',\n",
       "       'муляж яблоко,', 'сумка-тележка gimi', 'каланхое каландива',\n",
       "       'примула акаулис', 'держатель для', 'пробка для',\n",
       "       'измельчитель овощей', 'сумка-тележка delta', 'лоток для',\n",
       "       'вешалки мягкие', 'губка спираль', 'перчатки резиновые',\n",
       "       'сушилка мульти', 'салатник романтик', 'фен дорожный',\n",
       "       'вешалка настенная', 'вешалка самоклеющая', 'салатник амори',\n",
       "       'салатник колорама', 'салатник рапсоди', 'дендробиум санок',\n",
       "       'калоцефалус брауни', 'антижир posh', 'каллуна гарден',\n",
       "       'капсикум сальса', 'кофр малый', 'мимоза стыдливая',\n",
       "       'набор кухонных', 'соланум d-10', 'универсальное средство',\n",
       "       'мантоварка алюминиевая', 'ролик для', 'сменный блок',\n",
       "       'пеларгония d-13', 'роза патио', 'набор бокалов', 'набор стаканов',\n",
       "       'термометр окно', 'термометр уличный', 'ящик почтовый',\n",
       "       'бархатцы веселая', 'космея очаровашка', 'морковь детская',\n",
       "       'настурция драгоценность', 'огурец засолочный', 'петуния каскад',\n",
       "       'шило пластмассовой', 'банка стекла', 'сумка-тележка twin',\n",
       "       'ковш пластмассовый', 'кухонные ножницы', 'набор ножей',\n",
       "       'нож кухонный', 'рыбочистка деревянной', 'кисточка силиконовая',\n",
       "       'скребок кондитерский', 'комод эльфпласт',\n",
       "       'картофелемялка металлическая', 'салатник воларэ',\n",
       "       'ароматизированное средство', 'бальзам для', 'коврик кухонный',\n",
       "       'алиссум (лобулярия)', 'гвоздика турецкая', 'годеция рембранд',\n",
       "       'календула пинк', 'капуста декоративная', 'кореопсис толл',\n",
       "       'космея клюквенный', 'космея кэнди', 'лапчатка огненное',\n",
       "       'львиный зев', 'флокс друммонда', 'цинерария серебряная',\n",
       "       'эшшольция карминный', 'жестяная банка', 'кружка нордик',\n",
       "       'рассекатель пламени', 'ополаскиватель для', 'сетка для',\n",
       "       'покрывало жаккард', 'вешалка гардеробная', 'набор форм',\n",
       "       'весы напольные', 'диффенбахия d-12', 'комплект постельного',\n",
       "       'фаленопсис королевский', 'подставка для', 'вешалка-сушилка gimi',\n",
       "       'миска пластмассовая', 'кружка прозрачная', 'одеяло silver',\n",
       "       'подсолнечник низкорослый', 'ручка-скоба рс-100', 'пуансетия d-12',\n",
       "       'пресс для', 'лестница-стремянка примус',\n",
       "       'щетка-сметка пластиковой', 'термостакан webber',\n",
       "       'гиностемма укорененный', 'ель канадская', 'кипарисовик лавсона',\n",
       "       'аптения d-10', 'банка рондо', 'роза палас', 'новогоднее дерево',\n",
       "       'мыльница пластмассовая', 'подголовник bacchetta', 'коврик dasch',\n",
       "       'пеларгония грандифлора', 'мыло ручной', 'защитный экран',\n",
       "       'многофункциональный инструмент', 'роза мини', 'коврик ванну',\n",
       "       'стремянка-табурет алюминиевая', 'пуансеттия d-12',\n",
       "       'петля рояльная', 'крассула d-17', 'комплект махровых',\n",
       "       'набор столовых', 'пуансеттия d-15', 'кольца для',\n",
       "       'скатерть сидней', 'кувшин luminarc', 'скатерть towa',\n",
       "       'вантуз черный', 'термокружка alpenkok', 'фоторамка alparaisa',\n",
       "       'этажерка для', 'скатерть джулия', 'термос стеклянной',\n",
       "       'скиммия японская', 'аспарагус спренжери', 'доска разделочная',\n",
       "       'розмарин d-9', 'пуансеттия d-23', 'сумка хозяйственная',\n",
       "       'скатерть 350х180', 'кружка бамбук', 'скатерть арлет',\n",
       "       'кондиционер для', 'фарфоровая кружка', 'вешалка металлическая',\n",
       "       'термос svb-1000h', 'стремянка framar', 'скатерть виниловая',\n",
       "       'электроштопор qwerty', 'стремянка eurogold', 'простынь вафельная',\n",
       "       'столовый нож', 'вешалка valiant', 'блюдце утро',\n",
       "       'скатерть ажурная', 'фиттония скелетон', 'скатерть беатрис',\n",
       "       'роза кустовая', 'полки qwerty', 'тимьян d-9',\n",
       "       'бульонница luminarc', 'алоэ вера', 'роза одноголовая',\n",
       "       'миксер василиса', 'ключница картина', 'разделочная доска',\n",
       "       'аптения d-12', 'мантоварка-пароварка webber',\n",
       "       'складная картонная', 'спатифиллум шопен', 'контейнер герметичный',\n",
       "       'емкость для', 'фикус каучуконосный', 'защитная соль',\n",
       "       'гипоаллергенный концентрированный', 'скатерть 150х120',\n",
       "       'вешалка-перекладина valiant', 'скатерть муза', 'кружка мерная',\n",
       "       'фиалка d-9', 'модульная стеклянная', 'перчатки fabrikators',\n",
       "       'лестница стремянка', 'карниз для', 'пеларгония розебудная',\n",
       "       'крючок проволочный', 'просеиватель для', 'пеларгония toscana',\n",
       "       'скатерть meiwa', 'кастрюля чугунная', 'весы настольные',\n",
       "       'декоративная коробка', 'толкушка деревянная',\n",
       "       'махровое полотенце', 'вешалка ника', 'швабра для',\n",
       "       'искусственная лиана', 'кодонанта укорененный', 'совок щетка',\n",
       "       'хлебница деревянная', 'скатерть dasch', 'гербера комнатная',\n",
       "       'насадка-отжим пластиковая', 'муляж оранжевое',\n",
       "       'ведро пластиковое', 'сиденье ванну', 'цикламен, цвет',\n",
       "       'фаленопсис люкс', 'кружка марли', 'цикламен d-12',\n",
       "       'гимнокалициум микс', 'нетканые салфетки', 'примула желтая',\n",
       "       'пылесос delta', 'рассада пряной', 'калатея кроката',\n",
       "       'кофе арабика', 'антуриум тропик', 'эхинокактус грузони',\n",
       "       'термокружка вакуумная', 'набор махровых', 'чайник заварочный',\n",
       "       'стремянка colombo', 'фал капроновый', 'форма аlpenkok',\n",
       "       'орехоколка viva,', 'штанга для', 'увлажняющая маска',\n",
       "       'эхеверия микс', 'салфетка стол', 'фиалка химера', 'ведро ampari',\n",
       "       'крокусы pickwick', 'термокружка яромир', 'кухонное полотенце',\n",
       "       'спатифиллум d-7', 'гипсофила аврора', 'подарочный набор',\n",
       "       'сушилка meliconi', 'кастрюля круглая', 'примула комнатная',\n",
       "       'дендробиум фиолетовый', 'калибрахоа ампельная,', 'роза садовая',\n",
       "       'эпипремнум ауреум', 'фаленопсис желтый', 'мирт d-9',\n",
       "       'набор vileda', 'пуансеттия горшке', 'рассада огурца',\n",
       "       'рассада томата', 'цикламен комнатный', 'хризантема кустовая',\n",
       "       'махровый халат', 'аквилегия обыкновенная', 'базилик смесь',\n",
       "       'горох амброзия', 'земляника барон', 'незабудка смесь',\n",
       "       'седум почвопокровный', 'тимьян овощной', 'томат балконное',\n",
       "       'укроп обильнолистный', 'нефролепис бостон',\n",
       "       'калла крупноцветковая', 'декабрист горшке',\n",
       "       'дендробиум яблоневый', 'тюльпан louvre',\n",
       "       'искусственная композиция', 'штангенциркуль 150',\n",
       "       'скатерть 350х150', 'мыло-скраб мочалкой', 'мята перечная',\n",
       "       'гиацинт blue', 'вербена рассада', 'однолетнее растение',\n",
       "       'петуния гибридная', 'петуния махровая', 'скалка силиконовая,',\n",
       "       'утюг delta', 'ведро овальное', 'набор прецизионных',\n",
       "       'корзина колесах', 'рукав для', 'чабер bolero', 'бакопа ампельная',\n",
       "       'калибрахоа aloha', 'калибрахоа mini', 'калибрахоа sweet',\n",
       "       'коробка прямоугольная', 'ранункулус клуни',\n",
       "       'лестница-стремянка sarayli', 'венчик деревянной',\n",
       "       'гвоздика стандартная', 'пеларгония angeleyes', 'сито webber',\n",
       "       'бак для', 'сковорода hard', 'миска фазенда', 'вешалка надверная',\n",
       "       'газания рассада', 'овсянница сизая', 'концентрат для',\n",
       "       'форма для', 'тортница curver', 'георгина черная',\n",
       "       'календула бронзовая', 'космея лимонад', 'космея попсокс',\n",
       "       'космея снежный', 'смолевка звездный', 'цинния ацтек',\n",
       "       'цинния хаага', 'базилик зеленый', 'базилик овощной',\n",
       "       'базилик пурпурные', 'лаванда торх', 'лавр горшке',\n",
       "       'мята колосистая', 'мята aura', 'тимьян крымский',\n",
       "       'вербейник монетчатый', 'виола рассада', 'гвоздика травянка',\n",
       "       'колокольчик персиколистный', 'котовник блю',\n",
       "       'рассада остеоспермум', 'флокс растопыренный', 'эхинацея микс',\n",
       "       'ясколка войлочная', 'блюдо pasabahce', 'полка для', 'мята махито',\n",
       "       'окномойка алюминиевой', 'урна-пепельница нержавеющей',\n",
       "       'веник для', 'калибрахоа bloomtastic', 'калибрахоа rave',\n",
       "       'петуния surprice', 'петуния sweetunia', 'термокружка забава',\n",
       "       'бегония вечноцветущая', 'щетка хозяйственная', 'лаванда горшке',\n",
       "       'виола рогатая', 'лилейник высокорослый', 'папоротник страусник',\n",
       "       'платикодон махровый', 'энотера миссурийская', 'сменная насадка',\n",
       "       'ложка кухонная', 'швабра хозяйственная', 'ткань универсальная',\n",
       "       'рассада капусты', 'рассада перца', 'рассада тыквы',\n",
       "       'гвоздика садовая', 'петуния простая', 'петуния изи',\n",
       "       'рассада огурец', 'урна-пепельница стали,', 'вербена микс',\n",
       "       'пеларгония плющелистная', 'петуния surfinia', 'фуксия blue',\n",
       "       'фуксия dark', 'фуксия swingtime', 'цитрофортунелла кумкват',\n",
       "       'пеперомия d-12', 'гортензия метельчатая', 'дыня млада',\n",
       "       'дыня симпатия', 'рассада арбуза', 'рассада дыни',\n",
       "       'рассада клубники', 'циния рассада', 'синнингия (глоксиния)',\n",
       "       'насадка-моп rozenbal', 'гардения d-9', 'томата (помидор)',\n",
       "       'бальзамин валера', 'земляника садовая', 'календула суприм',\n",
       "       'цинния коралловая', 'цинния оранжевый', 'базилик застольный',\n",
       "       'лобелия ампельная,', 'настурция лунный', 'настурция орхидное',\n",
       "       'подвесное кашпо', 'табак душистый', 'наматрацник natures',\n",
       "       'одеяло wellness', 'автоматическая щетка',\n",
       "       'тряпкодержатель металлическим', 'весы электронные',\n",
       "       'девичий виноград', 'бельевые прищепки', 'тимьян горшке',\n",
       "       'сверло металлу', 'фиксатор-шар хром', 'петуния крупноцветковая',\n",
       "       'петуния orange', 'петуния sanguna', 'вербена ампельная,',\n",
       "       'лобелия регатта', 'петуния pegasus', 'петуния surprise',\n",
       "       'кружка минни', 'эвкалипт сильвердроп', 'вербена крупноцветковая',\n",
       "       'вербена red', 'окномойка пластмассовой', 'мускари white',\n",
       "       'пиретрум робинсон', 'флокс метельчатый', 'банка крышкой',\n",
       "       'агератум рассада', 'алиссум рассада', 'колеус рассада',\n",
       "       'тагетис крупноцветковый', 'цинерания рассада', 'лобелия рассада',\n",
       "       'петуния potunia', 'муррайя d-9', 'петуния рассада',\n",
       "       'ерш радиаторный', 'кореопсис золотой', 'портулак рассада',\n",
       "       'астра рассада', 'набор посуды', 'аргирантерум рассада',\n",
       "       'левкой рассада', 'петуния свитуния', 'петуния baby',\n",
       "       'петуния bordeaux', 'петуния crazytunia', 'петуния sky',\n",
       "       'вероника колосковая', 'целозия гребенчатая',\n",
       "       'капуста белокочанная', 'примула рассада', 'арбуз огонек',\n",
       "       'арбуз сибирские', 'арбуз холодок', 'арбуз шуга',\n",
       "       'баклажан самурай', 'дыня алтайская', 'дыня дина', 'дыня золотой',\n",
       "       'дыня колхозница', 'дыня медовый', 'дыня награда',\n",
       "       'клубника альба', 'клубника мара', 'клубника хоней',\n",
       "       'патиссон диск', 'патиссон нло', 'вербена fuhcsia',\n",
       "       'маттиола ночная', 'капуста брокколи', 'кориандр стимул',\n",
       "       'рассада кабачка', 'сальвия рассада', 'лук порей',\n",
       "       'петуния ампельная', 'джункус пенсил', 'рассада патиссона',\n",
       "       'драцена фрагранс', 'арбуз волгоградец', 'рассада кассете',\n",
       "       'фуксия ампельная,', 'муляж булка', 'фатсия японская',\n",
       "       'хоста микс', 'рассада кабачок', 'капуста цветная', 'огурец алтай',\n",
       "       'огурец аристократ', 'огурец багратион', 'огурец боярский',\n",
       "       'томат государь', 'томат детерминантный', 'наволочка wellness',\n",
       "       'нож универсальный', 'кружка тачки', 'гайлардия крупноцветковая',\n",
       "       'монарда гибридная', 'нивянник (ромашка)', 'рудбекия тайгер',\n",
       "       'насадка валик', 'скребок клипсами', 'обувница-3 квадро',\n",
       "       'лапчатка травянистая', 'седум (очиток)', 'бакопа ампельная,',\n",
       "       'барвинок синий', 'вербена white', 'скребок для',\n",
       "       'пододеяльник 214х150', 'осина обыкновенная,', 'молодило горшке',\n",
       "       'отжим для', 'вешалка-стойка сакура', 'сциндапсус ассортименте',\n",
       "       'пеларгония тюльпановидная', 'покрывало karna', 'скатерть круглая',\n",
       "       'пряные травы', 'аквилегия махровая', 'алиссум скальный',\n",
       "       'астра альпийская', 'бузульник пржевальского',\n",
       "       'камнеломка арендса', 'солидаго желтый', 'физостегия вергинская',\n",
       "       'капуста брюссельская', 'патиссон зонтик', 'бадан сердцелистный',\n",
       "       'камнеломка тенистая', 'колокольчик карпатский', 'лен небесная',\n",
       "       'стремянка scab', 'полотенце прессованное', 'антинакипин для',\n",
       "       'ведро без', 'салатник эмпилабль', 'фатсия d-17',\n",
       "       'шпагат полипропиленовый', 'таз алюминиевый,', 'скатерть 180',\n",
       "       'муляж лайм', 'кастрюля эмалированная,', 'сотейник алюминиевый',\n",
       "       'хлебница webber', 'салатник аспен', 'стеллаж для', 'лавр нобилис',\n",
       "       'бидон пластмассовый', 'лантана d-13', 'складной детский',\n",
       "       'искусственный лист', 'лаватера монт', 'этажерка цветочная',\n",
       "       'ванна оцинкованная', 'анемона белый', 'буддлея вейера',\n",
       "       'валериана лекарственная', 'змееголовник молдавский',\n",
       "       'капуста кольраби', 'любисток удалец', 'монарда горшке',\n",
       "       'петрушка корневая', 'петрушка листовая', 'сельдерей листовой',\n",
       "       'табак бордовый', 'табак курительный', 'фуксия кассете',\n",
       "       'шалфей овощной', 'корзинка крышкой', 'ваза маскарад',\n",
       "       'вигна лилиана', 'кабачок изумруд', 'огурец закусочный',\n",
       "       'тыква крупноплодная', 'кастрюля алюминиевая', 'лоток knit',\n",
       "       'хамедорея d-12', 'лантана горшке', 'стремянка dogrular',\n",
       "       'зверобой продырявленный', 'муляж томат', 'цикламен розовый',\n",
       "       'прищепки для', 'ведро полимербыт', 'коробка infinity',\n",
       "       'мединилла магнифика', 'шнур хозяйственный', 'отделитель косточек',\n",
       "       'муляж долька', 'нож поварской', 'сушилка уличная',\n",
       "       'измерительный угольник,', 'набор для', 'спатифиллум свит',\n",
       "       'фиалка махровая', 'шприц кондитерский', 'крышка оцинкованная',\n",
       "       'импатиенс нью', 'покрытие для', 'клен ложноплатановый',\n",
       "       'хлебница пластмасовая', 'веревка полипропиленовая', 'миска для',\n",
       "       'мешок для', 'вешалка слуга', 'набор инструментов', 'ткань для',\n",
       "       'замиокулькас d-15', 'отбеливатель пероксоль',\n",
       "       'сахарница фарфоровая', 'паста зубная', 'завертка форточная',\n",
       "       'ручка мебельная', 'роза чайно-гибридная', 'перчатки latex',\n",
       "       'розмарин горшке', 'стакан для', 'покрывало стеганый',\n",
       "       'амариллис red', 'чайник свистком', 'соковарка webber',\n",
       "       'щетка универсальная', 'соковарка алюминиевая',\n",
       "       'пьезозажигалка мультиискрой', 'скатерть жаклин',\n",
       "       'соковыжималка для', 'решетка вентиляционная', 'запасная насадка',\n",
       "       'терка для', 'скатерть рим', 'простыня двуспальная',\n",
       "       'диффенбахия камилла', 'универсальный нож', 'перчатки extra',\n",
       "       'уголок оконный', 'петрушка итальянский', 'салат рукола',\n",
       "       'вакуумный пакет', 'эхеверия лила', 'корзина city', 'тряпка для',\n",
       "       'совок металический', 'совок для', 'кружка трубочкой',\n",
       "       'цикламен d-15', 'половник attribute', 'швабра leifheit',\n",
       "       'двуспальное постельное', 'муляж хлеб', 'подрукавник leifheit',\n",
       "       'сумка-тележка brava', 'хризантема сиреневая',\n",
       "       'кипятильник электрический', 'фуксия ампельная',\n",
       "       'фуксия прямостоячая', 'фуксия bella', 'пахира акватика',\n",
       "       'простыня сатиновая', 'подушка 40х40', 'салатник карин',\n",
       "       'ерш бутылочный', 'основание для', 'мерный стакан', 'стяжки для',\n",
       "       'ведро резинопластиковое', 'хлорофитум d-7', 'шпингалет белый',\n",
       "       'лавр d-9', 'литопс микс', 'миксер электрический', 'шеффлера голд'],\n",
       "      dtype=object)"
      ]
     },
     "execution_count": 29,
     "metadata": {},
     "output_type": "execute_result"
    }
   ],
   "source": [
    "df['product_short'].unique()"
   ]
  },
  {
   "cell_type": "markdown",
   "id": "0a202a4e",
   "metadata": {},
   "source": [
    "На основе уникальных названий мы можем составить следующие категории товаров:\n",
    "- `растения и семена`\n",
    "- `кухонные принадлежности`\n",
    "- `бытовая химия и средства гигиены`\n",
    "- `мебель, декор и текстиль`\n",
    "- `аксессуары и инструменты`"
   ]
  },
  {
   "cell_type": "markdown",
   "id": "dc500c6e",
   "metadata": {},
   "source": [
    "Напишем функцию, которая будет присваивать категории товарам и добавим в данные столбец с категориями."
   ]
  },
  {
   "cell_type": "code",
   "execution_count": 30,
   "id": "238d2d42",
   "metadata": {},
   "outputs": [],
   "source": [
    "def get_category(name: str) -> str:\n",
    "    '''Функция для присваивания товару категории.\n",
    "    \n",
    "Принимает на вход строку с сокращённым названием товара, ищет вхождения одного из слов в словарь с категориями, если находит,\n",
    "возвращает название категории их ключа словаря, иначе возвращает строку \"другое\"'''\n",
    "    \n",
    "    CATEGORIES = {\n",
    "        'растения и семена': {\n",
    "            'растение', 'шеффлера', 'литопс', 'лавр', 'хлорофитум', 'пахира',\n",
    "            'фуксия', 'хризантема', 'цикламен', 'эхеверия', 'рукола', 'петрушка',\n",
    "            'диффенбахия', 'амариллис', 'розмарин', 'роза', 'замиокулькас', 'клен',\n",
    "            'импатиенс', 'фиалка', 'спатифиллум', 'мединилла', 'зверобой',\n",
    "            'лантана', 'хамедорея', 'тыква', 'огурец', 'кабачок', 'вигна', 'шалфей',\n",
    "            'табак', 'сельдерей', 'монарда', 'любисток', 'капуста', 'змееголовник',\n",
    "            'валериана', 'анемона', 'буддлея', 'лаватера', 'фатсия', 'лен', 'колокольчик',\n",
    "            'камнеломка', 'бадан', 'патиссон', 'физостегия', 'солидаго', 'бузульник', 'астра',\n",
    "            'алиссум', 'аквилегия', 'травы', 'пеларгония', 'сциндапсус', 'молодило', 'осина',\n",
    "            'вербена', 'барвинок', 'бакопа', 'седум', 'лапчатка', 'рудбекия', 'нивянник', 'монарда',\n",
    "            'гайлардия', 'томат', 'рассада', 'хоста', 'фатсия', 'арбуз', 'драцена', 'джункус',\n",
    "            'петуния', 'лук', 'кориандр', 'маттиола', 'клубника', 'дыня', 'баклажан', 'целозия'\n",
    "            'вероника', 'кореопсис', 'муррайя', 'тагетис', 'флокс', 'пиретрум', 'мускари',\n",
    "            'эвкалипт', 'лобелия', 'тимьян', 'виноград', 'настурция', 'базилик', 'цинния',\n",
    "            'бальзамин', 'земляника', 'календула', 'томата', 'гардения', 'синнингия', 'гортензия',\n",
    "            'пеперомия', 'цитрофортунелла', 'гвоздика', 'энотера', 'платикодон', 'папоротник',\n",
    "            'лилейник', 'виола', 'лаванда', 'бегония', 'калибрахоа', 'мята', 'ясколка',\n",
    "            'эхинацея', 'котовник', 'вербейник', 'смолевка', 'космея', 'георгина', 'овсянница',\n",
    "            'ранункулус', 'чабер', 'гиацинт', 'дендробиум', 'тюльпан', 'декабрист', 'калла',\n",
    "            'укроп', 'нефролепис', 'незабудка', 'горох', 'пуансеттия', 'мирт', 'фаленопсис',\n",
    "            'эпипремнум', 'примула', 'подарочный', 'гипсофила', 'крокусы', 'фал', 'кофе', \n",
    "            'антуриум', 'эхинокактус', 'калатея', 'гимнокалициум', 'гербера', 'кодонанта', \n",
    "            'фикус', 'аптения', 'алоэ', 'фиттония', 'аспарагус', 'скиммия', 'крассула', 'дерево',\n",
    "            'ель', 'кипарисовик', 'гиностемма', 'пуансетия', 'подсолнечник', 'эшшольция', 'цинерария',\n",
    "            'львиный', 'годеция', 'морковь', 'бархатцы', 'соланум', 'мимоза', 'капсикум', 'каллуна',\n",
    "            'калоцефалус', 'каланхое', 'артемизия', 'альбука', 'мелисса', 'душица', 'афеляндра',\n",
    "            'сантолина', 'иссоп', 'цветущее', 'азалия', 'глоксиния', 'нолина', 'кампанула', \n",
    "            'адиантум', 'суккулент', 'герань', 'юкка', 'циперус', 'хризолидокарпус', 'радермахера',\n",
    "            'вероника', 'целозия',\n",
    "        },\n",
    "        'кухонные принадлежности': {\n",
    "            'миксер', 'стакан', 'салатник', 'кипятильник', 'половник', 'кружка',\n",
    "            'вакуумный', 'нож', 'терка', 'соковыжималка', 'пьезозажигалка', 'соковарка',\n",
    "            'чайник', 'сахарница', 'миска', 'хлебница', 'крышка', 'шприц', 'отделитель',\n",
    "            'кастрюля', 'лоток', 'сотейник', 'посуды', 'банка', 'ложка', 'термокружка',\n",
    "            'блюдо', 'тортница', 'форма', 'сковорода', 'сито', 'венчик', 'скалка', 'кухонное',\n",
    "            'салфетка', 'салфетки', 'орехоколка', 'толкушка', 'просеиватель', 'модульная', \n",
    "            'емкость', 'контейнер', 'мантоварка-пароварка', 'разделочная', 'бульонница', 'блюдце',\n",
    "            'электроштопор', 'термос', 'кувшин', 'защитный', 'пресс', 'форма', 'рассекатель',\n",
    "            'картофелемялка', 'силиконовая', 'рыбочистка', 'набор', 'ножницы', 'ковш', 'мантоварка', \n",
    "            'губка', 'измельчитель', 'овощечистка', 'салфетница', 'лопатка', 'овощеварка', 'тарелка',\n",
    "            'масленка', 'ножеточка', 'tepмокружка', 'вкладыши', 'противень', 'котел', 'вилка', 'мини-сковорода',\n",
    "            'термостакан', \n",
    "        },\n",
    "        'бытовая химия и средства гигиены': {\n",
    "            'паста', 'отбеливатель', 'антинакипин', 'концентрат', 'мыло-скраб', 'маска',\n",
    "            'гипоаллергенный', 'соль', 'кондиционер', 'мыло', 'ополаскиватель', 'бальзам',\n",
    "            'средство', 'антижир', 'бензин', 'крем', 'биопорошок',\n",
    "        },\n",
    "        'мебель, декор и текстиль': {\n",
    "            'подушка', 'простыня', 'муляж', 'постельное', 'скатерть', 'покрывало',\n",
    "            'ткань', 'вешалка', 'покрытие', 'корзина', 'коробка', 'ваза', 'этажерка',\n",
    "            'искусственный', 'стеллаж', 'полотенце', 'вешалка-стойка', 'пододеяльник',\n",
    "            'квадро', 'наволочка', 'тряпкодержатель', 'одеяло', 'наматрацник', 'кашпо',\n",
    "            'урна-пепельница', 'ткань', 'полка', 'рукав', 'композиция', 'халат', 'штанга',\n",
    "            'сиденье', 'искусственная', 'крючок', 'карниз', 'вешалка-перекладина', 'складная',\n",
    "            'ключница', 'полки', 'простынь', 'фоторамка', 'кольца', 'махровых', 'коврик',\n",
    "            'мыльница', 'вешалка-сушилка', 'подставка', 'постельного', 'комод', 'почтовый',\n",
    "            'кофр', 'вешалки', 'держатель', 'урна', 'подрукавник', 'вешалка-плечики', 'наматрицник-чехол',\n",
    "            'наматрасник', 'короб', 'ящик', 'штора', 'светильник', 'плечики', 'ковер', 'плед',\n",
    "            'подкладка', 'чехол',\n",
    "        },\n",
    "        'аксессуары и инструменты': {\n",
    "            'ведро', 'ерш', 'сумка-тележка', 'швабра', 'совок',\n",
    "            'тряпка', 'перчатки', 'щетка', 'инструментов', 'инструмент', 'мешок', \n",
    "            'основание', 'угольник', 'сушилка', 'прищепки', 'стремянка', \n",
    "            'коробка', 'корзинка', 'ванна', 'детский', 'бидон', 'таз', 'отжим', 'скребок',\n",
    "            'валик', 'окномойка', 'весы', 'насадка-моп', 'насадка', 'веник', 'бак', 'лестница-стремянка',\n",
    "            'утюг', 'vileda', 'пылесос', 'насадка-отжим', 'сумка', 'вантуз', 'стремянка-табурет',\n",
    "            'подголовник', 'щетка-сметка', 'шило', 'термометр', 'блок', 'ролик', 'фен', 'пробка',\n",
    "            'линейка', 'сметка', 'корыто', 'гладильная', 'тележка', 'щетка-утюжок', 'стремянки',\n",
    "            'комплект', 'дозатор', 'сетка', 'шпингалет', 'стяжки', 'уголок', 'решетка', 'ручка', 'завертка',\n",
    "            'веревка', 'шнур', 'шпагат', 'сверло', 'фиксатор-шар', 'штангенциркуль',\n",
    "            'петля', 'ручка-скоба', 'петля-стрела', 'измерительный', 'сварка', 'сверло-фреза',\n",
    "            'сверел', 'пена', 'пружина', 'крепеж', 'стяжка',\n",
    "        }\n",
    "    }\n",
    "    \n",
    "    for word in name.split():\n",
    "        for category, word_set in CATEGORIES.items():\n",
    "            if word.strip(punctuation) in word_set:\n",
    "                return category\n",
    "    return 'другое'"
   ]
  },
  {
   "cell_type": "code",
   "execution_count": 31,
   "id": "78b5ae7f",
   "metadata": {},
   "outputs": [
    {
     "data": {
      "text/plain": [
       "array(['растения и семена', 'аксессуары и инструменты',\n",
       "       'мебель, декор и текстиль', 'кухонные принадлежности',\n",
       "       'бытовая химия и средства гигиены'], dtype=object)"
      ]
     },
     "execution_count": 31,
     "metadata": {},
     "output_type": "execute_result"
    }
   ],
   "source": [
    "df['category'] = df['product_short'].apply(get_category)\n",
    "df['category'].unique()"
   ]
  },
  {
   "cell_type": "markdown",
   "id": "dab36c69",
   "metadata": {},
   "source": [
    "Нам удалось присвоить категорию каждому товару из транзакций."
   ]
  },
  {
   "cell_type": "markdown",
   "id": "5d8a8ff0",
   "metadata": {},
   "source": [
    "Мы завершили предобработку данных о транзацкиях. Во время предобработки мы избавились от дубликатов, потеряв 26% от исходных данных, рассмотрели аномальные значения, добавили столбцы с данными, а также разделили все товары на категории, теперь можно приступать к анализу данных."
   ]
  },
  {
   "cell_type": "markdown",
   "id": "23237651",
   "metadata": {},
   "source": [
    "## Исследовательский анализ данных"
   ]
  },
  {
   "cell_type": "markdown",
   "id": "8258da4b",
   "metadata": {},
   "source": [
    "### Общий анализ"
   ]
  },
  {
   "cell_type": "markdown",
   "id": "1be76ea9",
   "metadata": {},
   "source": [
    "Посмотрим, как распределились товары по нашим категориям. Для этого посчитаем количество уникальных товаров в каждой категории и простроим график."
   ]
  },
  {
   "cell_type": "code",
   "execution_count": 32,
   "id": "614167e2",
   "metadata": {},
   "outputs": [
    {
     "data": {
      "text/html": [
       "<div>\n",
       "<style scoped>\n",
       "    .dataframe tbody tr th:only-of-type {\n",
       "        vertical-align: middle;\n",
       "    }\n",
       "\n",
       "    .dataframe tbody tr th {\n",
       "        vertical-align: top;\n",
       "    }\n",
       "\n",
       "    .dataframe thead th {\n",
       "        text-align: right;\n",
       "    }\n",
       "</style>\n",
       "<table border=\"1\" class=\"dataframe\">\n",
       "  <thead>\n",
       "    <tr style=\"text-align: right;\">\n",
       "      <th></th>\n",
       "      <th>category</th>\n",
       "      <th>unique_products</th>\n",
       "    </tr>\n",
       "  </thead>\n",
       "  <tbody>\n",
       "    <tr>\n",
       "      <th>0</th>\n",
       "      <td>растения и семена</td>\n",
       "      <td>913</td>\n",
       "    </tr>\n",
       "    <tr>\n",
       "      <th>1</th>\n",
       "      <td>мебель, декор и текстиль</td>\n",
       "      <td>547</td>\n",
       "    </tr>\n",
       "    <tr>\n",
       "      <th>2</th>\n",
       "      <td>аксессуары и инструменты</td>\n",
       "      <td>524</td>\n",
       "    </tr>\n",
       "    <tr>\n",
       "      <th>3</th>\n",
       "      <td>кухонные принадлежности</td>\n",
       "      <td>318</td>\n",
       "    </tr>\n",
       "    <tr>\n",
       "      <th>4</th>\n",
       "      <td>бытовая химия и средства гигиены</td>\n",
       "      <td>31</td>\n",
       "    </tr>\n",
       "  </tbody>\n",
       "</table>\n",
       "</div>"
      ],
      "text/plain": [
       "                           category  unique_products\n",
       "0                 растения и семена              913\n",
       "1          мебель, декор и текстиль              547\n",
       "2          аксессуары и инструменты              524\n",
       "3           кухонные принадлежности              318\n",
       "4  бытовая химия и средства гигиены               31"
      ]
     },
     "execution_count": 32,
     "metadata": {},
     "output_type": "execute_result"
    }
   ],
   "source": [
    "products_by_cat = (\n",
    "    df\n",
    "    .groupby('category', as_index=False)\n",
    "    .agg({'product': 'nunique'})\n",
    "    .rename(columns={'product': 'unique_products'})\n",
    "    .sort_values('unique_products', ascending=False)\n",
    "    .reset_index(drop=True)\n",
    ")\n",
    "products_by_cat"
   ]
  },
  {
   "cell_type": "code",
   "execution_count": 33,
   "id": "27f28248",
   "metadata": {
    "scrolled": false
   },
   "outputs": [
    {
     "data": {
      "image/png": "[encoded data removed]",
      "text/plain": [
       "<Figure size 1152x720 with 1 Axes>"
      ]
     },
     "metadata": {},
     "output_type": "display_data"
    }
   ],
   "source": [
    "plt.figure(figsize=(16, 10))\n",
    "sns.barplot(data=products_by_cat, x='category', y='unique_products')\n",
    "plt.title('Количество уникальных продуктов по категориям')\n",
    "plt.xlabel('Категория')\n",
    "plt.ylabel('Количество продуктов')\n",
    "plt.show()"
   ]
  },
  {
   "cell_type": "markdown",
   "id": "2b4c6c76",
   "metadata": {},
   "source": [
    "Самой крупной по количеству уникальных товаров получилась категория `растения и семена`, около 900 товаров. Меньше всего товаров в категории `бытовая химия и средства гигиены`, 31 товар. В остальных категориях количество уникальных товаров составляет от 300 до 600 шт."
   ]
  },
  {
   "cell_type": "markdown",
   "id": "cd3c35bd",
   "metadata": {},
   "source": [
    "Рассмотрим медианну и квартили стоимости товара у каждой категории и построим ящики с усами."
   ]
  },
  {
   "cell_type": "code",
   "execution_count": 34,
   "id": "fe30ad07",
   "metadata": {},
   "outputs": [
    {
     "data": {
      "text/html": [
       "<div>\n",
       "<style scoped>\n",
       "    .dataframe tbody tr th:only-of-type {\n",
       "        vertical-align: middle;\n",
       "    }\n",
       "\n",
       "    .dataframe tbody tr th {\n",
       "        vertical-align: top;\n",
       "    }\n",
       "\n",
       "    .dataframe thead th {\n",
       "        text-align: right;\n",
       "    }\n",
       "</style>\n",
       "<table border=\"1\" class=\"dataframe\">\n",
       "  <thead>\n",
       "    <tr style=\"text-align: right;\">\n",
       "      <th></th>\n",
       "      <th>count</th>\n",
       "      <th>mean</th>\n",
       "      <th>std</th>\n",
       "      <th>min</th>\n",
       "      <th>25%</th>\n",
       "      <th>50%</th>\n",
       "      <th>75%</th>\n",
       "      <th>max</th>\n",
       "    </tr>\n",
       "    <tr>\n",
       "      <th>category</th>\n",
       "      <th></th>\n",
       "      <th></th>\n",
       "      <th></th>\n",
       "      <th></th>\n",
       "      <th></th>\n",
       "      <th></th>\n",
       "      <th></th>\n",
       "      <th></th>\n",
       "    </tr>\n",
       "  </thead>\n",
       "  <tbody>\n",
       "    <tr>\n",
       "      <th>аксессуары и инструменты</th>\n",
       "      <td>1212.0</td>\n",
       "      <td>1390.828383</td>\n",
       "      <td>1533.092354</td>\n",
       "      <td>19.0</td>\n",
       "      <td>449.0</td>\n",
       "      <td>787.0</td>\n",
       "      <td>1724.00</td>\n",
       "      <td>14917.0</td>\n",
       "    </tr>\n",
       "    <tr>\n",
       "      <th>мебель, декор и текстиль</th>\n",
       "      <td>1041.0</td>\n",
       "      <td>597.066282</td>\n",
       "      <td>849.961385</td>\n",
       "      <td>15.0</td>\n",
       "      <td>59.0</td>\n",
       "      <td>262.0</td>\n",
       "      <td>899.00</td>\n",
       "      <td>7349.0</td>\n",
       "    </tr>\n",
       "    <tr>\n",
       "      <th>кухонные принадлежности</th>\n",
       "      <td>483.0</td>\n",
       "      <td>430.755694</td>\n",
       "      <td>671.408050</td>\n",
       "      <td>19.0</td>\n",
       "      <td>97.0</td>\n",
       "      <td>194.0</td>\n",
       "      <td>479.00</td>\n",
       "      <td>5512.0</td>\n",
       "    </tr>\n",
       "    <tr>\n",
       "      <th>растения и семена</th>\n",
       "      <td>2761.0</td>\n",
       "      <td>150.439696</td>\n",
       "      <td>216.058948</td>\n",
       "      <td>9.0</td>\n",
       "      <td>89.0</td>\n",
       "      <td>127.0</td>\n",
       "      <td>150.00</td>\n",
       "      <td>3599.0</td>\n",
       "    </tr>\n",
       "    <tr>\n",
       "      <th>бытовая химия и средства гигиены</th>\n",
       "      <td>46.0</td>\n",
       "      <td>195.913043</td>\n",
       "      <td>198.380535</td>\n",
       "      <td>15.0</td>\n",
       "      <td>79.0</td>\n",
       "      <td>100.5</td>\n",
       "      <td>222.25</td>\n",
       "      <td>899.0</td>\n",
       "    </tr>\n",
       "  </tbody>\n",
       "</table>\n",
       "</div>"
      ],
      "text/plain": [
       "                                   count         mean          std   min  \\\n",
       "category                                                                   \n",
       "аксессуары и инструменты          1212.0  1390.828383  1533.092354  19.0   \n",
       "мебель, декор и текстиль          1041.0   597.066282   849.961385  15.0   \n",
       "кухонные принадлежности            483.0   430.755694   671.408050  19.0   \n",
       "растения и семена                 2761.0   150.439696   216.058948   9.0   \n",
       "бытовая химия и средства гигиены    46.0   195.913043   198.380535  15.0   \n",
       "\n",
       "                                    25%    50%      75%      max  \n",
       "category                                                          \n",
       "аксессуары и инструменты          449.0  787.0  1724.00  14917.0  \n",
       "мебель, декор и текстиль           59.0  262.0   899.00   7349.0  \n",
       "кухонные принадлежности            97.0  194.0   479.00   5512.0  \n",
       "растения и семена                  89.0  127.0   150.00   3599.0  \n",
       "бытовая химия и средства гигиены   79.0  100.5   222.25    899.0  "
      ]
     },
     "execution_count": 34,
     "metadata": {},
     "output_type": "execute_result"
    }
   ],
   "source": [
    "df.groupby('category')['price'].describe().sort_values('50%', ascending=False)"
   ]
  },
  {
   "cell_type": "code",
   "execution_count": 35,
   "id": "bbde1dfd",
   "metadata": {},
   "outputs": [
    {
     "data": {
      "image/png": "[encoded data removed]",
      "text/plain": [
       "<Figure size 1152x720 with 1 Axes>"
      ]
     },
     "metadata": {},
     "output_type": "display_data"
    }
   ],
   "source": [
    "plt.figure(figsize=(16, 10))\n",
    "sns.boxplot(data=df, y='price', x='category')\n",
    "plt.ylim(0, 6000)\n",
    "plt.title('Ящики с усами стоимости товара по категориям')\n",
    "plt.ylabel('Стоимость')\n",
    "plt.xlabel('Категория')\n",
    "plt.show()"
   ]
  },
  {
   "cell_type": "markdown",
   "id": "6375da4c",
   "metadata": {},
   "source": [
    "Самая высокая медианная стоимость товаров принадлежит категории `аксессуары и инструменты` и составялет *787 руб*. Этой же категории принадлежит самый дорогой товар, который стоит *14917 руб*. После неё идут категории `мебель, декор и текстиль` и `кухонные принадлежности` с медианами стоимости *262 и 194 руб*. Ниже всего медианы стоимости у категорий `растения и семена` и `бытовая химия и средства гигиены`, они составляют *127 и 100 руб*."
   ]
  },
  {
   "cell_type": "markdown",
   "id": "249869b7",
   "metadata": {},
   "source": [
    "Сравним количество проданных товаров каждой категории и выручку, которую они принесли, для этого простроим два пайчарта."
   ]
  },
  {
   "cell_type": "code",
   "execution_count": 36,
   "id": "bcb943f1",
   "metadata": {},
   "outputs": [
    {
     "data": {
      "image/png": "[encoded data removed]",
      "text/plain": [
       "<Figure size 1152x504 with 2 Axes>"
      ]
     },
     "metadata": {},
     "output_type": "display_data"
    }
   ],
   "source": [
    "plt.figure(figsize=(16, 7)).suptitle('Количество проданных товаров и выручка по категориям')\n",
    "\n",
    "data = (\n",
    "    df\n",
    "    .groupby('category')\n",
    "    .agg({'quantity': 'sum', 'total_cost': 'sum'})\n",
    ")\n",
    "i = 1\n",
    "\n",
    "for column in ('quantity', 'total_cost'):\n",
    "    plt.subplot(1, 2, i)\n",
    "    plt.pie(\n",
    "        data=data.sort_values(by=column, ascending=False),\n",
    "        x=column,\n",
    "        labels=data.index,\n",
    "        autopct='%.1f%%'\n",
    "    )\n",
    "    plt.title(column)\n",
    "    i += 1\n",
    "plt.show()"
   ]
  },
  {
   "cell_type": "markdown",
   "id": "a25ce3d5",
   "metadata": {},
   "source": [
    "Почти одинаковое количество товаров было продано в категориях `аксессуары и инструменты` и `бытовая химия и средства гигиены`, около 30% для каждой из этих категорий. При этому по выручке `аксессуары и инструменты` составляют почти половину от общей выручки. `бытовая химия и средства гигиены` принесли 27% от общей выручки. Меньше всего продаж и меньше всего выручки принесла категория `растения и семена`, менее 1% от продаж и менее 0,5% от общей выручки."
   ]
  },
  {
   "cell_type": "markdown",
   "id": "4983fdd0",
   "metadata": {},
   "source": [
    "Мы можем сделать наблюдение, что в категории `бытовая химия и средства гигиены` с большим отрывом меньше всего уникальных товаров, но при этом это одна из самых популярных категорий, и по количеству продаж и по выручке она на втором месте. Возможно, стоит рассмотреть расширение ассортимента товаров этой категории. \n",
    "\n",
    "Обратное можно сказать про категорию `растения и семена`, при своём огромном ассортименте она приносит очень мало продаж и выручки. Возможно, имеет смысл уменьшить ассортимент этой категории, оставив только наиболее популярные позиции."
   ]
  },
  {
   "cell_type": "markdown",
   "id": "b095317f",
   "metadata": {},
   "source": [
    "Рассмотрим, как происходит распределение уникальных заказов по часам дня и по дням недели."
   ]
  },
  {
   "cell_type": "code",
   "execution_count": 37,
   "id": "e201a0e9",
   "metadata": {},
   "outputs": [
    {
     "data": {
      "image/png": "[encoded data removed]",
      "text/plain": [
       "<Figure size 1152x720 with 1 Axes>"
      ]
     },
     "metadata": {},
     "output_type": "display_data"
    }
   ],
   "source": [
    "orders_by_hours = (\n",
    "    df\n",
    "    .groupby('hour', as_index=False)\n",
    "    .agg({'order_id': 'nunique'})\n",
    ")\n",
    "\n",
    "plt.figure(figsize=(16, 10))\n",
    "sns.barplot(data=orders_by_hours, x='hour', y='order_id')\n",
    "plt.title('Количество уникальных заказов по часам')\n",
    "plt.xlabel('Час дня')\n",
    "plt.ylabel('Количество заказов')\n",
    "\n",
    "plt.show()"
   ]
  },
  {
   "cell_type": "code",
   "execution_count": 38,
   "id": "5affa7cc",
   "metadata": {},
   "outputs": [
    {
     "data": {
      "image/png": "[encoded data removed]",
      "text/plain": [
       "<Figure size 1152x720 with 1 Axes>"
      ]
     },
     "metadata": {},
     "output_type": "display_data"
    }
   ],
   "source": [
    "orders_by_weekdays = (\n",
    "    df\n",
    "    .groupby('weekday', as_index=False)\n",
    "    .agg({'order_id': 'nunique'})\n",
    "    .sort_values('weekday')\n",
    ")\n",
    "\n",
    "plt.figure(figsize=(16, 10))\n",
    "sns.barplot(data=orders_by_weekdays, x='weekday', y='order_id')\n",
    "plt.title('Количество уникальных заказов по дням недели')\n",
    "plt.xlabel('День недели')\n",
    "plt.ylabel('Количество заказов')\n",
    "\n",
    "plt.show()"
   ]
  },
  {
   "cell_type": "markdown",
   "id": "068310b5",
   "metadata": {},
   "source": [
    "Мы можем сделать следующие наблюдения:\n",
    "- В течение дня продажи начинают расти с **7:00**\n",
    "- Самый большой пик продаж приходится на период с **10:00** до **15:00**, после чего происходит спад\n",
    "- Второй рост продаж в течение дня приходится на **21:00**, вероятнее всего в это время люди совершают заказ из дома после работы\n",
    "\n",
    "- Больше всего заказов приходится на **понедельник** и **вторник**, при этом лидером является **вторник**\n",
    "- Чуть меньше заказов приходится на **среду** и **четверг**\n",
    "- Количество заказов падает в **пятницу** и падает ещё сильнее в **субботу**, где достигает своего минимума. С **воскресенья** снова начинается рост количества заказов"
   ]
  },
  {
   "cell_type": "markdown",
   "id": "40e8cbd9",
   "metadata": {},
   "source": [
    "Рассмотрим сезонность заказов, для этого построим график среднего количества уникальных заказов по месяцам, и такой же график, но с разделением по категориям."
   ]
  },
  {
   "cell_type": "code",
   "execution_count": 39,
   "id": "8f80090f",
   "metadata": {},
   "outputs": [
    {
     "data": {
      "image/png": "[encoded data removed]",
      "text/plain": [
       "<Figure size 1152x720 with 1 Axes>"
      ]
     },
     "metadata": {},
     "output_type": "display_data"
    }
   ],
   "source": [
    "mean_orders_by_months = (\n",
    "    df\n",
    "    .groupby(['month', 'year', 'category'])\n",
    "    .agg({'order_id': 'nunique'})\n",
    "    .reset_index()\n",
    "    .groupby(['month', 'category'], as_index=False)\n",
    "    .agg({'order_id': 'mean'})\n",
    ")\n",
    "\n",
    "plt.figure(figsize=(16, 10))\n",
    "sns.barplot(data=mean_orders_by_months, x='month', y='order_id')\n",
    "plt.title('Сроеднее количество уникальных заказов по месяцам')\n",
    "plt.xlabel('Месяц')\n",
    "plt.ylabel('Количество заказов')\n",
    "\n",
    "plt.show()"
   ]
  },
  {
   "cell_type": "code",
   "execution_count": 40,
   "id": "c495f100",
   "metadata": {},
   "outputs": [
    {
     "data": {
      "image/png": "[encoded data removed]",
      "text/plain": [
       "<Figure size 1152x720 with 1 Axes>"
      ]
     },
     "metadata": {},
     "output_type": "display_data"
    }
   ],
   "source": [
    "plt.figure(figsize=(16, 10))\n",
    "sns.barplot(data=mean_orders_by_months, x='month', y='order_id', hue='category')\n",
    "plt.title('Среднее количество уникальных заказов по месяцам по категориям')\n",
    "plt.xlabel('Месяц')\n",
    "plt.ylabel('Количество заказов')\n",
    "plt.legend(title='Категория')\n",
    "plt.show()"
   ]
  },
  {
   "cell_type": "markdown",
   "id": "93b08129",
   "metadata": {},
   "source": [
    "Мы можем сделать следующие наблюдения:\n",
    "- В целом продукция магазина чаще всего покупается в период с **октября** по **январь**, при этом лидером является **декабрь**\n",
    "- Реже всего продукция покупается с **мая** по **сентябрь**, с небольшим повышением в **июле**. Меньше всего заказов происходит в **июне**\n",
    "- У категории `аксессуары и инструменты` пик продаж приходится на **октябрь**, после него идут **декабрь** и **ноябрь**. Меньше всего продаж этой категории приходится на **май**\n",
    "- У категории `растения и семена` пик продаж приходится на **декабрь** и **январь**. Дополнительное повышение продаж мы можем наблюдать в **апреле** и **мае**. Меньше всего продаж приходится на **август**\n",
    "- У категории `кухонные принадлежности` пик продаж приходится на период с **октября** по **январь**, лидером является **декабрь**, вероятно, товары этой категории чаще всего покупают в подарок на новый год. Меньше всего товаров этой категории покупают в период с **апреля** по **сентябрь**.\n",
    "- Схожая ситуация у категории `мебель, декор и текстиль`, пик приходится на период с **октября** по **январь**, лидером является **декабрь**, тоже можем сделать вывод, что предметы этой категории покупаются в подарок. Меньше всего продаж в **мае**\n",
    "- У категории `бытовая химия и средства гигиены` больше всего продаж в **ноябре**, и меньше всего в **мае**"
   ]
  },
  {
   "cell_type": "markdown",
   "id": "633c5484",
   "metadata": {},
   "source": [
    "### ABC-анализ"
   ]
  },
  {
   "cell_type": "markdown",
   "id": "73a5e597",
   "metadata": {},
   "source": [
    "Для того, чтобы выделить **основной** и **дополнительный** ассортимент, проведём два ABC-теста, один по выручке, другой по количеству проданного товара. Договоримся, что будем применять следующие категории ассортимента\n",
    "- `A` - приоритетные товары, до 80% от общей выручки / количества продаж\n",
    "- `B` - обычные товары, 15% от общей выручки / количества продаж\n",
    "- `B` - товары-аутсайдеры, оставшиеся 5% от общей выручки / количества продаж"
   ]
  },
  {
   "cell_type": "code",
   "execution_count": 41,
   "id": "11a4bcdc",
   "metadata": {},
   "outputs": [],
   "source": [
    "def get_inventory_category(value: float) -> str:\n",
    "    '''Функция для присваивания категории товара.\n",
    "    '''\n",
    "    if value < 80:\n",
    "        return 'A'\n",
    "    elif 80 <= value < 95:\n",
    "        return 'B'\n",
    "    return 'C'"
   ]
  },
  {
   "cell_type": "markdown",
   "id": "03c87741",
   "metadata": {},
   "source": [
    "Для начала проведём ABC-тест для выручки."
   ]
  },
  {
   "cell_type": "code",
   "execution_count": 42,
   "id": "650610cb",
   "metadata": {},
   "outputs": [
    {
     "data": {
      "text/html": [
       "<div>\n",
       "<style scoped>\n",
       "    .dataframe tbody tr th:only-of-type {\n",
       "        vertical-align: middle;\n",
       "    }\n",
       "\n",
       "    .dataframe tbody tr th {\n",
       "        vertical-align: top;\n",
       "    }\n",
       "\n",
       "    .dataframe thead th {\n",
       "        text-align: right;\n",
       "    }\n",
       "</style>\n",
       "<table border=\"1\" class=\"dataframe\">\n",
       "  <thead>\n",
       "    <tr style=\"text-align: right;\">\n",
       "      <th></th>\n",
       "      <th>product</th>\n",
       "      <th>revenue</th>\n",
       "      <th>revenue_percent</th>\n",
       "      <th>cum_revenue_percent</th>\n",
       "      <th>category</th>\n",
       "    </tr>\n",
       "  </thead>\n",
       "  <tbody>\n",
       "    <tr>\n",
       "      <th>0</th>\n",
       "      <td>Простынь вафельная 200х180 см WELLNESS RW180-0...</td>\n",
       "      <td>53232</td>\n",
       "      <td>1.355796</td>\n",
       "      <td>1.355796</td>\n",
       "      <td>A</td>\n",
       "    </tr>\n",
       "    <tr>\n",
       "      <th>1</th>\n",
       "      <td>Сумка-тележка 2-х колесная Gimi Argo синяя</td>\n",
       "      <td>50405</td>\n",
       "      <td>1.283793</td>\n",
       "      <td>2.639589</td>\n",
       "      <td>A</td>\n",
       "    </tr>\n",
       "    <tr>\n",
       "      <th>2</th>\n",
       "      <td>Вешалки мягкие для деликатных вещей 3 шт шоколад</td>\n",
       "      <td>49596</td>\n",
       "      <td>1.263188</td>\n",
       "      <td>3.902778</td>\n",
       "      <td>A</td>\n",
       "    </tr>\n",
       "    <tr>\n",
       "      <th>3</th>\n",
       "      <td>Тележка багажная DELTA ТБР-22 синий грузоподъе...</td>\n",
       "      <td>33992</td>\n",
       "      <td>0.865761</td>\n",
       "      <td>4.768539</td>\n",
       "      <td>A</td>\n",
       "    </tr>\n",
       "    <tr>\n",
       "      <th>4</th>\n",
       "      <td>Муляж ЯБЛОКО 9 см красное</td>\n",
       "      <td>32702</td>\n",
       "      <td>0.832906</td>\n",
       "      <td>5.601445</td>\n",
       "      <td>A</td>\n",
       "    </tr>\n",
       "  </tbody>\n",
       "</table>\n",
       "</div>"
      ],
      "text/plain": [
       "                                             product  revenue  \\\n",
       "0  Простынь вафельная 200х180 см WELLNESS RW180-0...    53232   \n",
       "1         Сумка-тележка 2-х колесная Gimi Argo синяя    50405   \n",
       "2   Вешалки мягкие для деликатных вещей 3 шт шоколад    49596   \n",
       "3  Тележка багажная DELTA ТБР-22 синий грузоподъе...    33992   \n",
       "4                          Муляж ЯБЛОКО 9 см красное    32702   \n",
       "\n",
       "   revenue_percent  cum_revenue_percent category  \n",
       "0         1.355796             1.355796        A  \n",
       "1         1.283793             2.639589        A  \n",
       "2         1.263188             3.902778        A  \n",
       "3         0.865761             4.768539        A  \n",
       "4         0.832906             5.601445        A  "
      ]
     },
     "execution_count": 42,
     "metadata": {},
     "output_type": "execute_result"
    }
   ],
   "source": [
    "abc_revenue = (\n",
    "    df\n",
    "    .groupby('product', as_index=False)\n",
    "    .agg({'total_cost': 'sum'})\n",
    "    .rename(columns={'total_cost': 'revenue'})\n",
    "    .sort_values('revenue', ascending=False)\n",
    "    .reset_index(drop=True)\n",
    ")\n",
    "abc_revenue['revenue_percent'] = abc_revenue['revenue'] / abc_revenue['revenue'].sum() * 100\n",
    "abc_revenue['cum_revenue_percent'] = abc_revenue['revenue_percent'].cumsum()\n",
    "abc_revenue['category'] = abc_revenue['cum_revenue_percent'].apply(get_inventory_category)\n",
    "abc_revenue.head()"
   ]
  },
  {
   "cell_type": "markdown",
   "id": "ff4154fe",
   "metadata": {},
   "source": [
    "Теперь повторим то же самое, но для количества продаж."
   ]
  },
  {
   "cell_type": "code",
   "execution_count": 43,
   "id": "7ebf99bd",
   "metadata": {},
   "outputs": [
    {
     "data": {
      "text/html": [
       "<div>\n",
       "<style scoped>\n",
       "    .dataframe tbody tr th:only-of-type {\n",
       "        vertical-align: middle;\n",
       "    }\n",
       "\n",
       "    .dataframe tbody tr th {\n",
       "        vertical-align: top;\n",
       "    }\n",
       "\n",
       "    .dataframe thead th {\n",
       "        text-align: right;\n",
       "    }\n",
       "</style>\n",
       "<table border=\"1\" class=\"dataframe\">\n",
       "  <thead>\n",
       "    <tr style=\"text-align: right;\">\n",
       "      <th></th>\n",
       "      <th>product</th>\n",
       "      <th>sales</th>\n",
       "      <th>sales_percent</th>\n",
       "      <th>cum_sales_percent</th>\n",
       "      <th>category</th>\n",
       "    </tr>\n",
       "  </thead>\n",
       "  <tbody>\n",
       "    <tr>\n",
       "      <th>0</th>\n",
       "      <td>Муляж ЯБЛОКО 9 см красное</td>\n",
       "      <td>618</td>\n",
       "      <td>4.641731</td>\n",
       "      <td>4.641731</td>\n",
       "      <td>A</td>\n",
       "    </tr>\n",
       "    <tr>\n",
       "      <th>1</th>\n",
       "      <td>Вешалки мягкие для деликатных вещей 3 шт шоколад</td>\n",
       "      <td>335</td>\n",
       "      <td>2.516148</td>\n",
       "      <td>7.157879</td>\n",
       "      <td>A</td>\n",
       "    </tr>\n",
       "    <tr>\n",
       "      <th>2</th>\n",
       "      <td>Ручка-скоба РС-100 белая *Трибатрон*, 1108035</td>\n",
       "      <td>201</td>\n",
       "      <td>1.509689</td>\n",
       "      <td>8.667568</td>\n",
       "      <td>A</td>\n",
       "    </tr>\n",
       "    <tr>\n",
       "      <th>3</th>\n",
       "      <td>Крепеж для пружины дверной, 1107055</td>\n",
       "      <td>170</td>\n",
       "      <td>1.276851</td>\n",
       "      <td>9.944419</td>\n",
       "      <td>A</td>\n",
       "    </tr>\n",
       "    <tr>\n",
       "      <th>4</th>\n",
       "      <td>Плечики пластмассовые Размер 52 - 54 Тула 1205158</td>\n",
       "      <td>160</td>\n",
       "      <td>1.201743</td>\n",
       "      <td>11.146162</td>\n",
       "      <td>A</td>\n",
       "    </tr>\n",
       "  </tbody>\n",
       "</table>\n",
       "</div>"
      ],
      "text/plain": [
       "                                             product  sales  sales_percent  \\\n",
       "0                          Муляж ЯБЛОКО 9 см красное    618       4.641731   \n",
       "1   Вешалки мягкие для деликатных вещей 3 шт шоколад    335       2.516148   \n",
       "2      Ручка-скоба РС-100 белая *Трибатрон*, 1108035    201       1.509689   \n",
       "3                Крепеж для пружины дверной, 1107055    170       1.276851   \n",
       "4  Плечики пластмассовые Размер 52 - 54 Тула 1205158    160       1.201743   \n",
       "\n",
       "   cum_sales_percent category  \n",
       "0           4.641731        A  \n",
       "1           7.157879        A  \n",
       "2           8.667568        A  \n",
       "3           9.944419        A  \n",
       "4          11.146162        A  "
      ]
     },
     "execution_count": 43,
     "metadata": {},
     "output_type": "execute_result"
    }
   ],
   "source": [
    "abc_sales = (\n",
    "    df\n",
    "    .groupby('product', as_index=False)\n",
    "    .agg({'quantity': 'sum'})\n",
    "    .rename(columns={'quantity': 'sales'})\n",
    "    .sort_values('sales', ascending=False)\n",
    "    .reset_index(drop=True)\n",
    ")\n",
    "abc_sales['sales_percent'] = abc_sales['sales'] / abc_sales['sales'].sum() * 100\n",
    "abc_sales['cum_sales_percent'] = abc_sales['sales_percent'].cumsum()\n",
    "abc_sales['category'] = abc_sales['cum_sales_percent'].apply(get_inventory_category)\n",
    "abc_sales.head()"
   ]
  },
  {
   "cell_type": "markdown",
   "id": "b06619d6",
   "metadata": {},
   "source": [
    "Объединим результаты в один датафрейм и получим общую категорию."
   ]
  },
  {
   "cell_type": "code",
   "execution_count": 44,
   "id": "b3ac1388",
   "metadata": {},
   "outputs": [
    {
     "data": {
      "text/html": [
       "<div>\n",
       "<style scoped>\n",
       "    .dataframe tbody tr th:only-of-type {\n",
       "        vertical-align: middle;\n",
       "    }\n",
       "\n",
       "    .dataframe tbody tr th {\n",
       "        vertical-align: top;\n",
       "    }\n",
       "\n",
       "    .dataframe thead th {\n",
       "        text-align: right;\n",
       "    }\n",
       "</style>\n",
       "<table border=\"1\" class=\"dataframe\">\n",
       "  <thead>\n",
       "    <tr style=\"text-align: right;\">\n",
       "      <th></th>\n",
       "      <th>product</th>\n",
       "      <th>inventory_category</th>\n",
       "    </tr>\n",
       "  </thead>\n",
       "  <tbody>\n",
       "    <tr>\n",
       "      <th>0</th>\n",
       "      <td>Простынь вафельная 200х180 см WELLNESS RW180-0...</td>\n",
       "      <td>AA</td>\n",
       "    </tr>\n",
       "    <tr>\n",
       "      <th>1</th>\n",
       "      <td>Сумка-тележка 2-х колесная Gimi Argo синяя</td>\n",
       "      <td>AA</td>\n",
       "    </tr>\n",
       "    <tr>\n",
       "      <th>2</th>\n",
       "      <td>Вешалки мягкие для деликатных вещей 3 шт шоколад</td>\n",
       "      <td>AA</td>\n",
       "    </tr>\n",
       "    <tr>\n",
       "      <th>3</th>\n",
       "      <td>Тележка багажная DELTA ТБР-22 синий грузоподъе...</td>\n",
       "      <td>AA</td>\n",
       "    </tr>\n",
       "    <tr>\n",
       "      <th>4</th>\n",
       "      <td>Муляж ЯБЛОКО 9 см красное</td>\n",
       "      <td>AA</td>\n",
       "    </tr>\n",
       "  </tbody>\n",
       "</table>\n",
       "</div>"
      ],
      "text/plain": [
       "                                             product inventory_category\n",
       "0  Простынь вафельная 200х180 см WELLNESS RW180-0...                 AA\n",
       "1         Сумка-тележка 2-х колесная Gimi Argo синяя                 AA\n",
       "2   Вешалки мягкие для деликатных вещей 3 шт шоколад                 AA\n",
       "3  Тележка багажная DELTA ТБР-22 синий грузоподъе...                 AA\n",
       "4                          Муляж ЯБЛОКО 9 см красное                 AA"
      ]
     },
     "execution_count": 44,
     "metadata": {},
     "output_type": "execute_result"
    }
   ],
   "source": [
    "inventory_category = abc_revenue[['product', 'category']].merge(abc_sales[['product', 'category']], on='product')\n",
    "inventory_category['inventory_category'] = inventory_category['category_x'] + inventory_category['category_y']\n",
    "inventory_category = inventory_category[['product', 'inventory_category']]\n",
    "inventory_category.head()"
   ]
  },
  {
   "cell_type": "markdown",
   "id": "829cf271",
   "metadata": {},
   "source": [
    "Разделим получившиеся категории на два типа ассортимента и добавим информацию об этом в основной датафрейм. Делить будем следующим образом:\n",
    "- `основной` - категории AA, AB, BA, AC, CA\n",
    "- `дополнительный` - категории BB, BC, CB, CC"
   ]
  },
  {
   "cell_type": "code",
   "execution_count": 45,
   "id": "667fa2be",
   "metadata": {},
   "outputs": [],
   "source": [
    "inventory_category['inventory_group'] = inventory_category['inventory_category'].apply(\n",
    "    lambda x: 'основной' if x in ('AA', 'AB', 'BA', 'AC', 'CA') else 'дополнительный'\n",
    ")"
   ]
  },
  {
   "cell_type": "code",
   "execution_count": 46,
   "id": "c2cfa919",
   "metadata": {},
   "outputs": [
    {
     "data": {
      "text/html": [
       "<div>\n",
       "<style scoped>\n",
       "    .dataframe tbody tr th:only-of-type {\n",
       "        vertical-align: middle;\n",
       "    }\n",
       "\n",
       "    .dataframe tbody tr th {\n",
       "        vertical-align: top;\n",
       "    }\n",
       "\n",
       "    .dataframe thead th {\n",
       "        text-align: right;\n",
       "    }\n",
       "</style>\n",
       "<table border=\"1\" class=\"dataframe\">\n",
       "  <thead>\n",
       "    <tr style=\"text-align: right;\">\n",
       "      <th></th>\n",
       "      <th>date</th>\n",
       "      <th>customer_id</th>\n",
       "      <th>order_id</th>\n",
       "      <th>product</th>\n",
       "      <th>quantity</th>\n",
       "      <th>price</th>\n",
       "      <th>total_cost</th>\n",
       "      <th>year</th>\n",
       "      <th>month</th>\n",
       "      <th>weekday</th>\n",
       "      <th>hour</th>\n",
       "      <th>product_short</th>\n",
       "      <th>category</th>\n",
       "      <th>inventory_category</th>\n",
       "      <th>inventory_group</th>\n",
       "    </tr>\n",
       "  </thead>\n",
       "  <tbody>\n",
       "    <tr>\n",
       "      <th>0</th>\n",
       "      <td>2018-10-01</td>\n",
       "      <td>ee47d746-6d2f-4d3c-9622-c31412542920</td>\n",
       "      <td>68477</td>\n",
       "      <td>Комнатное растение в горшке Алое Вера, d12, h30</td>\n",
       "      <td>1</td>\n",
       "      <td>142</td>\n",
       "      <td>142</td>\n",
       "      <td>2018</td>\n",
       "      <td>Октябрь</td>\n",
       "      <td>Понедельник</td>\n",
       "      <td>0</td>\n",
       "      <td>комнатное растение</td>\n",
       "      <td>растения и семена</td>\n",
       "      <td>BA</td>\n",
       "      <td>основной</td>\n",
       "    </tr>\n",
       "    <tr>\n",
       "      <th>1</th>\n",
       "      <td>2018-10-01</td>\n",
       "      <td>ee47d746-6d2f-4d3c-9622-c31412542920</td>\n",
       "      <td>68477</td>\n",
       "      <td>Комнатное растение в горшке Кофе Арабика, d12,...</td>\n",
       "      <td>1</td>\n",
       "      <td>194</td>\n",
       "      <td>194</td>\n",
       "      <td>2018</td>\n",
       "      <td>Октябрь</td>\n",
       "      <td>Понедельник</td>\n",
       "      <td>0</td>\n",
       "      <td>комнатное растение</td>\n",
       "      <td>растения и семена</td>\n",
       "      <td>CB</td>\n",
       "      <td>дополнительный</td>\n",
       "    </tr>\n",
       "    <tr>\n",
       "      <th>2</th>\n",
       "      <td>2018-10-01</td>\n",
       "      <td>ee47d746-6d2f-4d3c-9622-c31412542920</td>\n",
       "      <td>68477</td>\n",
       "      <td>Радермахера d-12 см h-20 см</td>\n",
       "      <td>1</td>\n",
       "      <td>112</td>\n",
       "      <td>112</td>\n",
       "      <td>2018</td>\n",
       "      <td>Октябрь</td>\n",
       "      <td>Понедельник</td>\n",
       "      <td>0</td>\n",
       "      <td>радермахера d-12</td>\n",
       "      <td>растения и семена</td>\n",
       "      <td>CC</td>\n",
       "      <td>дополнительный</td>\n",
       "    </tr>\n",
       "    <tr>\n",
       "      <th>3</th>\n",
       "      <td>2018-10-01</td>\n",
       "      <td>ee47d746-6d2f-4d3c-9622-c31412542920</td>\n",
       "      <td>68477</td>\n",
       "      <td>Хризолидокарпус Лутесценс d-9 см</td>\n",
       "      <td>1</td>\n",
       "      <td>179</td>\n",
       "      <td>179</td>\n",
       "      <td>2018</td>\n",
       "      <td>Октябрь</td>\n",
       "      <td>Понедельник</td>\n",
       "      <td>0</td>\n",
       "      <td>хризолидокарпус лутесценс</td>\n",
       "      <td>растения и семена</td>\n",
       "      <td>CB</td>\n",
       "      <td>дополнительный</td>\n",
       "    </tr>\n",
       "    <tr>\n",
       "      <th>4</th>\n",
       "      <td>2018-10-01</td>\n",
       "      <td>ee47d746-6d2f-4d3c-9622-c31412542920</td>\n",
       "      <td>68477</td>\n",
       "      <td>Циперус Зумула d-12 см h-25 см</td>\n",
       "      <td>1</td>\n",
       "      <td>112</td>\n",
       "      <td>112</td>\n",
       "      <td>2018</td>\n",
       "      <td>Октябрь</td>\n",
       "      <td>Понедельник</td>\n",
       "      <td>0</td>\n",
       "      <td>циперус зумула</td>\n",
       "      <td>растения и семена</td>\n",
       "      <td>AA</td>\n",
       "      <td>основной</td>\n",
       "    </tr>\n",
       "  </tbody>\n",
       "</table>\n",
       "</div>"
      ],
      "text/plain": [
       "        date                           customer_id  order_id  \\\n",
       "0 2018-10-01  ee47d746-6d2f-4d3c-9622-c31412542920     68477   \n",
       "1 2018-10-01  ee47d746-6d2f-4d3c-9622-c31412542920     68477   \n",
       "2 2018-10-01  ee47d746-6d2f-4d3c-9622-c31412542920     68477   \n",
       "3 2018-10-01  ee47d746-6d2f-4d3c-9622-c31412542920     68477   \n",
       "4 2018-10-01  ee47d746-6d2f-4d3c-9622-c31412542920     68477   \n",
       "\n",
       "                                             product  quantity  price  \\\n",
       "0    Комнатное растение в горшке Алое Вера, d12, h30         1    142   \n",
       "1  Комнатное растение в горшке Кофе Арабика, d12,...         1    194   \n",
       "2                        Радермахера d-12 см h-20 см         1    112   \n",
       "3                   Хризолидокарпус Лутесценс d-9 см         1    179   \n",
       "4                     Циперус Зумула d-12 см h-25 см         1    112   \n",
       "\n",
       "   total_cost  year    month      weekday  hour              product_short  \\\n",
       "0         142  2018  Октябрь  Понедельник     0         комнатное растение   \n",
       "1         194  2018  Октябрь  Понедельник     0         комнатное растение   \n",
       "2         112  2018  Октябрь  Понедельник     0           радермахера d-12   \n",
       "3         179  2018  Октябрь  Понедельник     0  хризолидокарпус лутесценс   \n",
       "4         112  2018  Октябрь  Понедельник     0             циперус зумула   \n",
       "\n",
       "            category inventory_category inventory_group  \n",
       "0  растения и семена                 BA        основной  \n",
       "1  растения и семена                 CB  дополнительный  \n",
       "2  растения и семена                 CC  дополнительный  \n",
       "3  растения и семена                 CB  дополнительный  \n",
       "4  растения и семена                 AA        основной  "
      ]
     },
     "execution_count": 46,
     "metadata": {},
     "output_type": "execute_result"
    }
   ],
   "source": [
    "df = df.merge(inventory_category, how='left', on='product')\n",
    "df.head()"
   ]
  },
  {
   "cell_type": "markdown",
   "id": "77264099",
   "metadata": {},
   "source": [
    "С помощью пайчартов рассмотрим, как по полученным после ABC-тестов категориям распределились количество продаж и выручка."
   ]
  },
  {
   "cell_type": "code",
   "execution_count": 47,
   "id": "66638599",
   "metadata": {
    "scrolled": false
   },
   "outputs": [
    {
     "data": {
      "image/png": "[encoded data removed]",
      "text/plain": [
       "<Figure size 1152x504 with 2 Axes>"
      ]
     },
     "metadata": {},
     "output_type": "display_data"
    }
   ],
   "source": [
    "plt.figure(figsize=(16, 7)).suptitle('Количество проданных товаров и выручка по категориям из ABC-теста')\n",
    "\n",
    "data = (\n",
    "    df\n",
    "    .groupby('inventory_category')\n",
    "    .agg({'quantity': 'sum', 'total_cost': 'sum'})\n",
    ")\n",
    "i = 1\n",
    "\n",
    "for column in ('quantity', 'total_cost'):\n",
    "    plt.subplot(1, 2, i)\n",
    "    plt.pie(\n",
    "        data=data.sort_values(by=column, ascending=False),\n",
    "        x=column,\n",
    "        labels=data.index,\n",
    "        autopct='%.1f%%'\n",
    "    )\n",
    "    plt.title(column)\n",
    "    i += 1\n",
    "plt.show()"
   ]
  },
  {
   "cell_type": "markdown",
   "id": "f4af1c90",
   "metadata": {},
   "source": [
    "Результаты ABC-теста подвтердились. И по продажам и по выручке основную долю занимают товары категорий **AA** и **AB**. Самую меньшую долю занимают товары категории **CC**."
   ]
  },
  {
   "cell_type": "markdown",
   "id": "b5b2a1ba",
   "metadata": {},
   "source": [
    "Мы также сформировали две группы ассортимента, **основной** и **дополнительный**. Посмотрим, сколько уникальных товаров попало в каждую из этих группы."
   ]
  },
  {
   "cell_type": "code",
   "execution_count": 48,
   "id": "fef26b19",
   "metadata": {},
   "outputs": [
    {
     "data": {
      "text/html": [
       "<div>\n",
       "<style scoped>\n",
       "    .dataframe tbody tr th:only-of-type {\n",
       "        vertical-align: middle;\n",
       "    }\n",
       "\n",
       "    .dataframe tbody tr th {\n",
       "        vertical-align: top;\n",
       "    }\n",
       "\n",
       "    .dataframe thead th {\n",
       "        text-align: right;\n",
       "    }\n",
       "</style>\n",
       "<table border=\"1\" class=\"dataframe\">\n",
       "  <thead>\n",
       "    <tr style=\"text-align: right;\">\n",
       "      <th></th>\n",
       "      <th>inventory_group</th>\n",
       "      <th>unique_products</th>\n",
       "    </tr>\n",
       "  </thead>\n",
       "  <tbody>\n",
       "    <tr>\n",
       "      <th>0</th>\n",
       "      <td>дополнительный</td>\n",
       "      <td>1274</td>\n",
       "    </tr>\n",
       "    <tr>\n",
       "      <th>1</th>\n",
       "      <td>основной</td>\n",
       "      <td>1059</td>\n",
       "    </tr>\n",
       "  </tbody>\n",
       "</table>\n",
       "</div>"
      ],
      "text/plain": [
       "  inventory_group  unique_products\n",
       "0  дополнительный             1274\n",
       "1        основной             1059"
      ]
     },
     "execution_count": 48,
     "metadata": {},
     "output_type": "execute_result"
    }
   ],
   "source": [
    "df.groupby('inventory_group', as_index=False).agg({'product': 'nunique'}).rename(columns={'product': 'unique_products'})"
   ]
  },
  {
   "cell_type": "markdown",
   "id": "53594430",
   "metadata": {},
   "source": [
    "И рассмотрим, как разделились группы товаров внутри категорий."
   ]
  },
  {
   "cell_type": "code",
   "execution_count": 49,
   "id": "213b5210",
   "metadata": {},
   "outputs": [
    {
     "data": {
      "image/png": "[encoded data removed]",
      "text/plain": [
       "<Figure size 1152x720 with 1 Axes>"
      ]
     },
     "metadata": {},
     "output_type": "display_data"
    }
   ],
   "source": [
    "products_by_cat_and_group = (\n",
    "    df\n",
    "    .groupby(['category', 'inventory_group'], as_index=False)\n",
    "    .agg({'product': 'nunique'})\n",
    "    .rename(columns={'product': 'unique_products'})\n",
    "    .sort_values('unique_products', ascending=False)\n",
    "    .reset_index(drop=True)\n",
    ")\n",
    "products_by_cat_and_group\n",
    "plt.figure(figsize=(16, 10))\n",
    "sns.barplot(data=products_by_cat_and_group, x='category', y='unique_products', hue='inventory_group')\n",
    "plt.title('Количество уникальных продуктов по категориям с разделением по группам')\n",
    "plt.xlabel('Категория')\n",
    "plt.ylabel('Количество продуктов')\n",
    "plt.legend(title='Ассортимент')\n",
    "plt.show()"
   ]
  },
  {
   "cell_type": "markdown",
   "id": "4c4ac45d",
   "metadata": {},
   "source": [
    "В категориях `растения и семена`, `кухонные принадлежности` и `бытовая химия и средства гигиены` количество товаров **дополнительной** значительно превышает **основную** группу. В категориях `аксессуары и инструменты` и `мебель, декор и текстиль` наоборот, товаров **основной** группы больше. "
   ]
  },
  {
   "cell_type": "markdown",
   "id": "abe6a65c",
   "metadata": {},
   "source": [
    "### Проверка гипотез"
   ]
  },
  {
   "cell_type": "markdown",
   "id": "862b6a59",
   "metadata": {},
   "source": [
    "Сформулируем и проверим гипотезы.\n",
    "\n",
    "**Нулевая гипотеза (H_0)**: средняя выручка заказов, совершённых во вторник, и заказов, совершённых в пятницу, равна.\n",
    "\n",
    "**Альтернативная гипотеза (H_1)**: средняя выручка заказов, совершённых во вторник, и заказов, совершённых в пятницу, *не* равна.\n",
    "\n",
    "Для проверки этой гипотезы мы будем использовать **t-критерий Стьюдента** и установим уровень статистической значимости alpha = **0.05**."
   ]
  },
  {
   "cell_type": "code",
   "execution_count": 50,
   "id": "2ac8c594",
   "metadata": {},
   "outputs": [
    {
     "name": "stdout",
     "output_type": "stream",
     "text": [
      "p-значение: 0.7123585733538469\n",
      "Не получилось отвергнуть нулевую гипотезу\n"
     ]
    }
   ],
   "source": [
    "sample_a = df.query('weekday == \"Вторник\"')['total_cost']\n",
    "sample_b = df.query('weekday == \"Пятница\"')['total_cost']\n",
    "\n",
    "alpha = .05\n",
    "\n",
    "results = st.ttest_ind(\n",
    "    sample_a,\n",
    "    sample_b,\n",
    "    equal_var=False, # у нас нет оснований полагать, что дисперсии у генеральных совокупностей одинаковые\n",
    ")\n",
    "\n",
    "print('p-значение:', results.pvalue)\n",
    "if results.pvalue < alpha:\n",
    "    print('Отвергаем нулевую гипотезу')\n",
    "else:\n",
    "    print('Не получилось отвергнуть нулевую гипотезу')"
   ]
  },
  {
   "cell_type": "markdown",
   "id": "649ea2a5",
   "metadata": {},
   "source": [
    "Мы не смогли отвергнуть нулевую гипотезу о том, что средняя выручка заказов, совершённых во вторник, и заказов, совершённых в пятницу, равна. Для проверки результатов посмотрим на значение средней выручки в эти дни.  "
   ]
  },
  {
   "cell_type": "code",
   "execution_count": 51,
   "id": "02010a37",
   "metadata": {},
   "outputs": [
    {
     "data": {
      "text/plain": [
       "weekday\n",
       "Вторник    834.241758\n",
       "Пятница    792.618656\n",
       "Name: total_cost, dtype: float64"
      ]
     },
     "execution_count": 51,
     "metadata": {},
     "output_type": "execute_result"
    }
   ],
   "source": [
    "df.groupby('weekday')['total_cost'].mean().loc[['Вторник', 'Пятница']]"
   ]
  },
  {
   "cell_type": "markdown",
   "id": "6962a8ed",
   "metadata": {},
   "source": [
    "**Нулевая гипотеза (H_0)**: средняя выручка заказов из группы основного ассортимента и заказов из группы дополнительного ассортимента равна.\n",
    "\n",
    "**Альтернативная гипотеза (H_1)**: средняя выручка заказов из группы основного ассортимента и заказов из группы дополнительного ассортимента *не* равна.\n",
    "\n",
    "Для проверки этой гипотезы мы тоже будем использовать **t-критерий Стьюдента** с уровенем статистической значимости alpha = **0.05**."
   ]
  },
  {
   "cell_type": "code",
   "execution_count": 52,
   "id": "afc7c68c",
   "metadata": {},
   "outputs": [
    {
     "name": "stdout",
     "output_type": "stream",
     "text": [
      "p-значение: 4.9053134466048984e-77\n",
      "Отвергаем нулевую гипотезу\n"
     ]
    }
   ],
   "source": [
    "sample_a = df.query('inventory_group == \"основной\"')['total_cost']\n",
    "sample_b = df.query('inventory_group == \"дополнительный\"')['total_cost']\n",
    "\n",
    "results = st.ttest_ind(\n",
    "    sample_a,\n",
    "    sample_b,\n",
    "    equal_var=False, # у нас нет оснований полагать, что дисперсии у генеральных совокупностей одинаковые\n",
    ")\n",
    "\n",
    "print('p-значение:', results.pvalue)\n",
    "if results.pvalue < alpha:\n",
    "    print('Отвергаем нулевую гипотезу')\n",
    "else:\n",
    "    print('Не получилось отвергнуть нулевую гипотезу')"
   ]
  },
  {
   "cell_type": "markdown",
   "id": "93ab1c83",
   "metadata": {},
   "source": [
    "Удалось отвергнуть нулевую гипотезу, мы принимаем гипотезу о том, что средняя выручка заказов из группы основного ассортимента и заказов из группы дополнительного ассортимента **не** равна. Для проверки результатов посмотрим на значение средней выручки в этих ассортиментных группах."
   ]
  },
  {
   "cell_type": "code",
   "execution_count": 53,
   "id": "a7b22ca4",
   "metadata": {},
   "outputs": [
    {
     "data": {
      "text/plain": [
       "inventory_group\n",
       "дополнительный    284.990374\n",
       "основной          906.264760\n",
       "Name: total_cost, dtype: float64"
      ]
     },
     "execution_count": 53,
     "metadata": {},
     "output_type": "execute_result"
    }
   ],
   "source": [
    "df.groupby('inventory_group')['total_cost'].mean()"
   ]
  },
  {
   "cell_type": "markdown",
   "id": "26c1771a",
   "metadata": {},
   "source": [
    "## Общий вывод"
   ]
  },
  {
   "cell_type": "markdown",
   "id": "a0de38ca",
   "metadata": {},
   "source": [
    "Мы провели исследование товарного ассортимента для того, чтобы разделить его на две группы, основной и дополнительный ассортимент. Для целей исследования мы использовали данные о транзакциях.\n",
    "\n",
    "Нами был получен датафрейм, состоящий из 6 столбцов и 7474 строк. Мы провели предобработку данных, во время которой мы удалили дубликаты, которые составляли **26%** от общих данных. Мы рассмотрели аномальные и выбивающиеся значения. Мы также добавили в датафрейм дополнительные столбцы с временными данными, общую стоимость транзакции. Каждый из товаров мы распредели в одну из пяти категорий:\n",
    "- `растения и семена`\n",
    "- `кухонные принадлежности`\n",
    "- `бытовая химия и средства гигиены`\n",
    "- `мебель, декор и текстиль`\n",
    "- `аксессуары и инструменты`\n",
    "\n",
    "Мы провели общий анализ данных и пришли к следующим наблюдениям:\n",
    "- больше всего уникальных товаров попало в категорию `растения и семена`, около **900** товаров, меньше всего в категорию `бытовая химия и средства гигиены`, **31** товар\n",
    "- самая высокая медианная стоимость товаров у категории `аксессуары и инструменты`, она состалвяет составялет **787 руб**. Самая низкая - у категории `кухонные принадлежности`, она составляет **194 руб**\n",
    "- по трети от общего количества проданного товара занимают категории `аксессуары и инструменты` и `бытовая химия и средства гигиены`. Меньше всего проданного товара у категории `растения и семена`\n",
    "- половину от общей выручки занимают товары категории `аксессуары и инструменты`. Менее 0,5% выручки принесли товары категории `растения и семена`\n",
    "\n",
    "Принимая во внимания эти наблюдения, мы рекомендуем пересмотреть ассортимент категорий `растения и семена` и `бытовая химия и средства гигиены`. В категории `растения и семена` больше всего уникальных товаров, однако они продаются очень мало, и приносят крайне малый процент выручки. Товары категории `бытовая химия и средства гигиены`, наоборот, очень хорошо продаются, но в их ассортименте меньше всего товаров.\n",
    "\n",
    "Затем мы рассмотрели распределние уникальных заказов по временным отрезкам и сделали следующие наблюдения:\n",
    "- в течение дня самый большой пик продаж приходится на период с **10:00** до **15:00**. Второе повышение количества заказов мы можем наблюдать вечером, в **21:00**\n",
    "- больше всего заказов совершается в **понедельник** и **вторник**, затем происходит спад. Меньше всего заказов совершается в **субботу**\n",
    "- больше всего заказов происходит в период с **октября** по **январь**. Самый низкий сезон - с **мая** по **сентрябрь**\n",
    "\n",
    "Мы можем дать рекомендацию проводить распродажи и различные акции в выявленные нами периоды низких продаж для того, чтобы переместить покупателей из пиковых временных отрезков в менее популярные.\n",
    "\n",
    "Мы выполнили ABC-тесты по количеству проданного товара, а также по выручке. По результатам тестирования мы смогли распределить все товары в две ассортиментные группы: **основная** и **дополнительная**. В **основную** группу вошли 1059 товаров, в **дополнительную** - 1274 товара. Мы также рассмотрели распределение этих групп по категориями товаров и заметили, что количество товаров **дополнительной** группы превышает **основную** группу в следующих категориях: `растения и семена`, `кухонные принадлежности` и `бытовая химия и средства гигены`. В категориях `аксессуары и инструменты` и `мебель, декор и текстиль` товаров **основной** группы больше.\n",
    "\n",
    "Мы проверили две гипотезы и выяснили, что:\n",
    "- средняя выручка заказов, совершённых во вторник, и заказов, совершённых в пятницу, **равна**\n",
    "- средняя выручка заказов из группы основного ассортимента и заказов из группы дополнительного ассортимента **не равна**"
   ]
  },
  {
   "cell_type": "markdown",
   "id": "28d6cd2c",
   "metadata": {},
   "source": [
    "## Презентация"
   ]
  },
  {
   "cell_type": "markdown",
   "id": "13659ef6",
   "metadata": {},
   "source": [
    "По результатам исследования была составлена презентация <a href=\"https://drive.google.com/file/d/1V3Q4qxr4OXFM7BjIXtTy72wIXCV8oLVT/view?usp=sharing\">по этой ссылке</a>."
   ]
  },
  {
   "cell_type": "markdown",
   "id": "2e33c7d6",
   "metadata": {},
   "source": [
    "## Дашборд"
   ]
  },
  {
   "cell_type": "markdown",
   "id": "361fbcc1",
   "metadata": {},
   "source": [
    "Дашборд доступен <a href=\"https://public.tableau.com/views/E-commerce-Practicum/Dashboard1?:language=en-US&publish=yes&:display_count=n&:origin=viz_share_link\">по этой ссылке</a>."
   ]
  }
 ],
 "metadata": {
  "kernelspec": {
   "display_name": "Python 3 (ipykernel)",
   "language": "python",
   "name": "python3"
  },
  "language_info": {
   "codemirror_mode": {
    "name": "ipython",
    "version": 3
   },
   "file_extension": ".py",
   "mimetype": "text/x-python",
   "name": "python",
   "nbconvert_exporter": "python",
   "pygments_lexer": "ipython3",
   "version": "3.9.13"
  },
  "toc": {
   "base_numbering": "0",
   "nav_menu": {},
   "number_sections": true,
   "sideBar": true,
   "skip_h1_title": true,
   "title_cell": "Table of Contents",
   "title_sidebar": "Contents",
   "toc_cell": true,
   "toc_position": {},
   "toc_section_display": true,
   "toc_window_display": false
  }
 },
 "nbformat": 4,
 "nbformat_minor": 5
}
